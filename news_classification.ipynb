{
  "cells": [
    {
      "cell_type": "code",
      "execution_count": 1,
      "metadata": {
        "id": "hPDkJqReDb-Q",
        "colab": {
          "base_uri": "https://localhost:8080/"
        },
        "outputId": "fcd24543-2bf6-4e41-a87c-fa36a1242aa3"
      },
      "outputs": [
        {
          "output_type": "stream",
          "name": "stdout",
          "text": [
            "Looking in indexes: https://pypi.org/simple, https://us-python.pkg.dev/colab-wheels/public/simple/\n",
            "Collecting unrar\n",
            "  Downloading unrar-0.4-py3-none-any.whl (25 kB)\n",
            "Installing collected packages: unrar\n",
            "Successfully installed unrar-0.4\n",
            "Looking in indexes: https://pypi.org/simple, https://us-python.pkg.dev/colab-wheels/public/simple/\n",
            "Collecting rarfile\n",
            "  Downloading rarfile-4.0-py3-none-any.whl (28 kB)\n",
            "Installing collected packages: rarfile\n",
            "Successfully installed rarfile-4.0\n"
          ]
        }
      ],
      "source": [
        "!pip install unrar\n",
        "!pip install rarfile"
      ]
    },
    {
      "cell_type": "code",
      "execution_count": 2,
      "metadata": {
        "id": "F7nTEAlL5eGx"
      },
      "outputs": [],
      "source": [
        "import pandas as pd\n",
        "import numpy as np\n",
        "import re\n",
        "import rarfile\n",
        "import zipfile\n",
        "import codecs\n",
        "import pickle\n",
        "from sklearn.model_selection import train_test_split"
      ]
    },
    {
      "cell_type": "code",
      "execution_count": 3,
      "metadata": {
        "id": "wVflMFa4LAWT"
      },
      "outputs": [],
      "source": [
        "from keras.models import Sequential\n",
        "from tensorflow.keras.layers import Dense, Embedding, Conv1D, GlobalMaxPooling1D, Dropout, Bidirectional, LSTM\n",
        "from tensorflow.keras.preprocessing.text import Tokenizer\n",
        "from tensorflow.keras.models import Model, load_model\n",
        "from tensorflow.keras.preprocessing.sequence import pad_sequences\n",
        "from tensorflow.keras.utils import to_categorical"
      ]
    },
    {
      "cell_type": "markdown",
      "source": [
        "## **Upload Hamshahri file from google drive**"
      ],
      "metadata": {
        "id": "eiab4_8qeb2H"
      }
    },
    {
      "cell_type": "code",
      "execution_count": 4,
      "metadata": {
        "colab": {
          "base_uri": "https://localhost:8080/"
        },
        "id": "KnYcrY2QZPhW",
        "outputId": "eab4253c-4e31-4b2e-ba8d-f2c91e072b94"
      },
      "outputs": [
        {
          "output_type": "stream",
          "name": "stdout",
          "text": [
            "/usr/local/lib/python3.7/dist-packages/gdown/cli.py:131: FutureWarning: Option `--id` was deprecated in version 4.3.1 and will be removed in 5.0. You don't need to pass it anymore to use a file ID.\n",
            "  category=FutureWarning,\n",
            "Downloading...\n",
            "From: https://drive.google.com/uc?id=1D3yt99D0GcCRCbdKbUQGxbqjkeh91hTg\n",
            "To: /content/hamshahri.rar\n",
            "100% 873M/873M [00:08<00:00, 104MB/s]\n"
          ]
        }
      ],
      "source": [
        "! gdown --id 1D3yt99D0GcCRCbdKbUQGxbqjkeh91hTg"
      ]
    },
    {
      "cell_type": "code",
      "execution_count": 5,
      "metadata": {
        "id": "xqKmosm4drAw"
      },
      "outputs": [],
      "source": [
        "def extract_rar_file(path, extract_path):\n",
        "  files = []\n",
        "  with rarfile.RarFile(path, 'r') as rf:\n",
        "    files = rf.namelist()\n",
        "    rf.extractall(extract_path)\n",
        "    \n",
        "  for file in files:\n",
        "    path_to_file = fr\"{extract_path}\\{file}\"  "
      ]
    },
    {
      "cell_type": "code",
      "source": [
        "def extract_zip_file(path, extract_path):\n",
        "  with zipfile.ZipFile(path, 'r') as zip_ref:\n",
        "      zip_ref.extractall(extract_path)"
      ],
      "metadata": {
        "id": "Ehh850sweyVt"
      },
      "execution_count": 6,
      "outputs": []
    },
    {
      "cell_type": "markdown",
      "source": [
        "extract hamshahri file"
      ],
      "metadata": {
        "id": "dcodlvuweqiu"
      }
    },
    {
      "cell_type": "code",
      "execution_count": 7,
      "metadata": {
        "id": "XIju1ZE6nKFn"
      },
      "outputs": [],
      "source": [
        "path = 'hamshahri.rar'\n",
        "extract_path = 'hamshahri'\n",
        "extract_rar_file(path, extract_path)"
      ]
    },
    {
      "cell_type": "markdown",
      "source": [
        "extract hamshahri-corpus file"
      ],
      "metadata": {
        "id": "ssJ9PCgge1ho"
      }
    },
    {
      "cell_type": "code",
      "execution_count": 8,
      "metadata": {
        "id": "MKq4HZHXnVlG"
      },
      "outputs": [],
      "source": [
        "hamshahri_corpus_path = 'hamshahri/hamshahriold/Corpus/Hamshahri-Corpus.zip'\n",
        "hamshahri_corpus_extract_path = 'hamshahri/hamshahriold/Corpus/hamshahri-corpus'\n",
        "extract_zip_file(hamshahri_corpus_path, hamshahri_corpus_extract_path)\n",
        "HAMSHAHRI_CORPUS_PATH = 'hamshahri/hamshahriold/Corpus/hamshahri-corpus/Hamshahri-Corpus.txt'"
      ]
    },
    {
      "cell_type": "markdown",
      "source": [
        "extract stopwords file"
      ],
      "metadata": {
        "id": "7PqevQMQe7qg"
      }
    },
    {
      "cell_type": "code",
      "source": [
        "hamshahri_stopwords_path = 'hamshahri/hamshahriold/Corpus/PersianStopWords.zip'\n",
        "hamshahri_stopwords_extract_path = 'hamshahri/hamshahriold/Corpus/hamshahri-stopwords'\n",
        "extract_zip_file(hamshahri_stopwords_path, hamshahri_stopwords_extract_path)\n",
        "HAMSHAHRI_STOPWORDS_PATH = '/content/hamshahri/hamshahriold/Corpus/hamshahri-stopwords/PersianStopWords.txt'"
      ],
      "metadata": {
        "id": "Ho8SGXXaeRcY"
      },
      "execution_count": 9,
      "outputs": []
    },
    {
      "cell_type": "markdown",
      "source": [
        "### **Read Hamshahri Corpus**"
      ],
      "metadata": {
        "id": "FQxkSvxgsg3M"
      }
    },
    {
      "cell_type": "code",
      "execution_count": 13,
      "metadata": {
        "colab": {
          "base_uri": "https://localhost:8080/"
        },
        "id": "Epow6ei1EAwv",
        "outputId": "a245aa97-2de3-49d6-fa93-9a6b92ab20a4"
      },
      "outputs": [
        {
          "output_type": "stream",
          "name": "stdout",
          "text": [
            "CPU times: user 1min 2s, sys: 2.18 s, total: 1min 4s\n",
            "Wall time: 1min 9s\n"
          ]
        }
      ],
      "source": [
        "%%time\n",
        "with codecs.open(HAMSHAHRI_CORPUS_PATH, \"r\", \"utf-8\") as text:\n",
        "    sentences = []\n",
        "    pattern = re.compile(\".Cat\")\n",
        "    s = ' '\n",
        "    for line in text:\n",
        "      for match in re.finditer(pattern, line):\n",
        "        sentences.append((line,s))\n",
        "        s = ' '\n",
        "      s += line         "
      ]
    },
    {
      "cell_type": "code",
      "execution_count": 14,
      "metadata": {
        "id": "syJC-30qpp5P"
      },
      "outputs": [],
      "source": [
        "category_punctuation = [re.sub('\\.Cat\\t', '', line[0]) for line in sentences]\n",
        "sentences_punctuation = [line[1].replace('\\n', '') for line in sentences] \n",
        "sentences_punctuation = [line.replace('\\r', '') for line in sentences_punctuation] \n",
        "sentences_punctuation = [re.sub('\\.Cat\\s\\w+', '', sentence) for sentence in sentences_punctuation]\n",
        "sentences_punctuation = [re.sub('\\.DID\\\\t\\d+S\\d+.Date\\\\t\\d+\\\\\\\\\\d+\\\\\\\\\\d+', '', sentence) for sentence in sentences_punctuation]"
      ]
    },
    {
      "cell_type": "code",
      "execution_count": 15,
      "metadata": {
        "colab": {
          "base_uri": "https://localhost:8080/"
        },
        "id": "lAZAiaUCQubQ",
        "outputId": "be4912b1-f4e6-4b06-9ad5-28dd8c1c4687"
      },
      "outputs": [
        {
          "output_type": "stream",
          "name": "stdout",
          "text": [
            "  در زندگي گروهي از طريق هنر نگاهي به نمايشگاه آثار هنري احمد طباطبايي موضوع آثار طباطبايي مورچگان هستند ولي در باطن چنين ظاهري، اين انسانهاهستند كه در هيبتي حشره گونه در تابلوهاي نقاشي نمايشگر گوشه هايي از زندگي خود هستند. مورچه اي را ديده ايم كه بار سنگين خودرا به دوش مي كشد و در بين راه خسته مي شود يا در نتيجه پيش آمدن يك حادثه اتفاقي بار از دستش رها شده و براي گريز از خطر آن را مي گذارد و فرار مي كند. اما ساعتي بعد به همان نقطه برمي گردد و بار را دوباره به دوش كشيده نفس زنان و عرق ريزان آن را به منزل او مي رساند مي داند كه اگر در ميان راه از بين رفت، يك مورچه ديگر با همان استعداد غريزه عملي را كه او شروع كرده به پايان مي رساند. پس او مي داند كه بعد از خودش نسل آينده اي وجود دارد كه بايد از مزاياي آن استفاده نمايد. چه داستان درازي، انتها و پاياني هم ميليونها ندارد سال گذشته، ميلياردها سال ديگر خواهد گذشت وهمين برنامه ميليونها بار ديگر تجديد مي شود. پس بايد گفت سير حيات و تكامل پايان ناپذير است. اسرار جهان پاياني ندارد. پس اگر بخواهيم به يك چيز پايان ناپذير برسيم چون انتهايي در بين نيست، به جايي نمي رسيم. (از كتاب مورچگان، نوشته موريس مترلينگ )مورچگان در تابلوهاي نقاشي احمد طباطبايي جايگاه ويژه اي دارند. در نمايشگاهي كه از آثار اين هنرمند (اول تا 23 خرداد ) در نگارخانه برگ برپا شد 36 اثر با اين موضوع به نمايش عمومي درآمد. طباطبايي در مدت 18 سالي كه به نقاشي مي پردازد همواره بر روي موضوع مورچگان كار كرده است. وي درباره علت انتخاب چنين سوژه اي مي گويد: در يكي از روزهاي زندگي خود بسيار غمگين بودم و زماني كه به خواب رفتم، مورچه اي را ديدم. سپس تصميم گرفتم طرح آن را بكشم. اين كار به نظرم جالب آمد و از آن روز به بعد اين نوع طراحي را ادامه دادم كه در هر بار نقاشي در اين مدلها تغييراتي را ايجاد مي كنم، ضمن اينكه اين حشره به دليل زندگي منظمي كه دارد، برايم جذاب است. نظم يكي از اركان آثار نقاشي طباطبايي است. عليرغم موضوعات ساده، تركيببندي دو بعدي و تنوع كم در رنگ آميزي سطوح، استحكام طرحها و نقوش بر روي پرده اثر نشان از نظمي دروني دارد. اين نظم خود را در آناتومي و اندام مورچگان به نوع ديگري نشان مي دهد. مشخصه اصلي مورچگان دست و پا و تقسيم بندي سه گانه بدن آنها است و مهمتر آنكه روي شش دست و پا راه مي روند. اما در نقاشيهاي طباطبايي آنها روي دو پا مثل انسان مي ايستند. سرهايشان بزرگترين اندام بدنشان است و چشمها به طور اغراق آميزي در سرجا گرفته است. هدف نقاش از اين تغييرات در اندام مورچگان؟ چيست باآنكه خود نقاش گفته و از نقاشيها استنباط  مي شود، موضوع آثار طباطبايي مورچگان است اما در باطن چنين ظاهري، اين انسانها هستند كه در هيبتي حشره گونه در تابلوهاي نقاش نمايشگر گوشه هايي از زندگي خود هستند. آنها با اندام سياه خود در زمينه اي خاكستري بادكنكهاي رنگي به دست دارند و عروسي مي كنند. تغيير در اندام مورچگان باعث شده چهره و حالات سر و صورت تنها اندام بازگو كننده احساسات موضوع در تابلوي نقاشي نباشد بلكه تمام بدن اين  مورچه - انسانهاحسي را پديد مي آورند كه در تابلو سايه مي اندازد. احساساتي نظير به دام افتادن در دام يك عنكبوت، مادري كردن، تفاهم و دوستي. نكته ديگر، نقاشي درختان به صورت اسليمي هاي ايراني در حاشيه تابلوها با خطوط و رنگهايي زنده و شاداب است. اين نقشها در تقابل بصري با  مورچه - انسانهاست اما در يك هماهنگي دروني با مفهوم مورچه - انسانها به تصوير كشيده شده اند. رنگهاي شاد سبز با ميوه هاي سرخ، شكل انساني محيط را افزايش مي دهند اما اين مورچگان كه به طور گروهي در اين فضا به سر مي برند، يك اصل را مي دانند; جاودانگي در زندگي گروهي و انتقال احساسات به ديگران از طريق هنر است. همان راهي كه مترلينگ به آن اشاره كرد. \n"
          ]
        }
      ],
      "source": [
        "print(sentences_punctuation[1])"
      ]
    },
    {
      "cell_type": "code",
      "execution_count": 16,
      "metadata": {
        "id": "rchDKH0gtLDb"
      },
      "outputs": [],
      "source": [
        "corpus = []\n",
        "for i in range(len(sentences)):\n",
        "  corpus.append({'text': sentences_punctuation[i], 'category': category_punctuation[i-1]})"
      ]
    },
    {
      "cell_type": "code",
      "execution_count": 17,
      "metadata": {
        "colab": {
          "base_uri": "https://localhost:8080/"
        },
        "id": "Q3X_ZiuOtqx0",
        "outputId": "dd1bab19-aeb0-4ba3-e5d9-3551c7652a8e"
      },
      "outputs": [
        {
          "output_type": "execute_result",
          "data": {
            "text/plain": [
              "{'category': 'adabh\\r\\n',\n",
              " 'text': '  در زندگي گروهي از طريق هنر نگاهي به نمايشگاه آثار هنري احمد طباطبايي موضوع آثار طباطبايي مورچگان هستند ولي در باطن چنين ظاهري، اين انسانهاهستند كه در هيبتي حشره گونه در تابلوهاي نقاشي نمايشگر گوشه هايي از زندگي خود هستند. مورچه اي را ديده ايم كه بار سنگين خودرا به دوش مي كشد و در بين راه خسته مي شود يا در نتيجه پيش آمدن يك حادثه اتفاقي بار از دستش رها شده و براي گريز از خطر آن را مي گذارد و فرار مي كند. اما ساعتي بعد به همان نقطه برمي گردد و بار را دوباره به دوش كشيده نفس زنان و عرق ريزان آن را به منزل او مي رساند مي داند كه اگر در ميان راه از بين رفت، يك مورچه ديگر با همان استعداد غريزه عملي را كه او شروع كرده به پايان مي رساند. پس او مي داند كه بعد از خودش نسل آينده اي وجود دارد كه بايد از مزاياي آن استفاده نمايد. چه داستان درازي، انتها و پاياني هم ميليونها ندارد سال گذشته، ميلياردها سال ديگر خواهد گذشت وهمين برنامه ميليونها بار ديگر تجديد مي شود. پس بايد گفت سير حيات و تكامل پايان ناپذير است. اسرار جهان پاياني ندارد. پس اگر بخواهيم به يك چيز پايان ناپذير برسيم چون انتهايي در بين نيست، به جايي نمي رسيم. (از كتاب مورچگان، نوشته موريس مترلينگ )مورچگان در تابلوهاي نقاشي احمد طباطبايي جايگاه ويژه اي دارند. در نمايشگاهي كه از آثار اين هنرمند (اول تا 23 خرداد ) در نگارخانه برگ برپا شد 36 اثر با اين موضوع به نمايش عمومي درآمد. طباطبايي در مدت 18 سالي كه به نقاشي مي پردازد همواره بر روي موضوع مورچگان كار كرده است. وي درباره علت انتخاب چنين سوژه اي مي گويد: در يكي از روزهاي زندگي خود بسيار غمگين بودم و زماني كه به خواب رفتم، مورچه اي را ديدم. سپس تصميم گرفتم طرح آن را بكشم. اين كار به نظرم جالب آمد و از آن روز به بعد اين نوع طراحي را ادامه دادم كه در هر بار نقاشي در اين مدلها تغييراتي را ايجاد مي كنم، ضمن اينكه اين حشره به دليل زندگي منظمي كه دارد، برايم جذاب است. نظم يكي از اركان آثار نقاشي طباطبايي است. عليرغم موضوعات ساده، تركيببندي دو بعدي و تنوع كم در رنگ آميزي سطوح، استحكام طرحها و نقوش بر روي پرده اثر نشان از نظمي دروني دارد. اين نظم خود را در آناتومي و اندام مورچگان به نوع ديگري نشان مي دهد. مشخصه اصلي مورچگان دست و پا و تقسيم بندي سه گانه بدن آنها است و مهمتر آنكه روي شش دست و پا راه مي روند. اما در نقاشيهاي طباطبايي آنها روي دو پا مثل انسان مي ايستند. سرهايشان بزرگترين اندام بدنشان است و چشمها به طور اغراق آميزي در سرجا گرفته است. هدف نقاش از اين تغييرات در اندام مورچگان؟ چيست باآنكه خود نقاش گفته و از نقاشيها استنباط  مي شود، موضوع آثار طباطبايي مورچگان است اما در باطن چنين ظاهري، اين انسانها هستند كه در هيبتي حشره گونه در تابلوهاي نقاش نمايشگر گوشه هايي از زندگي خود هستند. آنها با اندام سياه خود در زمينه اي خاكستري بادكنكهاي رنگي به دست دارند و عروسي مي كنند. تغيير در اندام مورچگان باعث شده چهره و حالات سر و صورت تنها اندام بازگو كننده احساسات موضوع در تابلوي نقاشي نباشد بلكه تمام بدن اين  مورچه - انسانهاحسي را پديد مي آورند كه در تابلو سايه مي اندازد. احساساتي نظير به دام افتادن در دام يك عنكبوت، مادري كردن، تفاهم و دوستي. نكته ديگر، نقاشي درختان به صورت اسليمي هاي ايراني در حاشيه تابلوها با خطوط و رنگهايي زنده و شاداب است. اين نقشها در تقابل بصري با  مورچه - انسانهاست اما در يك هماهنگي دروني با مفهوم مورچه - انسانها به تصوير كشيده شده اند. رنگهاي شاد سبز با ميوه هاي سرخ، شكل انساني محيط را افزايش مي دهند اما اين مورچگان كه به طور گروهي در اين فضا به سر مي برند، يك اصل را مي دانند; جاودانگي در زندگي گروهي و انتقال احساسات به ديگران از طريق هنر است. همان راهي كه مترلينگ به آن اشاره كرد. '}"
            ]
          },
          "metadata": {},
          "execution_count": 17
        }
      ],
      "source": [
        "corpus[1]"
      ]
    },
    {
      "cell_type": "code",
      "source": [
        "uncleaned_data = pd.DataFrame(corpus[1:], columns=['text', 'category'])"
      ],
      "metadata": {
        "id": "BbQUgIych4OW"
      },
      "execution_count": 18,
      "outputs": []
    },
    {
      "cell_type": "markdown",
      "source": [
        "### **Read StopWords**"
      ],
      "metadata": {
        "id": "07XyI46zsxhA"
      }
    },
    {
      "cell_type": "code",
      "source": [
        "def read_stop_words(filename):\n",
        "  with open(filename) as stopwords_file:\n",
        "    stopwords = stopwords_file.readlines()\n",
        "  stopwords = [line.replace('\\n', '') for line in stopwords] \n",
        "  return stopwords"
      ],
      "metadata": {
        "id": "IWjHRHEwf-FW"
      },
      "execution_count": 19,
      "outputs": []
    },
    {
      "cell_type": "code",
      "source": [
        "stopwords = read_stop_words(HAMSHAHRI_STOPWORDS_PATH)\n",
        "print(len(stopwords))"
      ],
      "metadata": {
        "colab": {
          "base_uri": "https://localhost:8080/"
        },
        "id": "tz6hdMtngJUf",
        "outputId": "0fdf100b-6bd8-4212-b732-9b239fcb5152"
      },
      "execution_count": 59,
      "outputs": [
        {
          "output_type": "stream",
          "name": "stdout",
          "text": [
            "796\n"
          ]
        }
      ]
    },
    {
      "cell_type": "code",
      "source": [
        "# install hazm library\n",
        "!pip install hazm\n",
        "from hazm import word_tokenize"
      ],
      "metadata": {
        "colab": {
          "base_uri": "https://localhost:8080/"
        },
        "id": "1rNr0dm0gkR6",
        "outputId": "5b9a6964-40f5-4291-ce0b-e27e75232cfd"
      },
      "execution_count": 21,
      "outputs": [
        {
          "output_type": "stream",
          "name": "stdout",
          "text": [
            "Looking in indexes: https://pypi.org/simple, https://us-python.pkg.dev/colab-wheels/public/simple/\n",
            "Requirement already satisfied: hazm in /usr/local/lib/python3.7/dist-packages (0.7.0)\n",
            "Requirement already satisfied: libwapiti>=0.2.1 in /usr/local/lib/python3.7/dist-packages (from hazm) (0.2.1)\n",
            "Requirement already satisfied: nltk==3.3 in /usr/local/lib/python3.7/dist-packages (from hazm) (3.3)\n",
            "Requirement already satisfied: six in /usr/local/lib/python3.7/dist-packages (from nltk==3.3->hazm) (1.15.0)\n"
          ]
        }
      ]
    },
    {
      "cell_type": "code",
      "source": [
        "corpus = uncleaned_data['text'].values"
      ],
      "metadata": {
        "id": "GeW1Jm2SiDul"
      },
      "execution_count": 22,
      "outputs": []
    },
    {
      "cell_type": "code",
      "source": [
        "corpus[0]"
      ],
      "metadata": {
        "colab": {
          "base_uri": "https://localhost:8080/",
          "height": 127
        },
        "id": "0592mEvGiLAd",
        "outputId": "b78e244d-4b6e-46e0-a4ee-6b40be973f78"
      },
      "execution_count": 23,
      "outputs": [
        {
          "output_type": "execute_result",
          "data": {
            "text/plain": [
              "'  در زندگي گروهي از طريق هنر نگاهي به نمايشگاه آثار هنري احمد طباطبايي موضوع آثار طباطبايي مورچگان هستند ولي در باطن چنين ظاهري، اين انسانهاهستند كه در هيبتي حشره گونه در تابلوهاي نقاشي نمايشگر گوشه هايي از زندگي خود هستند. مورچه اي را ديده ايم كه بار سنگين خودرا به دوش مي كشد و در بين راه خسته مي شود يا در نتيجه پيش آمدن يك حادثه اتفاقي بار از دستش رها شده و براي گريز از خطر آن را مي گذارد و فرار مي كند. اما ساعتي بعد به همان نقطه برمي گردد و بار را دوباره به دوش كشيده نفس زنان و عرق ريزان آن را به منزل او مي رساند مي داند كه اگر در ميان راه از بين رفت، يك مورچه ديگر با همان استعداد غريزه عملي را كه او شروع كرده به پايان مي رساند. پس او مي داند كه بعد از خودش نسل آينده اي وجود دارد كه بايد از مزاياي آن استفاده نمايد. چه داستان درازي، انتها و پاياني هم ميليونها ندارد سال گذشته، ميلياردها سال ديگر خواهد گذشت وهمين برنامه ميليونها بار ديگر تجديد مي شود. پس بايد گفت سير حيات و تكامل پايان ناپذير است. اسرار جهان پاياني ندارد. پس اگر بخواهيم به يك چيز پايان ناپذير برسيم چون انتهايي در بين نيست، به جايي نمي رسيم. (از كتاب مورچگان، نوشته موريس مترلينگ )مورچگان در تابلوهاي نقاشي احمد طباطبايي جايگاه ويژه اي دارند. در نمايشگاهي كه از آثار اين هنرمند (اول تا 23 خرداد ) در نگارخانه برگ برپا شد 36 اثر با اين موضوع به نمايش عمومي درآمد. طباطبايي در مدت 18 سالي كه به نقاشي مي پردازد همواره بر روي موضوع مورچگان كار كرده است. وي درباره علت انتخاب چنين سوژه اي مي گويد: در يكي از روزهاي زندگي خود بسيار غمگين بودم و زماني كه به خواب رفتم، مورچه اي را ديدم. سپس تصميم گرفتم طرح آن را بكشم. اين كار به نظرم جالب آمد و از آن روز به بعد اين نوع طراحي را ادامه دادم كه در هر بار نقاشي در اين مدلها تغييراتي را ايجاد مي كنم، ضمن اينكه اين حشره به دليل زندگي منظمي كه دارد، برايم جذاب است. نظم يكي از اركان آثار نقاشي طباطبايي است. عليرغم موضوعات ساده، تركيببندي دو بعدي و تنوع كم در رنگ آميزي سطوح، استحكام طرحها و نقوش بر روي پرده اثر نشان از نظمي دروني دارد. اين نظم خود را در آناتومي و اندام مورچگان به نوع ديگري نشان مي دهد. مشخصه اصلي مورچگان دست و پا و تقسيم بندي سه گانه بدن آنها است و مهمتر آنكه روي شش دست و پا راه مي روند. اما در نقاشيهاي طباطبايي آنها روي دو پا مثل انسان مي ايستند. سرهايشان بزرگترين اندام بدنشان است و چشمها به طور اغراق آميزي در سرجا گرفته است. هدف نقاش از اين تغييرات در اندام مورچگان؟ چيست باآنكه خود نقاش گفته و از نقاشيها استنباط  مي شود، موضوع آثار طباطبايي مورچگان است اما در باطن چنين ظاهري، اين انسانها هستند كه در هيبتي حشره گونه در تابلوهاي نقاش نمايشگر گوشه هايي از زندگي خود هستند. آنها با اندام سياه خود در زمينه اي خاكستري بادكنكهاي رنگي به دست دارند و عروسي مي كنند. تغيير در اندام مورچگان باعث شده چهره و حالات سر و صورت تنها اندام بازگو كننده احساسات موضوع در تابلوي نقاشي نباشد بلكه تمام بدن اين  مورچه - انسانهاحسي را پديد مي آورند كه در تابلو سايه مي اندازد. احساساتي نظير به دام افتادن در دام يك عنكبوت، مادري كردن، تفاهم و دوستي. نكته ديگر، نقاشي درختان به صورت اسليمي هاي ايراني در حاشيه تابلوها با خطوط و رنگهايي زنده و شاداب است. اين نقشها در تقابل بصري با  مورچه - انسانهاست اما در يك هماهنگي دروني با مفهوم مورچه - انسانها به تصوير كشيده شده اند. رنگهاي شاد سبز با ميوه هاي سرخ، شكل انساني محيط را افزايش مي دهند اما اين مورچگان كه به طور گروهي در اين فضا به سر مي برند، يك اصل را مي دانند; جاودانگي در زندگي گروهي و انتقال احساسات به ديگران از طريق هنر است. همان راهي كه مترلينگ به آن اشاره كرد. '"
            ],
            "application/vnd.google.colaboratory.intrinsic+json": {
              "type": "string"
            }
          },
          "metadata": {},
          "execution_count": 23
        }
      ]
    },
    {
      "cell_type": "code",
      "source": [
        "word_tokenized = [word_tokenize(t) for t in corpus]"
      ],
      "metadata": {
        "id": "jNtzcKsegt5v"
      },
      "execution_count": 28,
      "outputs": []
    },
    {
      "cell_type": "code",
      "source": [
        "word_tokenized_filtered = [[w for w in sentence if w not in stopwords] for sentence in word_tokenized]"
      ],
      "metadata": {
        "id": "KjfpsO_3gzcn"
      },
      "execution_count": 29,
      "outputs": []
    },
    {
      "cell_type": "code",
      "source": [
        "del corpus\n",
        "del stopwords\n",
        "del word_tokenized"
      ],
      "metadata": {
        "id": "xbIHoBpDiqXm"
      },
      "execution_count": 33,
      "outputs": []
    },
    {
      "cell_type": "code",
      "source": [
        "corpus = []\n",
        "for sentence in word_tokenized_filtered:\n",
        "  s = ' '\n",
        "  for w in sentence:\n",
        "    s += w + ' '\n",
        "  corpus.append(s)  "
      ],
      "metadata": {
        "id": "RlRKdw-5hKH2"
      },
      "execution_count": 31,
      "outputs": []
    },
    {
      "cell_type": "code",
      "execution_count": null,
      "metadata": {
        "id": "f2zWs1IsSpdS"
      },
      "outputs": [],
      "source": [
        "del word_tokenized_filtered"
      ]
    },
    {
      "cell_type": "code",
      "source": [
        "data = pd.DataFrame(columns=['text', 'category'])"
      ],
      "metadata": {
        "id": "L27cd-1Pr7Ot"
      },
      "execution_count": null,
      "outputs": []
    },
    {
      "cell_type": "markdown",
      "source": [
        "### **Crate DataFrame**"
      ],
      "metadata": {
        "id": "n_TwnhrTs578"
      }
    },
    {
      "cell_type": "code",
      "source": [
        "data['text'] = corpus\n",
        "data['category'] = uncleaned_data['category'].str.replace('\\\\r\\\\n','')"
      ],
      "metadata": {
        "colab": {
          "base_uri": "https://localhost:8080/"
        },
        "id": "dURyRogar-9L",
        "outputId": "ed24e7ea-57c4-4acf-fa30-7ec382874078"
      },
      "execution_count": null,
      "outputs": [
        {
          "output_type": "stream",
          "name": "stderr",
          "text": [
            "/usr/local/lib/python3.7/dist-packages/ipykernel_launcher.py:2: FutureWarning: The default value of regex will change from True to False in a future version.\n",
            "  \n"
          ]
        }
      ]
    },
    {
      "cell_type": "code",
      "execution_count": 174,
      "metadata": {
        "colab": {
          "base_uri": "https://localhost:8080/",
          "height": 206
        },
        "id": "iiVo_EN97Uyx",
        "outputId": "e1f895ec-240c-468f-ceeb-177cc61a45f7"
      },
      "outputs": [
        {
          "output_type": "execute_result",
          "data": {
            "text/plain": [
              "                                                text category\n",
              "0   زندگي گروهي طريق هنر نگاهي نمايشگاه آثار هنري...    adabh\n",
              "1   هنري جهان نمايشگاه هنر خدمت ديكتاتورها نمايشگ...    adabh\n",
              "2   نگارخانه گالري گلستان نمايشگاه طرح ساخت نقره ...    adabh\n",
              "3   جدي بگيريم مطالعه مقدماتي نقش بازي زندگي اجتم...    ejtem\n",
              "4   سياه غباري سترده اشاره; رغم گسترش توسعه روزاف...    elmfa"
            ],
            "text/html": [
              "\n",
              "  <div id=\"df-fee0b98b-fdc3-491b-8cee-cdd055471d47\">\n",
              "    <div class=\"colab-df-container\">\n",
              "      <div>\n",
              "<style scoped>\n",
              "    .dataframe tbody tr th:only-of-type {\n",
              "        vertical-align: middle;\n",
              "    }\n",
              "\n",
              "    .dataframe tbody tr th {\n",
              "        vertical-align: top;\n",
              "    }\n",
              "\n",
              "    .dataframe thead th {\n",
              "        text-align: right;\n",
              "    }\n",
              "</style>\n",
              "<table border=\"1\" class=\"dataframe\">\n",
              "  <thead>\n",
              "    <tr style=\"text-align: right;\">\n",
              "      <th></th>\n",
              "      <th>text</th>\n",
              "      <th>category</th>\n",
              "    </tr>\n",
              "  </thead>\n",
              "  <tbody>\n",
              "    <tr>\n",
              "      <th>0</th>\n",
              "      <td>زندگي گروهي طريق هنر نگاهي نمايشگاه آثار هنري...</td>\n",
              "      <td>adabh</td>\n",
              "    </tr>\n",
              "    <tr>\n",
              "      <th>1</th>\n",
              "      <td>هنري جهان نمايشگاه هنر خدمت ديكتاتورها نمايشگ...</td>\n",
              "      <td>adabh</td>\n",
              "    </tr>\n",
              "    <tr>\n",
              "      <th>2</th>\n",
              "      <td>نگارخانه گالري گلستان نمايشگاه طرح ساخت نقره ...</td>\n",
              "      <td>adabh</td>\n",
              "    </tr>\n",
              "    <tr>\n",
              "      <th>3</th>\n",
              "      <td>جدي بگيريم مطالعه مقدماتي نقش بازي زندگي اجتم...</td>\n",
              "      <td>ejtem</td>\n",
              "    </tr>\n",
              "    <tr>\n",
              "      <th>4</th>\n",
              "      <td>سياه غباري سترده اشاره; رغم گسترش توسعه روزاف...</td>\n",
              "      <td>elmfa</td>\n",
              "    </tr>\n",
              "  </tbody>\n",
              "</table>\n",
              "</div>\n",
              "      <button class=\"colab-df-convert\" onclick=\"convertToInteractive('df-fee0b98b-fdc3-491b-8cee-cdd055471d47')\"\n",
              "              title=\"Convert this dataframe to an interactive table.\"\n",
              "              style=\"display:none;\">\n",
              "        \n",
              "  <svg xmlns=\"http://www.w3.org/2000/svg\" height=\"24px\"viewBox=\"0 0 24 24\"\n",
              "       width=\"24px\">\n",
              "    <path d=\"M0 0h24v24H0V0z\" fill=\"none\"/>\n",
              "    <path d=\"M18.56 5.44l.94 2.06.94-2.06 2.06-.94-2.06-.94-.94-2.06-.94 2.06-2.06.94zm-11 1L8.5 8.5l.94-2.06 2.06-.94-2.06-.94L8.5 2.5l-.94 2.06-2.06.94zm10 10l.94 2.06.94-2.06 2.06-.94-2.06-.94-.94-2.06-.94 2.06-2.06.94z\"/><path d=\"M17.41 7.96l-1.37-1.37c-.4-.4-.92-.59-1.43-.59-.52 0-1.04.2-1.43.59L10.3 9.45l-7.72 7.72c-.78.78-.78 2.05 0 2.83L4 21.41c.39.39.9.59 1.41.59.51 0 1.02-.2 1.41-.59l7.78-7.78 2.81-2.81c.8-.78.8-2.07 0-2.86zM5.41 20L4 18.59l7.72-7.72 1.47 1.35L5.41 20z\"/>\n",
              "  </svg>\n",
              "      </button>\n",
              "      \n",
              "  <style>\n",
              "    .colab-df-container {\n",
              "      display:flex;\n",
              "      flex-wrap:wrap;\n",
              "      gap: 12px;\n",
              "    }\n",
              "\n",
              "    .colab-df-convert {\n",
              "      background-color: #E8F0FE;\n",
              "      border: none;\n",
              "      border-radius: 50%;\n",
              "      cursor: pointer;\n",
              "      display: none;\n",
              "      fill: #1967D2;\n",
              "      height: 32px;\n",
              "      padding: 0 0 0 0;\n",
              "      width: 32px;\n",
              "    }\n",
              "\n",
              "    .colab-df-convert:hover {\n",
              "      background-color: #E2EBFA;\n",
              "      box-shadow: 0px 1px 2px rgba(60, 64, 67, 0.3), 0px 1px 3px 1px rgba(60, 64, 67, 0.15);\n",
              "      fill: #174EA6;\n",
              "    }\n",
              "\n",
              "    [theme=dark] .colab-df-convert {\n",
              "      background-color: #3B4455;\n",
              "      fill: #D2E3FC;\n",
              "    }\n",
              "\n",
              "    [theme=dark] .colab-df-convert:hover {\n",
              "      background-color: #434B5C;\n",
              "      box-shadow: 0px 1px 3px 1px rgba(0, 0, 0, 0.15);\n",
              "      filter: drop-shadow(0px 1px 2px rgba(0, 0, 0, 0.3));\n",
              "      fill: #FFFFFF;\n",
              "    }\n",
              "  </style>\n",
              "\n",
              "      <script>\n",
              "        const buttonEl =\n",
              "          document.querySelector('#df-fee0b98b-fdc3-491b-8cee-cdd055471d47 button.colab-df-convert');\n",
              "        buttonEl.style.display =\n",
              "          google.colab.kernel.accessAllowed ? 'block' : 'none';\n",
              "\n",
              "        async function convertToInteractive(key) {\n",
              "          const element = document.querySelector('#df-fee0b98b-fdc3-491b-8cee-cdd055471d47');\n",
              "          const dataTable =\n",
              "            await google.colab.kernel.invokeFunction('convertToInteractive',\n",
              "                                                     [key], {});\n",
              "          if (!dataTable) return;\n",
              "\n",
              "          const docLinkHtml = 'Like what you see? Visit the ' +\n",
              "            '<a target=\"_blank\" href=https://colab.research.google.com/notebooks/data_table.ipynb>data table notebook</a>'\n",
              "            + ' to learn more about interactive tables.';\n",
              "          element.innerHTML = '';\n",
              "          dataTable['output_type'] = 'display_data';\n",
              "          await google.colab.output.renderOutput(dataTable, element);\n",
              "          const docLink = document.createElement('div');\n",
              "          docLink.innerHTML = docLinkHtml;\n",
              "          element.appendChild(docLink);\n",
              "        }\n",
              "      </script>\n",
              "    </div>\n",
              "  </div>\n",
              "  "
            ]
          },
          "metadata": {},
          "execution_count": 174
        }
      ],
      "source": [
        "data.head()"
      ]
    },
    {
      "cell_type": "code",
      "execution_count": null,
      "metadata": {
        "colab": {
          "base_uri": "https://localhost:8080/"
        },
        "id": "bKpTNenxpMse",
        "outputId": "20cacb2e-0665-4a39-d82f-a0e89a6745ae"
      },
      "outputs": [
        {
          "output_type": "execute_result",
          "data": {
            "text/plain": [
              "165261"
            ]
          },
          "metadata": {},
          "execution_count": 69
        }
      ],
      "source": [
        "len(data)"
      ]
    },
    {
      "cell_type": "markdown",
      "metadata": {
        "id": "k6ND1ISbxixQ"
      },
      "source": [
        "### **Export DataFrame to CSV**"
      ]
    },
    {
      "cell_type": "code",
      "execution_count": null,
      "metadata": {
        "id": "SUlje74y5M1f"
      },
      "outputs": [],
      "source": [
        "data.to_csv('NEWS_dataset.csv', index=False)"
      ]
    },
    {
      "cell_type": "code",
      "source": [
        "from google.colab import drive\n",
        "drive.mount('/content/drive')\n",
        "\n",
        "!cp -r \"/content/NEWS_dataset.csv\" \"/content/drive/MyDrive/NEWS_dataset.csv\""
      ],
      "metadata": {
        "colab": {
          "base_uri": "https://localhost:8080/"
        },
        "id": "Pyx3hE-oHC3l",
        "outputId": "85f3e78d-6e5c-4c65-95b5-849f5b35e82a"
      },
      "execution_count": null,
      "outputs": [
        {
          "output_type": "stream",
          "name": "stdout",
          "text": [
            "Mounted at /content/drive\n"
          ]
        }
      ]
    },
    {
      "cell_type": "markdown",
      "metadata": {
        "id": "N23mucIW7X-4"
      },
      "source": [
        "# **Read Dataset**"
      ]
    },
    {
      "cell_type": "code",
      "source": [
        "! gdown --id 1sv5Bcxg6AwLYSkeK8LwsXUSRLJDxn5xD"
      ],
      "metadata": {
        "colab": {
          "base_uri": "https://localhost:8080/"
        },
        "id": "vPNxUbaqIdFB",
        "outputId": "e6b92de8-ad96-44ca-defa-1ed287cf29fd"
      },
      "execution_count": 34,
      "outputs": [
        {
          "output_type": "stream",
          "name": "stdout",
          "text": [
            "/usr/local/lib/python3.7/dist-packages/gdown/cli.py:131: FutureWarning: Option `--id` was deprecated in version 4.3.1 and will be removed in 5.0. You don't need to pass it anymore to use a file ID.\n",
            "  category=FutureWarning,\n",
            "Downloading...\n",
            "From: https://drive.google.com/uc?id=1sv5Bcxg6AwLYSkeK8LwsXUSRLJDxn5xD\n",
            "To: /content/NEWS_dataset.csv\n",
            "100% 426M/426M [00:02<00:00, 168MB/s]\n"
          ]
        }
      ]
    },
    {
      "cell_type": "code",
      "execution_count": 35,
      "metadata": {
        "id": "PYrtP5-e7LOd"
      },
      "outputs": [],
      "source": [
        "data = pd.read_csv('NEWS_dataset.csv')"
      ]
    },
    {
      "cell_type": "code",
      "source": [
        "data = data[data['text'].str.len() <= 10_000]"
      ],
      "metadata": {
        "id": "PUZMDLmLPnj9"
      },
      "execution_count": 36,
      "outputs": []
    },
    {
      "cell_type": "code",
      "execution_count": 37,
      "metadata": {
        "colab": {
          "base_uri": "https://localhost:8080/",
          "height": 206
        },
        "id": "4E7l2vw97hin",
        "outputId": "702e8d24-99e5-4626-f73b-e1c235ac453a"
      },
      "outputs": [
        {
          "output_type": "execute_result",
          "data": {
            "text/plain": [
              "                                                text category\n",
              "0   زندگي گروهي طريق هنر نگاهي نمايشگاه آثار هنري...    adabh\n",
              "1   هنري جهان نمايشگاه هنر خدمت ديكتاتورها نمايشگ...    adabh\n",
              "2   نگارخانه گالري گلستان نمايشگاه طرح ساخت نقره ...    adabh\n",
              "3   جدي بگيريم مطالعه مقدماتي نقش بازي زندگي اجتم...    ejtem\n",
              "4   سياه غباري سترده اشاره; رغم گسترش توسعه روزاف...    elmfa"
            ],
            "text/html": [
              "\n",
              "  <div id=\"df-c08e9d97-e7ac-4195-8d7d-d99cd7a714db\">\n",
              "    <div class=\"colab-df-container\">\n",
              "      <div>\n",
              "<style scoped>\n",
              "    .dataframe tbody tr th:only-of-type {\n",
              "        vertical-align: middle;\n",
              "    }\n",
              "\n",
              "    .dataframe tbody tr th {\n",
              "        vertical-align: top;\n",
              "    }\n",
              "\n",
              "    .dataframe thead th {\n",
              "        text-align: right;\n",
              "    }\n",
              "</style>\n",
              "<table border=\"1\" class=\"dataframe\">\n",
              "  <thead>\n",
              "    <tr style=\"text-align: right;\">\n",
              "      <th></th>\n",
              "      <th>text</th>\n",
              "      <th>category</th>\n",
              "    </tr>\n",
              "  </thead>\n",
              "  <tbody>\n",
              "    <tr>\n",
              "      <th>0</th>\n",
              "      <td>زندگي گروهي طريق هنر نگاهي نمايشگاه آثار هنري...</td>\n",
              "      <td>adabh</td>\n",
              "    </tr>\n",
              "    <tr>\n",
              "      <th>1</th>\n",
              "      <td>هنري جهان نمايشگاه هنر خدمت ديكتاتورها نمايشگ...</td>\n",
              "      <td>adabh</td>\n",
              "    </tr>\n",
              "    <tr>\n",
              "      <th>2</th>\n",
              "      <td>نگارخانه گالري گلستان نمايشگاه طرح ساخت نقره ...</td>\n",
              "      <td>adabh</td>\n",
              "    </tr>\n",
              "    <tr>\n",
              "      <th>3</th>\n",
              "      <td>جدي بگيريم مطالعه مقدماتي نقش بازي زندگي اجتم...</td>\n",
              "      <td>ejtem</td>\n",
              "    </tr>\n",
              "    <tr>\n",
              "      <th>4</th>\n",
              "      <td>سياه غباري سترده اشاره; رغم گسترش توسعه روزاف...</td>\n",
              "      <td>elmfa</td>\n",
              "    </tr>\n",
              "  </tbody>\n",
              "</table>\n",
              "</div>\n",
              "      <button class=\"colab-df-convert\" onclick=\"convertToInteractive('df-c08e9d97-e7ac-4195-8d7d-d99cd7a714db')\"\n",
              "              title=\"Convert this dataframe to an interactive table.\"\n",
              "              style=\"display:none;\">\n",
              "        \n",
              "  <svg xmlns=\"http://www.w3.org/2000/svg\" height=\"24px\"viewBox=\"0 0 24 24\"\n",
              "       width=\"24px\">\n",
              "    <path d=\"M0 0h24v24H0V0z\" fill=\"none\"/>\n",
              "    <path d=\"M18.56 5.44l.94 2.06.94-2.06 2.06-.94-2.06-.94-.94-2.06-.94 2.06-2.06.94zm-11 1L8.5 8.5l.94-2.06 2.06-.94-2.06-.94L8.5 2.5l-.94 2.06-2.06.94zm10 10l.94 2.06.94-2.06 2.06-.94-2.06-.94-.94-2.06-.94 2.06-2.06.94z\"/><path d=\"M17.41 7.96l-1.37-1.37c-.4-.4-.92-.59-1.43-.59-.52 0-1.04.2-1.43.59L10.3 9.45l-7.72 7.72c-.78.78-.78 2.05 0 2.83L4 21.41c.39.39.9.59 1.41.59.51 0 1.02-.2 1.41-.59l7.78-7.78 2.81-2.81c.8-.78.8-2.07 0-2.86zM5.41 20L4 18.59l7.72-7.72 1.47 1.35L5.41 20z\"/>\n",
              "  </svg>\n",
              "      </button>\n",
              "      \n",
              "  <style>\n",
              "    .colab-df-container {\n",
              "      display:flex;\n",
              "      flex-wrap:wrap;\n",
              "      gap: 12px;\n",
              "    }\n",
              "\n",
              "    .colab-df-convert {\n",
              "      background-color: #E8F0FE;\n",
              "      border: none;\n",
              "      border-radius: 50%;\n",
              "      cursor: pointer;\n",
              "      display: none;\n",
              "      fill: #1967D2;\n",
              "      height: 32px;\n",
              "      padding: 0 0 0 0;\n",
              "      width: 32px;\n",
              "    }\n",
              "\n",
              "    .colab-df-convert:hover {\n",
              "      background-color: #E2EBFA;\n",
              "      box-shadow: 0px 1px 2px rgba(60, 64, 67, 0.3), 0px 1px 3px 1px rgba(60, 64, 67, 0.15);\n",
              "      fill: #174EA6;\n",
              "    }\n",
              "\n",
              "    [theme=dark] .colab-df-convert {\n",
              "      background-color: #3B4455;\n",
              "      fill: #D2E3FC;\n",
              "    }\n",
              "\n",
              "    [theme=dark] .colab-df-convert:hover {\n",
              "      background-color: #434B5C;\n",
              "      box-shadow: 0px 1px 3px 1px rgba(0, 0, 0, 0.15);\n",
              "      filter: drop-shadow(0px 1px 2px rgba(0, 0, 0, 0.3));\n",
              "      fill: #FFFFFF;\n",
              "    }\n",
              "  </style>\n",
              "\n",
              "      <script>\n",
              "        const buttonEl =\n",
              "          document.querySelector('#df-c08e9d97-e7ac-4195-8d7d-d99cd7a714db button.colab-df-convert');\n",
              "        buttonEl.style.display =\n",
              "          google.colab.kernel.accessAllowed ? 'block' : 'none';\n",
              "\n",
              "        async function convertToInteractive(key) {\n",
              "          const element = document.querySelector('#df-c08e9d97-e7ac-4195-8d7d-d99cd7a714db');\n",
              "          const dataTable =\n",
              "            await google.colab.kernel.invokeFunction('convertToInteractive',\n",
              "                                                     [key], {});\n",
              "          if (!dataTable) return;\n",
              "\n",
              "          const docLinkHtml = 'Like what you see? Visit the ' +\n",
              "            '<a target=\"_blank\" href=https://colab.research.google.com/notebooks/data_table.ipynb>data table notebook</a>'\n",
              "            + ' to learn more about interactive tables.';\n",
              "          element.innerHTML = '';\n",
              "          dataTable['output_type'] = 'display_data';\n",
              "          await google.colab.output.renderOutput(dataTable, element);\n",
              "          const docLink = document.createElement('div');\n",
              "          docLink.innerHTML = docLinkHtml;\n",
              "          element.appendChild(docLink);\n",
              "        }\n",
              "      </script>\n",
              "    </div>\n",
              "  </div>\n",
              "  "
            ]
          },
          "metadata": {},
          "execution_count": 37
        }
      ],
      "source": [
        "data.head()"
      ]
    },
    {
      "cell_type": "code",
      "execution_count": 38,
      "metadata": {
        "colab": {
          "base_uri": "https://localhost:8080/"
        },
        "id": "ZWue8zKWb4gr",
        "outputId": "06977e02-d6b4-4fc9-e5c6-06aeb38456fd"
      },
      "outputs": [
        {
          "output_type": "execute_result",
          "data": {
            "text/plain": [
              "164740"
            ]
          },
          "metadata": {},
          "execution_count": 38
        }
      ],
      "source": [
        "len(data)"
      ]
    },
    {
      "cell_type": "code",
      "execution_count": 39,
      "metadata": {
        "id": "RB_kszeQi31H"
      },
      "outputs": [],
      "source": [
        "data = data[data.groupby('category')['category'].transform('count') > 500].copy()"
      ]
    },
    {
      "cell_type": "code",
      "execution_count": 40,
      "metadata": {
        "id": "ApQcjU3ZYEJe"
      },
      "outputs": [],
      "source": [
        "num_unique_categories = data['category'].nunique()"
      ]
    },
    {
      "cell_type": "code",
      "source": [
        "num_unique_categories"
      ],
      "metadata": {
        "colab": {
          "base_uri": "https://localhost:8080/"
        },
        "id": "WQ51nrqT6Y6q",
        "outputId": "c781c02b-15c7-4e1e-bd0c-60e21e090e1d"
      },
      "execution_count": 41,
      "outputs": [
        {
          "output_type": "execute_result",
          "data": {
            "text/plain": [
              "32"
            ]
          },
          "metadata": {},
          "execution_count": 41
        }
      ]
    },
    {
      "cell_type": "code",
      "source": [
        "len(data)"
      ],
      "metadata": {
        "colab": {
          "base_uri": "https://localhost:8080/"
        },
        "id": "f0uedkGG6tyW",
        "outputId": "4f25cc81-6c05-44a0-c2ea-ac1f77530e32"
      },
      "execution_count": 42,
      "outputs": [
        {
          "output_type": "execute_result",
          "data": {
            "text/plain": [
              "155603"
            ]
          },
          "metadata": {},
          "execution_count": 42
        }
      ]
    },
    {
      "cell_type": "code",
      "execution_count": 43,
      "metadata": {
        "colab": {
          "base_uri": "https://localhost:8080/"
        },
        "id": "bS05prSOyrYN",
        "outputId": "e79aa4c6-e212-4db4-d952-f2089e7a866c"
      },
      "outputs": [
        {
          "output_type": "execute_result",
          "data": {
            "text/plain": [
              "siasi    17462\n",
              "eqtes    16654\n",
              "kharj    14664\n",
              "akhar    13811\n",
              "vrzsh    13009\n",
              "shari    10130\n",
              "elmif     8865\n",
              "shahr     8398\n",
              "shrst     8248\n",
              "ejtem     8245\n",
              "gungn     7535\n",
              "adabh     5164\n",
              "havad     3757\n",
              "elmfa     1781\n",
              "gozar     1418\n",
              "maqal     1411\n",
              "polig     1370\n",
              "aeqts     1347\n",
              "soxan     1326\n",
              "nnaft     1220\n",
              "jvarz     1179\n",
              "econw     1011\n",
              "artw       973\n",
              "mohit      950\n",
              "sporw      947\n",
              "intep      769\n",
              "nameh      762\n",
              "bankb      759\n",
              "shora      647\n",
              "Cultw      634\n",
              "santj      612\n",
              "maref      545\n",
              "Name: category, dtype: int64"
            ]
          },
          "metadata": {},
          "execution_count": 43
        }
      ],
      "source": [
        "data['category'].value_counts()"
      ]
    },
    {
      "cell_type": "markdown",
      "metadata": {
        "id": "7WlGzPwDlTVl"
      },
      "source": [
        "**One Hot the Y**"
      ]
    },
    {
      "cell_type": "code",
      "source": [
        "Y_one_hot = pd.get_dummies(data['category'])"
      ],
      "metadata": {
        "id": "IqmKA_oybjMd"
      },
      "execution_count": 44,
      "outputs": []
    },
    {
      "cell_type": "code",
      "source": [
        "category_types = Y_one_hot.columns.values"
      ],
      "metadata": {
        "id": "yCb1m6L9MhoB"
      },
      "execution_count": 45,
      "outputs": []
    },
    {
      "cell_type": "code",
      "source": [
        "del Y_one_hot"
      ],
      "metadata": {
        "id": "UTb9SA_YM3fj"
      },
      "execution_count": 46,
      "outputs": []
    },
    {
      "cell_type": "code",
      "source": [
        "category_types"
      ],
      "metadata": {
        "colab": {
          "base_uri": "https://localhost:8080/"
        },
        "id": "WkSGNlkLM8rW",
        "outputId": "5792f121-e3f1-4ca8-e419-21a8c9b19dc8"
      },
      "execution_count": 47,
      "outputs": [
        {
          "output_type": "execute_result",
          "data": {
            "text/plain": [
              "array(['Cultw', 'adabh', 'aeqts', 'akhar', 'artw', 'bankb', 'econw',\n",
              "       'ejtem', 'elmfa', 'elmif', 'eqtes', 'gozar', 'gungn', 'havad',\n",
              "       'intep', 'jvarz', 'kharj', 'maqal', 'maref', 'mohit', 'nameh',\n",
              "       'nnaft', 'polig', 'santj', 'shahr', 'shari', 'shora', 'shrst',\n",
              "       'siasi', 'soxan', 'sporw', 'vrzsh'], dtype=object)"
            ]
          },
          "metadata": {},
          "execution_count": 47
        }
      ]
    },
    {
      "cell_type": "code",
      "execution_count": 144,
      "metadata": {
        "id": "Cu4vTansqy5q"
      },
      "outputs": [],
      "source": [
        "Y = pd.get_dummies(data['category']).values"
      ]
    },
    {
      "cell_type": "code",
      "source": [
        "Y[0]"
      ],
      "metadata": {
        "colab": {
          "base_uri": "https://localhost:8080/"
        },
        "id": "6TYGVivQMfiE",
        "outputId": "665ecd5a-7af9-4499-cde8-b732b5903576"
      },
      "execution_count": 145,
      "outputs": [
        {
          "output_type": "execute_result",
          "data": {
            "text/plain": [
              "array([0, 1, 0, 0, 0, 0, 0, 0, 0, 0, 0, 0, 0, 0, 0, 0, 0, 0, 0, 0, 0, 0,\n",
              "       0, 0, 0, 0, 0, 0, 0, 0, 0, 0], dtype=uint8)"
            ]
          },
          "metadata": {},
          "execution_count": 145
        }
      ]
    },
    {
      "cell_type": "code",
      "source": [
        "list(data['text'])[0]"
      ],
      "metadata": {
        "colab": {
          "base_uri": "https://localhost:8080/",
          "height": 127
        },
        "id": "Osf1aYanwBsX",
        "outputId": "f23debc1-bcf1-4204-a9f2-260142509106"
      },
      "execution_count": 20,
      "outputs": [
        {
          "output_type": "execute_result",
          "data": {
            "text/plain": [
              "' زندگي گروهي طريق هنر نگاهي نمايشگاه آثار هنري احمد طباطبايي موضوع آثار طباطبايي مورچگان باطن ظاهري انسانهاهستند هيبتي حشره تابلوهاي نقاشي نمايشگر گوشه زندگي مورچه ديده ايم سنگين خودرا دوش كشد راه خسته نتيجه آمدن حادثه اتفاقي دستش رها گريز خطر گذارد فرار ساعتي نقطه برمي گردد دوش كشيده نفس زنان عرق ريزان منزل رساند داند راه رفت مورچه استعداد غريزه عملي شروع پايان رساند داند نسل آينده مزاياي استفاده نمايد داستان درازي انتها پاياني ميليونها سال گذشته ميلياردها سال خواهد_گذشت وهمين برنامه ميليونها تجديد گفت سير حيات تكامل پايان ناپذير اسرار جهان پاياني بخواهيم چيز پايان ناپذير برسيم انتهايي نيست جايي رسيم كتاب مورچگان نوشته موريس مترلينگ مورچگان تابلوهاي نقاشي احمد طباطبايي جايگاه ويژه دارند نمايشگاهي آثار هنرمند اول 23 خرداد نگارخانه برگ برپا 36 اثر موضوع نمايش عمومي درآمد طباطبايي مدت 18 سالي نقاشي پردازد موضوع مورچگان كار علت انتخاب سوژه گويد روزهاي زندگي غمگين بودم زماني خواب رفتم مورچه ديدم تصميم گرفتم طرح بكشم كار نظرم جالب آمد روز طراحي ادامه دادم نقاشي مدلها تغييراتي ايجاد ضمن حشره دليل زندگي منظمي جذاب نظم اركان آثار نقاشي طباطبايي عليرغم موضوعات ساده تركيببندي دو بعدي تنوع كم رنگ آميزي سطوح استحكام طرحها نقوش پرده اثر نشان نظمي دروني نظم آناتومي اندام مورچگان نشان مشخصه اصلي مورچگان دست پا تقسيم بندي سه گانه بدن مهمتر آنكه شش دست پا راه روند نقاشيهاي طباطبايي دو پا انسان ايستند سرهايشان بزرگترين اندام بدنشان چشمها طور اغراق آميزي سرجا گرفته_است هدف نقاش تغييرات اندام مورچگان باآنكه نقاش گفته نقاشيها استنباط موضوع آثار طباطبايي مورچگان باطن ظاهري انسانها هيبتي حشره تابلوهاي نقاش نمايشگر گوشه زندگي اندام سياه زمينه خاكستري بادكنكهاي رنگي دست دارند عروسي تغيير اندام مورچگان باعث چهره حالات صورت اندام بازگو كننده احساسات موضوع تابلوي نقاشي نباشد بدن مورچه انسانهاحسي پديد آورند تابلو سايه اندازد احساساتي دام افتادن دام عنكبوت مادري كردن تفاهم دوستي نكته نقاشي درختان صورت اسليمي ايراني حاشيه تابلوها خطوط رنگهايي زنده شاداب نقشها تقابل بصري مورچه انسانهاست هماهنگي دروني مفهوم مورچه انسانها تصوير كشيده شده_اند رنگهاي شاد سبز ميوه سرخ شكل انساني محيط افزايش دهند مورچگان طور گروهي فضا برند اصل دانند; جاودانگي زندگي گروهي انتقال احساسات طريق هنر راهي مترلينگ اشاره كرد '"
            ],
            "application/vnd.google.colaboratory.intrinsic+json": {
              "type": "string"
            }
          },
          "metadata": {},
          "execution_count": 20
        }
      ]
    },
    {
      "cell_type": "markdown",
      "metadata": {
        "id": "3JVwyf4GlYJ6"
      },
      "source": [
        "**text tokenizer**"
      ]
    },
    {
      "cell_type": "code",
      "source": [
        "def max_length(tensor):\n",
        "    return max(len(t) for t in tensor)"
      ],
      "metadata": {
        "id": "utYWprW_x7Oc"
      },
      "execution_count": 21,
      "outputs": []
    },
    {
      "cell_type": "code",
      "execution_count": 22,
      "metadata": {
        "id": "wia-yh_BJFB7"
      },
      "outputs": [],
      "source": [
        "tokenizer = Tokenizer()\n",
        "tokenizer.fit_on_texts(list(data['text']))"
      ]
    },
    {
      "cell_type": "code",
      "source": [
        "with open('tokenizer.h5', 'wb') as f:\n",
        "    pickle.dump(tokenizer, f)"
      ],
      "metadata": {
        "id": "mvizg1yRS2T5"
      },
      "execution_count": 23,
      "outputs": []
    },
    {
      "cell_type": "code",
      "execution_count": 24,
      "metadata": {
        "id": "mVWRPrSuLJJv"
      },
      "outputs": [],
      "source": [
        "vocab_size = len(tokenizer.word_index)+1"
      ]
    },
    {
      "cell_type": "code",
      "execution_count": 25,
      "metadata": {
        "id": "GWE8AObkLnO6"
      },
      "outputs": [],
      "source": [
        "data_to_sequences = tokenizer.texts_to_sequences(list(data['text']))\n",
        "maxlen = max_length(data_to_sequences)"
      ]
    },
    {
      "cell_type": "code",
      "source": [
        "maxlen"
      ],
      "metadata": {
        "colab": {
          "base_uri": "https://localhost:8080/"
        },
        "id": "Mvkl8K5ZyEZQ",
        "outputId": "1c4c5912-877d-4900-f8ad-a2fc298c3a2b"
      },
      "execution_count": 26,
      "outputs": [
        {
          "output_type": "execute_result",
          "data": {
            "text/plain": [
              "1843"
            ]
          },
          "metadata": {},
          "execution_count": 26
        }
      ]
    },
    {
      "cell_type": "code",
      "source": [
        "pad_data_to_sequences = pad_sequences(data_to_sequences, maxlen=maxlen)"
      ],
      "metadata": {
        "id": "npGCbZczw_M3"
      },
      "execution_count": 27,
      "outputs": []
    },
    {
      "cell_type": "code",
      "source": [
        "del data\n",
        "del data_to_sequences"
      ],
      "metadata": {
        "id": "No7tkLAGvZKS"
      },
      "execution_count": 28,
      "outputs": []
    },
    {
      "cell_type": "code",
      "source": [
        "X_train, X_test, y_train, y_test = train_test_split(pad_data_to_sequences, Y, test_size=0.3, random_state=42)"
      ],
      "metadata": {
        "id": "zUQkzUbCyV9s"
      },
      "execution_count": 29,
      "outputs": []
    },
    {
      "cell_type": "code",
      "execution_count": 30,
      "metadata": {
        "id": "Ezl9VKM4-n1C"
      },
      "outputs": [],
      "source": [
        "del pad_data_to_sequences"
      ]
    },
    {
      "cell_type": "code",
      "source": [
        "print(X_train.shape)\n",
        "print(X_test.shape)\n",
        "print(y_train.shape)\n",
        "print(y_test.shape)"
      ],
      "metadata": {
        "colab": {
          "base_uri": "https://localhost:8080/"
        },
        "id": "2t15xt8ySgqf",
        "outputId": "67238914-8ab9-4094-f320-ba6fd6553ea1"
      },
      "execution_count": 31,
      "outputs": [
        {
          "output_type": "stream",
          "name": "stdout",
          "text": [
            "(108922, 1843)\n",
            "(46681, 1843)\n",
            "(108922, 32)\n",
            "(46681, 32)\n"
          ]
        }
      ]
    },
    {
      "cell_type": "markdown",
      "metadata": {
        "id": "lumFq47xm39k"
      },
      "source": [
        "### **Neural Network**"
      ]
    },
    {
      "cell_type": "code",
      "execution_count": 32,
      "metadata": {
        "id": "Df9X8eLpnQ5-"
      },
      "outputs": [],
      "source": [
        "embedding_dim = 50"
      ]
    },
    {
      "cell_type": "code",
      "execution_count": 33,
      "metadata": {
        "id": "ZcK_zO4vMA7R"
      },
      "outputs": [],
      "source": [
        "model = Sequential()\n",
        "model.add(Embedding(vocab_size, embedding_dim, input_length=maxlen))\n",
        "model.add(Bidirectional(LSTM(200, return_sequences=True)))\n",
        "model.add(GlobalMaxPooling1D())\n",
        "model.add(Dropout(0.3))\n",
        "model.add(Dense(200, activation='relu'))\n",
        "model.add(Dropout(0.5))\n",
        "model.add(Dense(num_unique_categories, activation='softmax'))"
      ]
    },
    {
      "cell_type": "code",
      "execution_count": 34,
      "metadata": {
        "id": "-E656tdynsdM"
      },
      "outputs": [],
      "source": [
        "model.compile(loss='categorical_crossentropy', optimizer='adam', metrics=['accuracy'])"
      ]
    },
    {
      "cell_type": "code",
      "execution_count": 35,
      "metadata": {
        "colab": {
          "base_uri": "https://localhost:8080/"
        },
        "id": "k8yTZbfUnzYM",
        "outputId": "406ba667-2764-40b8-80a4-883ccd77be97"
      },
      "outputs": [
        {
          "output_type": "stream",
          "name": "stdout",
          "text": [
            "Model: \"sequential\"\n",
            "_________________________________________________________________\n",
            " Layer (type)                Output Shape              Param #   \n",
            "=================================================================\n",
            " embedding (Embedding)       (None, 1843, 50)          24286200  \n",
            "                                                                 \n",
            " bidirectional (Bidirectiona  (None, 1843, 400)        401600    \n",
            " l)                                                              \n",
            "                                                                 \n",
            " global_max_pooling1d (Globa  (None, 400)              0         \n",
            " lMaxPooling1D)                                                  \n",
            "                                                                 \n",
            " dropout (Dropout)           (None, 400)               0         \n",
            "                                                                 \n",
            " dense (Dense)               (None, 200)               80200     \n",
            "                                                                 \n",
            " dropout_1 (Dropout)         (None, 200)               0         \n",
            "                                                                 \n",
            " dense_1 (Dense)             (None, 32)                6432      \n",
            "                                                                 \n",
            "=================================================================\n",
            "Total params: 24,774,432\n",
            "Trainable params: 24,774,432\n",
            "Non-trainable params: 0\n",
            "_________________________________________________________________\n"
          ]
        }
      ],
      "source": [
        "model.summary()"
      ]
    },
    {
      "cell_type": "code",
      "execution_count": 36,
      "metadata": {
        "colab": {
          "base_uri": "https://localhost:8080/"
        },
        "id": "p9J8dSqin1pf",
        "outputId": "04968acf-5fc7-4881-b274-7bb83961da5f"
      },
      "outputs": [
        {
          "output_type": "stream",
          "name": "stdout",
          "text": [
            "Epoch 1/5\n",
            "426/426 [==============================] - 372s 854ms/step - loss: 2.0306 - accuracy: 0.4086 - val_loss: 1.1344 - val_accuracy: 0.6668\n",
            "Epoch 2/5\n",
            "426/426 [==============================] - 374s 878ms/step - loss: 0.9946 - accuracy: 0.7205 - val_loss: 0.8412 - val_accuracy: 0.7553\n",
            "Epoch 3/5\n",
            "426/426 [==============================] - 371s 871ms/step - loss: 0.7142 - accuracy: 0.7931 - val_loss: 0.8015 - val_accuracy: 0.7700\n",
            "Epoch 4/5\n",
            "426/426 [==============================] - 368s 864ms/step - loss: 0.5378 - accuracy: 0.8414 - val_loss: 0.8296 - val_accuracy: 0.7744\n",
            "Epoch 5/5\n",
            "426/426 [==============================] - 370s 870ms/step - loss: 0.3987 - accuracy: 0.8821 - val_loss: 0.9002 - val_accuracy: 0.7664\n"
          ]
        }
      ],
      "source": [
        "history = model.fit(X_train, y_train, validation_data=(X_test, y_test), epochs=5, batch_size=256)"
      ]
    },
    {
      "cell_type": "code",
      "execution_count": 37,
      "metadata": {
        "id": "iAxjBV9zokDR"
      },
      "outputs": [],
      "source": [
        "model.save('model.h5')"
      ]
    },
    {
      "cell_type": "markdown",
      "source": [
        "### **Upload tokenizer and model to google drive**"
      ],
      "metadata": {
        "id": "v1yMKeEqTwCL"
      }
    },
    {
      "cell_type": "code",
      "source": [
        "from google.colab import drive\n",
        "drive.mount('/content/drive')\n",
        "\n",
        "!cp -r \"/content/tokenizer.h5\" \"/content/drive/MyDrive/news_classification/tokenizer.h5\"\n",
        "!cp -r \"/content/model.h5\" \"/content/drive/MyDrive/news_classification/model.h5\""
      ],
      "metadata": {
        "colab": {
          "base_uri": "https://localhost:8080/"
        },
        "id": "6BBdI32XTNfA",
        "outputId": "eb1ef078-37d7-426f-c682-1f62219ef704"
      },
      "execution_count": 38,
      "outputs": [
        {
          "output_type": "stream",
          "name": "stdout",
          "text": [
            "Mounted at /content/drive\n"
          ]
        }
      ]
    },
    {
      "cell_type": "markdown",
      "source": [
        "### **Read tokenizer and model**"
      ],
      "metadata": {
        "id": "ts39AKI9Uf9P"
      }
    },
    {
      "cell_type": "code",
      "source": [
        "! gdown --id 1gnbOKJB-KePiOcDH3glTo85Vw2nUYk_7\n",
        "! gdown --id 1IHM5DYxWoujkSHOdF_abRqmS_tM6TAdZ"
      ],
      "metadata": {
        "colab": {
          "base_uri": "https://localhost:8080/"
        },
        "id": "EOofGIUQUcbR",
        "outputId": "532d596b-61d4-4f54-e643-a3d6e3033231"
      },
      "execution_count": 48,
      "outputs": [
        {
          "output_type": "stream",
          "name": "stdout",
          "text": [
            "/usr/local/lib/python3.7/dist-packages/gdown/cli.py:131: FutureWarning: Option `--id` was deprecated in version 4.3.1 and will be removed in 5.0. You don't need to pass it anymore to use a file ID.\n",
            "  category=FutureWarning,\n",
            "Downloading...\n",
            "From: https://drive.google.com/uc?id=1gnbOKJB-KePiOcDH3glTo85Vw2nUYk_7\n",
            "To: /content/tokenizer.h5\n",
            "100% 28.8M/28.8M [00:00<00:00, 46.8MB/s]\n",
            "/usr/local/lib/python3.7/dist-packages/gdown/cli.py:131: FutureWarning: Option `--id` was deprecated in version 4.3.1 and will be removed in 5.0. You don't need to pass it anymore to use a file ID.\n",
            "  category=FutureWarning,\n",
            "Downloading...\n",
            "From: https://drive.google.com/uc?id=1IHM5DYxWoujkSHOdF_abRqmS_tM6TAdZ\n",
            "To: /content/model.h5\n",
            "100% 297M/297M [00:04<00:00, 61.3MB/s]\n"
          ]
        }
      ]
    },
    {
      "cell_type": "code",
      "source": [
        "# load model\n",
        "model = load_model('model.h5')"
      ],
      "metadata": {
        "id": "cGCDcB0oBzbx"
      },
      "execution_count": 49,
      "outputs": []
    },
    {
      "cell_type": "code",
      "source": [
        "# load tokenizer\n",
        "with open('tokenizer.h5', 'rb') as f:\n",
        "    tokenizer = pickle.load(f)"
      ],
      "metadata": {
        "id": "ycVxbp6GHN_m"
      },
      "execution_count": 72,
      "outputs": []
    },
    {
      "cell_type": "code",
      "source": [
        "model"
      ],
      "metadata": {
        "id": "DYmN3GVACdS9",
        "colab": {
          "base_uri": "https://localhost:8080/"
        },
        "outputId": "d6305460-d6b0-4f22-c600-33ebbd027774"
      },
      "execution_count": 51,
      "outputs": [
        {
          "output_type": "execute_result",
          "data": {
            "text/plain": [
              "<keras.engine.sequential.Sequential at 0x7fb1a0cbc710>"
            ]
          },
          "metadata": {},
          "execution_count": 51
        }
      ]
    },
    {
      "cell_type": "markdown",
      "source": [
        "## **Prediction**"
      ],
      "metadata": {
        "id": "foJLZOhA3aOv"
      }
    },
    {
      "cell_type": "code",
      "source": [
        "def preprocess(texts, stopwords):\n",
        "  cleaned_texts = []\n",
        "  for text in texts:\n",
        "    word_tokenized = word_tokenize(text) \n",
        "    word_tokenized_filtered = [w for w in word_tokenized if w not in stopwords]\n",
        "    cleaned_text = ' '.join(map(str, word_tokenized_filtered)) \n",
        "    cleaned_texts.append(cleaned_text)\n",
        "  return cleaned_texts"
      ],
      "metadata": {
        "id": "xLSK6HrdN3MU"
      },
      "execution_count": 63,
      "outputs": []
    },
    {
      "cell_type": "code",
      "source": [
        "MAX_LENGTH = 1843\n",
        "def prediction(texts, stopwords):\n",
        "  result = []\n",
        "  cleaned_texts = preprocess(texts, stopwords)\n",
        "  for cleaned_text in cleaned_texts:\n",
        "    text_to_sequences = tokenizer.texts_to_sequences([cleaned_text])\n",
        "    pad_text_to_sequences = pad_sequences(text_to_sequences, maxlen=MAX_LENGTH)\n",
        "    category = model.predict([pad_text_to_sequences])[0]\n",
        "    category_index = np.where(category == max(category))\n",
        "    result.append(category_types[category_index])\n",
        "  return result"
      ],
      "metadata": {
        "id": "7FTedHsFARa-"
      },
      "execution_count": 64,
      "outputs": []
    },
    {
      "cell_type": "code",
      "source": [
        "example_texts = [data['text'][2] , data['text'][3] , \"در زندگي گروهي از طريق هنر نگاهي به نمايشگاه آثار هنري احمد طباطبايي موضوع آثار طباطبايي مورچگان هستند ولي در باطن چنين ظاهري، اين انسانهاهستند كه در هيبتي حشره گونه در تابلوهاي نقاشي نمايشگر گوشه هايي از زندگي خود هستند. مورچه اي را ديده ايم كه بار سنگين خودرا به دوش مي كشد و در بين راه خسته مي شود يا در نتيجه پيش آمدن يك حادثه اتفاقي بار از دستش رها شده و براي گريز از خطر آن را مي گذارد و فرار مي كند. اما ساعتي بعد به همان نقطه برمي گردد و بار را دوباره به دوش كشيده نفس زنان و عرق ريزان آن را به منزل او مي رساند مي داند كه اگر در ميان راه از بين رفت، يك مورچه ديگر با همان استعداد غريزه عملي را كه او شروع كرده به پايان مي رساند. پس او مي داند كه بعد از خودش نسل آينده اي وجود دارد كه بايد از مزاياي آن استفاده نمايد. چه داستان درازي، انتها و پاياني هم ميليونها ندارد سال گذشته، ميلياردها سال ديگر خواهد گذشت وهمين برنامه ميليونها بار ديگر تجديد مي شود. پس بايد گفت سير حيات و تكامل پايان ناپذير است. اسرار جهان پاياني ندارد. پس اگر بخواهيم به يك چيز پايان ناپذير برسيم چون انتهايي در بين نيست، به جايي نمي رسيم. (از كتاب مورچگان، نوشته موريس مترلينگ )مورچگان در تابلوهاي نقاشي احمد طباطبايي جايگاه ويژه اي دارند. در نمايشگاهي كه از آثار اين هنرمند (اول تا 23 خرداد ) در نگارخانه برگ برپا شد 36 اثر با اين موضوع به نمايش عمومي درآمد. طباطبايي در مدت 18 سالي كه به نقاشي مي پردازد همواره بر روي موضوع مورچگان كار كرده است. وي درباره علت انتخاب چنين سوژه اي مي گويد: در يكي از روزهاي زندگي خود بسيار غمگين بودم و زماني كه به خواب رفتم، مورچه اي را ديدم. سپس تصميم گرفتم طرح آن را بكشم. اين كار به نظرم جالب آمد و از آن روز به بعد اين نوع طراحي را ادامه دادم كه در هر بار نقاشي در اين مدلها تغييراتي را ايجاد مي كنم، ضمن اينكه اين حشره به دليل زندگي منظمي كه دارد، برايم جذاب است. نظم يكي از اركان آثار نقاشي طباطبايي است. عليرغم موضوعات ساده، تركيببندي دو بعدي و تنوع كم در رنگ آميزي سطوح، استحكام طرحها و نقوش بر روي پرده اثر نشان از نظمي دروني دارد. اين نظم خود را در آناتومي و اندام مورچگان به نوع ديگري نشان مي دهد. مشخصه اصلي مورچگان دست و پا و تقسيم بندي سه گانه بدن آنها است و مهمتر آنكه روي شش دست و پا راه مي روند. اما در نقاشيهاي طباطبايي آنها روي دو پا مثل انسان مي ايستند. سرهايشان بزرگترين اندام بدنشان است و چشمها به طور اغراق آميزي در سرجا گرفته است. هدف نقاش از اين تغييرات در اندام مورچگان؟ چيست باآنكه خود نقاش گفته و از نقاشيها استنباط  مي شود، موضوع آثار طباطبايي مورچگان است اما در باطن چنين ظاهري، اين انسانها هستند كه در هيبتي حشره گونه در تابلوهاي نقاش نمايشگر گوشه هايي از زندگي خود هستند. آنها با اندام سياه خود در زمينه اي خاكستري بادكنكهاي رنگي به دست دارند و عروسي مي كنند. تغيير در اندام مورچگان باعث شده چهره و حالات سر و صورت تنها اندام بازگو كننده احساسات موضوع در تابلوي نقاشي نباشد بلكه تمام بدن اين  مورچه - انسانهاحسي را پديد مي آورند كه در تابلو سايه مي اندازد. احساساتي نظير به دام افتادن در دام يك عنكبوت، مادري كردن، تفاهم و دوستي. نكته ديگر، نقاشي درختان به صورت اسليمي هاي ايراني در حاشيه تابلوها با خطوط و رنگهايي زنده و شاداب است. اين نقشها در تقابل بصري با  مورچه - انسانهاست اما در يك هماهنگي دروني با مفهوم مورچه - انسانها به تصوير كشيده شده اند.\"]"
      ],
      "metadata": {
        "id": "Y_Fi1qUZN6c7"
      },
      "execution_count": 65,
      "outputs": []
    },
    {
      "cell_type": "code",
      "source": [
        "prediction(example_texts, stopwords)"
      ],
      "metadata": {
        "colab": {
          "base_uri": "https://localhost:8080/"
        },
        "id": "Ufs24shNTFWD",
        "outputId": "af62a6ef-2b37-4ab7-b4ed-4ae529743d80"
      },
      "execution_count": 66,
      "outputs": [
        {
          "output_type": "execute_result",
          "data": {
            "text/plain": [
              "[array(['adabh'], dtype=object),\n",
              " array(['ejtem'], dtype=object),\n",
              " array(['adabh'], dtype=object)]"
            ]
          },
          "metadata": {},
          "execution_count": 66
        }
      ]
    },
    {
      "cell_type": "code",
      "source": [
        "prediction([data['text'][1]], stopwords)"
      ],
      "metadata": {
        "colab": {
          "base_uri": "https://localhost:8080/"
        },
        "id": "RYFQ9nz-1LcW",
        "outputId": "c57537d3-55b7-4993-ad8b-017b03d9f04c"
      },
      "execution_count": 68,
      "outputs": [
        {
          "output_type": "execute_result",
          "data": {
            "text/plain": [
              "[array(['adabh'], dtype=object)]"
            ]
          },
          "metadata": {},
          "execution_count": 68
        }
      ]
    },
    {
      "cell_type": "code",
      "source": [
        "prediction([data['text'][1000]], stopwords)"
      ],
      "metadata": {
        "colab": {
          "base_uri": "https://localhost:8080/"
        },
        "id": "yJdABbes2log",
        "outputId": "f7c1df05-5294-47d6-a77b-bf3ac6b0478b"
      },
      "execution_count": 69,
      "outputs": [
        {
          "output_type": "execute_result",
          "data": {
            "text/plain": [
              "[array(['siasi'], dtype=object)]"
            ]
          },
          "metadata": {},
          "execution_count": 69
        }
      ]
    },
    {
      "cell_type": "code",
      "source": [
        "data['category'][1000]"
      ],
      "metadata": {
        "colab": {
          "base_uri": "https://localhost:8080/",
          "height": 36
        },
        "id": "sOLRp2lr20u0",
        "outputId": "7f25ee0f-f166-4453-e175-6245ae00a1f4"
      },
      "execution_count": 71,
      "outputs": [
        {
          "output_type": "execute_result",
          "data": {
            "text/plain": [
              "'siasi'"
            ],
            "application/vnd.google.colaboratory.intrinsic+json": {
              "type": "string"
            }
          },
          "metadata": {},
          "execution_count": 71
        }
      ]
    }
  ],
  "metadata": {
    "colab": {
      "collapsed_sections": [],
      "name": "news_classification.ipynb",
      "provenance": []
    },
    "kernelspec": {
      "display_name": "Python 3",
      "name": "python3"
    },
    "language_info": {
      "name": "python"
    },
    "gpuClass": "standard"
  },
  "nbformat": 4,
  "nbformat_minor": 0
}