{
  "cells": [
    {
      "cell_type": "code",
      "execution_count": 39,
      "metadata": {
        "id": "F7nTEAlL5eGx"
      },
      "outputs": [],
      "source": [
        "import pandas as pd\n",
        "import rarfile\n",
        "import zipfile"
      ]
    },
    {
      "cell_type": "code",
      "source": [
        "! gdown --id 1D3yt99D0GcCRCbdKbUQGxbqjkeh91hTg"
      ],
      "metadata": {
        "colab": {
          "base_uri": "https://localhost:8080/"
        },
        "id": "KnYcrY2QZPhW",
        "outputId": "44779b70-f9f6-4257-c8b6-2c57467d2de6"
      },
      "execution_count": 12,
      "outputs": [
        {
          "output_type": "stream",
          "name": "stdout",
          "text": [
            "/usr/local/lib/python3.7/dist-packages/gdown/cli.py:131: FutureWarning: Option `--id` was deprecated in version 4.3.1 and will be removed in 5.0. You don't need to pass it anymore to use a file ID.\n",
            "  category=FutureWarning,\n",
            "Downloading...\n",
            "From: https://drive.google.com/uc?id=1D3yt99D0GcCRCbdKbUQGxbqjkeh91hTg\n",
            "To: /content/hamshahri.rar\n",
            "100% 873M/873M [00:03<00:00, 231MB/s]\n"
          ]
        }
      ]
    },
    {
      "cell_type": "code",
      "source": [
        "!pip install unrar\n",
        "!pip install rarfile"
      ],
      "metadata": {
        "colab": {
          "base_uri": "https://localhost:8080/"
        },
        "id": "XawHO2hjb0tL",
        "outputId": "a8ce8f12-8524-416d-bbfc-ae764107fc60"
      },
      "execution_count": 20,
      "outputs": [
        {
          "output_type": "stream",
          "name": "stdout",
          "text": [
            "Looking in indexes: https://pypi.org/simple, https://us-python.pkg.dev/colab-wheels/public/simple/\n",
            "Requirement already satisfied: unrar in /usr/local/lib/python3.7/dist-packages (0.4)\n",
            "Looking in indexes: https://pypi.org/simple, https://us-python.pkg.dev/colab-wheels/public/simple/\n",
            "Collecting rarfile\n",
            "  Downloading rarfile-4.0-py3-none-any.whl (28 kB)\n",
            "Installing collected packages: rarfile\n",
            "Successfully installed rarfile-4.0\n"
          ]
        }
      ]
    },
    {
      "cell_type": "code",
      "source": [
        "def extract_rar_file(path, extract_path):\n",
        "  files = []\n",
        "  with rarfile.RarFile(path, 'r') as rf:\n",
        "    files = rf.namelist()\n",
        "    rf.extractall(extract_path)\n",
        "    \n",
        "  for file in files:\n",
        "    path_to_file = fr\"{extract_path}\\{file}\"  \n",
        "    # with open(file, 'r') as f:\n",
        "    #   data = f.readlines()\n",
        "    #   for line in data:\n",
        "    #     line = line.strip()\n",
        "    #     print(line)"
      ],
      "metadata": {
        "id": "xqKmosm4drAw"
      },
      "execution_count": 29,
      "outputs": []
    },
    {
      "cell_type": "code",
      "source": [
        "path = 'hamshahri.rar'\n",
        "extract_path = 'hamshahri'\n",
        "extract_rar_file(path, extract_path)"
      ],
      "metadata": {
        "id": "XIju1ZE6nKFn"
      },
      "execution_count": 30,
      "outputs": []
    },
    {
      "cell_type": "code",
      "source": [
        "def extract_zip_file(path, extract_path):\n",
        "  with zipfile.ZipFile(path, 'r') as zip_ref:\n",
        "      zip_ref.extractall(extract_path)"
      ],
      "metadata": {
        "id": "bPP9yzhgouRg"
      },
      "execution_count": 33,
      "outputs": []
    },
    {
      "cell_type": "code",
      "source": [
        "hamshahri_corpus_path = 'hamshahri/hamshahriold/Corpus/Hamshahri-Corpus.zip'\n",
        "hamshahri_corpus_extract_path = 'hamshahri/hamshahriold/Corpus/hamshahri-corpus'\n",
        "extract_zip_file(hamshahri_corpus_path, hamshahri_corpus_extract_path)"
      ],
      "metadata": {
        "id": "MKq4HZHXnVlG"
      },
      "execution_count": 34,
      "outputs": []
    },
    {
      "cell_type": "code",
      "source": [
        "corpus = pd.read_csv('hamshahri/hamshahriold/Corpus/hamshahri-corpus/Hamshahri-Corpus.txt', error_bad_lines=False)"
      ],
      "metadata": {
        "colab": {
          "base_uri": "https://localhost:8080/"
        },
        "id": "Z20weVvIoE11",
        "outputId": "d22491c4-cc2d-456d-d888-347451f42cf0"
      },
      "execution_count": 36,
      "outputs": [
        {
          "output_type": "stream",
          "name": "stderr",
          "text": [
            "/usr/local/lib/python3.7/dist-packages/IPython/core/interactiveshell.py:2882: FutureWarning: The error_bad_lines argument has been deprecated and will be removed in a future version.\n",
            "\n",
            "\n",
            "  exec(code_obj, self.user_global_ns, self.user_ns)\n",
            "b'Skipping line 11592: expected 1 fields, saw 2\\nSkipping line 23747: expected 1 fields, saw 3\\nSkipping line 23748: expected 1 fields, saw 4\\nSkipping line 23749: expected 1 fields, saw 3\\nSkipping line 23750: expected 1 fields, saw 2\\nSkipping line 36852: expected 1 fields, saw 4\\nSkipping line 36854: expected 1 fields, saw 3\\nSkipping line 36855: expected 1 fields, saw 5\\nSkipping line 36856: expected 1 fields, saw 2\\nSkipping line 36857: expected 1 fields, saw 4\\nSkipping line 36858: expected 1 fields, saw 3\\nSkipping line 36859: expected 1 fields, saw 3\\nSkipping line 36860: expected 1 fields, saw 2\\nSkipping line 41750: expected 1 fields, saw 3\\nSkipping line 41755: expected 1 fields, saw 2\\nSkipping line 67388: expected 1 fields, saw 2\\nSkipping line 67389: expected 1 fields, saw 3\\nSkipping line 69866: expected 1 fields, saw 2\\nSkipping line 71601: expected 1 fields, saw 3\\nSkipping line 75322: expected 1 fields, saw 2\\nSkipping line 75323: expected 1 fields, saw 2\\nSkipping line 75962: expected 1 fields, saw 3\\nSkipping line 87069: expected 1 fields, saw 3\\nSkipping line 89467: expected 1 fields, saw 4\\nSkipping line 89468: expected 1 fields, saw 3\\nSkipping line 89470: expected 1 fields, saw 3\\nSkipping line 89471: expected 1 fields, saw 3\\nSkipping line 105073: expected 1 fields, saw 2\\nSkipping line 108978: expected 1 fields, saw 3\\nSkipping line 108979: expected 1 fields, saw 2\\nSkipping line 112587: expected 1 fields, saw 2\\nSkipping line 114849: expected 1 fields, saw 3\\nSkipping line 153628: expected 1 fields, saw 2\\nSkipping line 156022: expected 1 fields, saw 2\\nSkipping line 160300: expected 1 fields, saw 2\\nSkipping line 168602: expected 1 fields, saw 2\\nSkipping line 176465: expected 1 fields, saw 2\\nSkipping line 194769: expected 1 fields, saw 4\\nSkipping line 197683: expected 1 fields, saw 5\\nSkipping line 197684: expected 1 fields, saw 2\\nSkipping line 224681: expected 1 fields, saw 2\\nSkipping line 224682: expected 1 fields, saw 3\\nSkipping line 226549: expected 1 fields, saw 2\\nSkipping line 244194: expected 1 fields, saw 2\\nSkipping line 251852: expected 1 fields, saw 2\\nSkipping line 253358: expected 1 fields, saw 3\\nSkipping line 253359: expected 1 fields, saw 4\\nSkipping line 253360: expected 1 fields, saw 4\\nSkipping line 253361: expected 1 fields, saw 3\\nSkipping line 257564: expected 1 fields, saw 2\\nSkipping line 274502: expected 1 fields, saw 2\\nSkipping line 274503: expected 1 fields, saw 2\\nSkipping line 274504: expected 1 fields, saw 3\\nSkipping line 274505: expected 1 fields, saw 2\\nSkipping line 276542: expected 1 fields, saw 3\\nSkipping line 285606: expected 1 fields, saw 2\\nSkipping line 289558: expected 1 fields, saw 5\\nSkipping line 289559: expected 1 fields, saw 4\\nSkipping line 289560: expected 1 fields, saw 2\\nSkipping line 289561: expected 1 fields, saw 4\\nSkipping line 289562: expected 1 fields, saw 2\\nSkipping line 289563: expected 1 fields, saw 4\\nSkipping line 294876: expected 1 fields, saw 2\\nSkipping line 349983: expected 1 fields, saw 2\\nSkipping line 354041: expected 1 fields, saw 4\\nSkipping line 357011: expected 1 fields, saw 3\\nSkipping line 357012: expected 1 fields, saw 2\\nSkipping line 357013: expected 1 fields, saw 2\\nSkipping line 357014: expected 1 fields, saw 4\\nSkipping line 357015: expected 1 fields, saw 4\\nSkipping line 357016: expected 1 fields, saw 3\\nSkipping line 357017: expected 1 fields, saw 3\\nSkipping line 357018: expected 1 fields, saw 5\\nSkipping line 357019: expected 1 fields, saw 2\\nSkipping line 361151: expected 1 fields, saw 2\\nSkipping line 363823: expected 1 fields, saw 2\\nSkipping line 364813: expected 1 fields, saw 2\\nSkipping line 379505: expected 1 fields, saw 3\\nSkipping line 379506: expected 1 fields, saw 5\\nSkipping line 379507: expected 1 fields, saw 2\\nSkipping line 394336: expected 1 fields, saw 2\\nSkipping line 401864: expected 1 fields, saw 2\\nSkipping line 401865: expected 1 fields, saw 3\\nSkipping line 401866: expected 1 fields, saw 2\\nSkipping line 401867: expected 1 fields, saw 3\\nSkipping line 401870: expected 1 fields, saw 3\\nSkipping line 401871: expected 1 fields, saw 3\\nSkipping line 401872: expected 1 fields, saw 2\\nSkipping line 408285: expected 1 fields, saw 3\\nSkipping line 418141: expected 1 fields, saw 2\\nSkipping line 418142: expected 1 fields, saw 2\\nSkipping line 418143: expected 1 fields, saw 4\\nSkipping line 418144: expected 1 fields, saw 3\\nSkipping line 418145: expected 1 fields, saw 4\\nSkipping line 418146: expected 1 fields, saw 2\\nSkipping line 418147: expected 1 fields, saw 2\\nSkipping line 424968: expected 1 fields, saw 2\\nSkipping line 429274: expected 1 fields, saw 2\\nSkipping line 432189: expected 1 fields, saw 2\\nSkipping line 490314: expected 1 fields, saw 2\\nSkipping line 492831: expected 1 fields, saw 3\\nSkipping line 492832: expected 1 fields, saw 2\\nSkipping line 531846: expected 1 fields, saw 5\\nSkipping line 531849: expected 1 fields, saw 5\\nSkipping line 531850: expected 1 fields, saw 4\\nSkipping line 531851: expected 1 fields, saw 3\\nSkipping line 531852: expected 1 fields, saw 2\\nSkipping line 531855: expected 1 fields, saw 2\\nSkipping line 543149: expected 1 fields, saw 2\\nSkipping line 549678: expected 1 fields, saw 4\\nSkipping line 549679: expected 1 fields, saw 5\\nSkipping line 549680: expected 1 fields, saw 3\\nSkipping line 549687: expected 1 fields, saw 3\\n'\n",
            "b'Skipping line 565269: expected 1 fields, saw 2\\nSkipping line 578921: expected 1 fields, saw 2\\nSkipping line 604660: expected 1 fields, saw 2\\nSkipping line 610309: expected 1 fields, saw 2\\nSkipping line 610902: expected 1 fields, saw 2\\nSkipping line 616122: expected 1 fields, saw 4\\nSkipping line 616123: expected 1 fields, saw 4\\nSkipping line 632084: expected 1 fields, saw 2\\nSkipping line 632085: expected 1 fields, saw 2\\nSkipping line 632087: expected 1 fields, saw 2\\nSkipping line 633374: expected 1 fields, saw 3\\nSkipping line 647605: expected 1 fields, saw 3\\nSkipping line 647606: expected 1 fields, saw 3\\nSkipping line 647607: expected 1 fields, saw 3\\nSkipping line 647610: expected 1 fields, saw 2\\nSkipping line 684845: expected 1 fields, saw 2\\nSkipping line 692735: expected 1 fields, saw 2\\nSkipping line 692736: expected 1 fields, saw 2\\nSkipping line 700122: expected 1 fields, saw 2\\nSkipping line 700123: expected 1 fields, saw 2\\nSkipping line 711967: expected 1 fields, saw 2\\nSkipping line 711968: expected 1 fields, saw 3\\nSkipping line 711969: expected 1 fields, saw 2\\nSkipping line 711970: expected 1 fields, saw 2\\nSkipping line 713742: expected 1 fields, saw 3\\nSkipping line 801982: expected 1 fields, saw 4\\nSkipping line 801983: expected 1 fields, saw 2\\nSkipping line 801984: expected 1 fields, saw 2\\nSkipping line 801985: expected 1 fields, saw 3\\nSkipping line 801986: expected 1 fields, saw 5\\nSkipping line 801987: expected 1 fields, saw 3\\nSkipping line 801988: expected 1 fields, saw 2\\nSkipping line 801989: expected 1 fields, saw 2\\nSkipping line 801992: expected 1 fields, saw 2\\nSkipping line 801993: expected 1 fields, saw 2\\nSkipping line 801995: expected 1 fields, saw 2\\nSkipping line 801996: expected 1 fields, saw 2\\nSkipping line 801997: expected 1 fields, saw 3\\nSkipping line 801998: expected 1 fields, saw 2\\nSkipping line 802001: expected 1 fields, saw 3\\nSkipping line 802004: expected 1 fields, saw 3\\nSkipping line 802005: expected 1 fields, saw 2\\nSkipping line 807645: expected 1 fields, saw 3\\nSkipping line 814837: expected 1 fields, saw 4\\nSkipping line 814838: expected 1 fields, saw 3\\nSkipping line 814840: expected 1 fields, saw 2\\nSkipping line 834254: expected 1 fields, saw 2\\nSkipping line 856859: expected 1 fields, saw 2\\nSkipping line 856944: expected 1 fields, saw 3\\nSkipping line 862768: expected 1 fields, saw 2\\nSkipping line 865840: expected 1 fields, saw 2\\nSkipping line 866893: expected 1 fields, saw 2\\nSkipping line 866969: expected 1 fields, saw 2\\nSkipping line 866990: expected 1 fields, saw 3\\nSkipping line 866991: expected 1 fields, saw 2\\nSkipping line 867038: expected 1 fields, saw 2\\nSkipping line 870528: expected 1 fields, saw 3\\nSkipping line 871812: expected 1 fields, saw 3\\nSkipping line 871813: expected 1 fields, saw 2\\nSkipping line 871815: expected 1 fields, saw 2\\nSkipping line 871817: expected 1 fields, saw 3\\nSkipping line 871818: expected 1 fields, saw 2\\nSkipping line 871819: expected 1 fields, saw 2\\nSkipping line 882259: expected 1 fields, saw 3\\nSkipping line 882260: expected 1 fields, saw 2\\nSkipping line 882261: expected 1 fields, saw 4\\nSkipping line 882262: expected 1 fields, saw 5\\nSkipping line 882263: expected 1 fields, saw 3\\nSkipping line 882264: expected 1 fields, saw 2\\nSkipping line 891134: expected 1 fields, saw 3\\nSkipping line 891135: expected 1 fields, saw 3\\nSkipping line 891138: expected 1 fields, saw 3\\nSkipping line 891139: expected 1 fields, saw 3\\nSkipping line 894658: expected 1 fields, saw 2\\nSkipping line 898007: expected 1 fields, saw 2\\nSkipping line 904708: expected 1 fields, saw 2\\nSkipping line 913842: expected 1 fields, saw 4\\nSkipping line 913843: expected 1 fields, saw 3\\nSkipping line 913844: expected 1 fields, saw 3\\nSkipping line 913845: expected 1 fields, saw 3\\nSkipping line 930522: expected 1 fields, saw 3\\nSkipping line 950599: expected 1 fields, saw 4\\nSkipping line 950600: expected 1 fields, saw 3\\nSkipping line 950601: expected 1 fields, saw 3\\nSkipping line 950603: expected 1 fields, saw 2\\nSkipping line 950604: expected 1 fields, saw 2\\nSkipping line 950609: expected 1 fields, saw 2\\nSkipping line 953494: expected 1 fields, saw 2\\nSkipping line 953495: expected 1 fields, saw 2\\nSkipping line 953496: expected 1 fields, saw 2\\nSkipping line 953497: expected 1 fields, saw 2\\nSkipping line 964812: expected 1 fields, saw 3\\nSkipping line 967680: expected 1 fields, saw 2\\nSkipping line 967681: expected 1 fields, saw 6\\nSkipping line 967683: expected 1 fields, saw 3\\nSkipping line 967684: expected 1 fields, saw 3\\nSkipping line 967685: expected 1 fields, saw 3\\nSkipping line 967686: expected 1 fields, saw 2\\nSkipping line 967687: expected 1 fields, saw 3\\nSkipping line 967688: expected 1 fields, saw 3\\nSkipping line 967689: expected 1 fields, saw 2\\nSkipping line 967690: expected 1 fields, saw 2\\nSkipping line 967692: expected 1 fields, saw 2\\nSkipping line 967693: expected 1 fields, saw 4\\nSkipping line 967694: expected 1 fields, saw 4\\nSkipping line 967705: expected 1 fields, saw 3\\nSkipping line 967707: expected 1 fields, saw 3\\nSkipping line 969464: expected 1 fields, saw 2\\nSkipping line 969576: expected 1 fields, saw 2\\nSkipping line 971874: expected 1 fields, saw 3\\nSkipping line 972231: expected 1 fields, saw 2\\nSkipping line 975448: expected 1 fields, saw 2\\nSkipping line 985126: expected 1 fields, saw 2\\nSkipping line 1009051: expected 1 fields, saw 2\\nSkipping line 1024032: expected 1 fields, saw 4\\nSkipping line 1024033: expected 1 fields, saw 2\\nSkipping line 1024034: expected 1 fields, saw 4\\nSkipping line 1024036: expected 1 fields, saw 2\\nSkipping line 1024039: expected 1 fields, saw 2\\nSkipping line 1024042: expected 1 fields, saw 3\\nSkipping line 1029576: expected 1 fields, saw 3\\nSkipping line 1030477: expected 1 fields, saw 2\\nSkipping line 1030479: expected 1 fields, saw 2\\nSkipping line 1036714: expected 1 fields, saw 3\\nSkipping line 1036715: expected 1 fields, saw 2\\nSkipping line 1036719: expected 1 fields, saw 3\\nSkipping line 1036720: expected 1 fields, saw 4\\nSkipping line 1036731: expected 1 fields, saw 2\\nSkipping line 1036732: expected 1 fields, saw 3\\nSkipping line 1036733: expected 1 fields, saw 2\\nSkipping line 1036737: expected 1 fields, saw 2\\nSkipping line 1050996: expected 1 fields, saw 2\\nSkipping line 1070847: expected 1 fields, saw 2\\nSkipping line 1070850: expected 1 fields, saw 3\\nSkipping line 1070853: expected 1 fields, saw 2\\nSkipping line 1074670: expected 1 fields, saw 3\\nSkipping line 1077168: expected 1 fields, saw 3\\nSkipping line 1079634: expected 1 fields, saw 2\\nSkipping line 1083149: expected 1 fields, saw 2\\nSkipping line 1087942: expected 1 fields, saw 2\\nSkipping line 1091305: expected 1 fields, saw 2\\nSkipping line 1091363: expected 1 fields, saw 2\\nSkipping line 1099356: expected 1 fields, saw 2\\nSkipping line 1099357: expected 1 fields, saw 2\\nSkipping line 1100958: expected 1 fields, saw 5\\nSkipping line 1100960: expected 1 fields, saw 3\\nSkipping line 1100961: expected 1 fields, saw 3\\n'\n",
            "b'Skipping line 1117397: expected 1 fields, saw 2\\nSkipping line 1124359: expected 1 fields, saw 4\\nSkipping line 1124360: expected 1 fields, saw 3\\nSkipping line 1124361: expected 1 fields, saw 3\\nSkipping line 1124363: expected 1 fields, saw 5\\nSkipping line 1124365: expected 1 fields, saw 3\\nSkipping line 1124366: expected 1 fields, saw 2\\nSkipping line 1124367: expected 1 fields, saw 5\\nSkipping line 1124368: expected 1 fields, saw 4\\nSkipping line 1124369: expected 1 fields, saw 3\\nSkipping line 1124371: expected 1 fields, saw 4\\nSkipping line 1124372: expected 1 fields, saw 2\\nSkipping line 1124373: expected 1 fields, saw 2\\nSkipping line 1124374: expected 1 fields, saw 3\\nSkipping line 1124375: expected 1 fields, saw 2\\nSkipping line 1124376: expected 1 fields, saw 2\\nSkipping line 1124377: expected 1 fields, saw 4\\nSkipping line 1124378: expected 1 fields, saw 2\\nSkipping line 1124379: expected 1 fields, saw 5\\nSkipping line 1124381: expected 1 fields, saw 4\\nSkipping line 1124382: expected 1 fields, saw 2\\nSkipping line 1124383: expected 1 fields, saw 2\\nSkipping line 1124384: expected 1 fields, saw 4\\nSkipping line 1124385: expected 1 fields, saw 2\\nSkipping line 1124386: expected 1 fields, saw 3\\nSkipping line 1124387: expected 1 fields, saw 4\\nSkipping line 1126618: expected 1 fields, saw 2\\nSkipping line 1126619: expected 1 fields, saw 4\\nSkipping line 1126620: expected 1 fields, saw 3\\nSkipping line 1126621: expected 1 fields, saw 3\\nSkipping line 1126626: expected 1 fields, saw 3\\nSkipping line 1126629: expected 1 fields, saw 3\\nSkipping line 1126630: expected 1 fields, saw 4\\nSkipping line 1126631: expected 1 fields, saw 2\\nSkipping line 1126632: expected 1 fields, saw 2\\nSkipping line 1126633: expected 1 fields, saw 3\\nSkipping line 1126638: expected 1 fields, saw 2\\nSkipping line 1126639: expected 1 fields, saw 3\\nSkipping line 1126640: expected 1 fields, saw 4\\nSkipping line 1141526: expected 1 fields, saw 3\\nSkipping line 1141527: expected 1 fields, saw 2\\nSkipping line 1158434: expected 1 fields, saw 2\\nSkipping line 1164032: expected 1 fields, saw 2\\nSkipping line 1182585: expected 1 fields, saw 2\\nSkipping line 1182586: expected 1 fields, saw 3\\nSkipping line 1182587: expected 1 fields, saw 2\\nSkipping line 1189724: expected 1 fields, saw 3\\nSkipping line 1189725: expected 1 fields, saw 2\\nSkipping line 1189726: expected 1 fields, saw 4\\nSkipping line 1189727: expected 1 fields, saw 2\\nSkipping line 1189728: expected 1 fields, saw 5\\nSkipping line 1189729: expected 1 fields, saw 2\\nSkipping line 1189730: expected 1 fields, saw 3\\nSkipping line 1189731: expected 1 fields, saw 2\\nSkipping line 1189732: expected 1 fields, saw 2\\nSkipping line 1189735: expected 1 fields, saw 3\\nSkipping line 1197054: expected 1 fields, saw 2\\nSkipping line 1197057: expected 1 fields, saw 2\\nSkipping line 1197059: expected 1 fields, saw 2\\nSkipping line 1197060: expected 1 fields, saw 3\\nSkipping line 1197062: expected 1 fields, saw 2\\nSkipping line 1197063: expected 1 fields, saw 2\\nSkipping line 1210956: expected 1 fields, saw 2\\nSkipping line 1210970: expected 1 fields, saw 2\\nSkipping line 1210978: expected 1 fields, saw 2\\nSkipping line 1211008: expected 1 fields, saw 2\\nSkipping line 1211087: expected 1 fields, saw 2\\nSkipping line 1240211: expected 1 fields, saw 2\\nSkipping line 1240239: expected 1 fields, saw 2\\nSkipping line 1245139: expected 1 fields, saw 2\\nSkipping line 1245140: expected 1 fields, saw 4\\nSkipping line 1245147: expected 1 fields, saw 2\\nSkipping line 1245148: expected 1 fields, saw 4\\nSkipping line 1245149: expected 1 fields, saw 2\\nSkipping line 1245156: expected 1 fields, saw 3\\nSkipping line 1245157: expected 1 fields, saw 2\\nSkipping line 1245160: expected 1 fields, saw 5\\nSkipping line 1245162: expected 1 fields, saw 2\\nSkipping line 1245163: expected 1 fields, saw 3\\nSkipping line 1245166: expected 1 fields, saw 3\\nSkipping line 1245167: expected 1 fields, saw 3\\nSkipping line 1245175: expected 1 fields, saw 3\\nSkipping line 1245176: expected 1 fields, saw 2\\nSkipping line 1247252: expected 1 fields, saw 2\\nSkipping line 1258963: expected 1 fields, saw 2\\nSkipping line 1263855: expected 1 fields, saw 4\\nSkipping line 1278644: expected 1 fields, saw 3\\nSkipping line 1278647: expected 1 fields, saw 3\\nSkipping line 1312746: expected 1 fields, saw 2\\nSkipping line 1316387: expected 1 fields, saw 2\\nSkipping line 1336527: expected 1 fields, saw 2\\nSkipping line 1336528: expected 1 fields, saw 4\\nSkipping line 1336529: expected 1 fields, saw 3\\nSkipping line 1349472: expected 1 fields, saw 2\\nSkipping line 1349473: expected 1 fields, saw 2\\nSkipping line 1349474: expected 1 fields, saw 2\\nSkipping line 1349475: expected 1 fields, saw 4\\nSkipping line 1349476: expected 1 fields, saw 2\\nSkipping line 1349477: expected 1 fields, saw 2\\nSkipping line 1349478: expected 1 fields, saw 2\\nSkipping line 1349479: expected 1 fields, saw 2\\nSkipping line 1349480: expected 1 fields, saw 4\\nSkipping line 1349481: expected 1 fields, saw 2\\nSkipping line 1349482: expected 1 fields, saw 2\\nSkipping line 1349483: expected 1 fields, saw 2\\nSkipping line 1349484: expected 1 fields, saw 2\\nSkipping line 1349485: expected 1 fields, saw 3\\nSkipping line 1349486: expected 1 fields, saw 4\\nSkipping line 1349488: expected 1 fields, saw 3\\nSkipping line 1349489: expected 1 fields, saw 3\\nSkipping line 1349490: expected 1 fields, saw 2\\nSkipping line 1349491: expected 1 fields, saw 2\\nSkipping line 1349492: expected 1 fields, saw 3\\nSkipping line 1349493: expected 1 fields, saw 2\\nSkipping line 1349494: expected 1 fields, saw 2\\nSkipping line 1349495: expected 1 fields, saw 3\\nSkipping line 1349496: expected 1 fields, saw 2\\nSkipping line 1349497: expected 1 fields, saw 2\\nSkipping line 1349498: expected 1 fields, saw 2\\nSkipping line 1349499: expected 1 fields, saw 2\\nSkipping line 1349500: expected 1 fields, saw 3\\nSkipping line 1349501: expected 1 fields, saw 2\\nSkipping line 1349502: expected 1 fields, saw 4\\nSkipping line 1350280: expected 1 fields, saw 2\\nSkipping line 1350281: expected 1 fields, saw 4\\nSkipping line 1350282: expected 1 fields, saw 2\\nSkipping line 1350293: expected 1 fields, saw 3\\nSkipping line 1350294: expected 1 fields, saw 3\\nSkipping line 1350296: expected 1 fields, saw 4\\nSkipping line 1350297: expected 1 fields, saw 3\\nSkipping line 1350298: expected 1 fields, saw 2\\nSkipping line 1350299: expected 1 fields, saw 4\\nSkipping line 1367188: expected 1 fields, saw 2\\nSkipping line 1367281: expected 1 fields, saw 2\\nSkipping line 1367282: expected 1 fields, saw 3\\nSkipping line 1367283: expected 1 fields, saw 2\\nSkipping line 1367285: expected 1 fields, saw 2\\nSkipping line 1367286: expected 1 fields, saw 2\\nSkipping line 1367289: expected 1 fields, saw 2\\nSkipping line 1367292: expected 1 fields, saw 2\\nSkipping line 1387910: expected 1 fields, saw 2\\nSkipping line 1387912: expected 1 fields, saw 2\\nSkipping line 1387913: expected 1 fields, saw 3\\nSkipping line 1387914: expected 1 fields, saw 2\\nSkipping line 1387917: expected 1 fields, saw 2\\nSkipping line 1402188: expected 1 fields, saw 2\\nSkipping line 1411230: expected 1 fields, saw 2\\nSkipping line 1414953: expected 1 fields, saw 2\\nSkipping line 1432612: expected 1 fields, saw 3\\nSkipping line 1432613: expected 1 fields, saw 3\\nSkipping line 1432616: expected 1 fields, saw 3\\nSkipping line 1434798: expected 1 fields, saw 2\\nSkipping line 1447520: expected 1 fields, saw 2\\nSkipping line 1472216: expected 1 fields, saw 2\\nSkipping line 1481785: expected 1 fields, saw 3\\nSkipping line 1522533: expected 1 fields, saw 3\\nSkipping line 1522687: expected 1 fields, saw 2\\nSkipping line 1522688: expected 1 fields, saw 6\\nSkipping line 1522689: expected 1 fields, saw 2\\nSkipping line 1533754: expected 1 fields, saw 2\\nSkipping line 1544235: expected 1 fields, saw 2\\nSkipping line 1544236: expected 1 fields, saw 3\\nSkipping line 1544260: expected 1 fields, saw 4\\nSkipping line 1544261: expected 1 fields, saw 2\\nSkipping line 1544262: expected 1 fields, saw 3\\nSkipping line 1544263: expected 1 fields, saw 2\\nSkipping line 1595397: expected 1 fields, saw 2\\nSkipping line 1610447: expected 1 fields, saw 2\\nSkipping line 1610448: expected 1 fields, saw 2\\nSkipping line 1610449: expected 1 fields, saw 3\\nSkipping line 1610450: expected 1 fields, saw 2\\nSkipping line 1610451: expected 1 fields, saw 3\\nSkipping line 1615966: expected 1 fields, saw 2\\nSkipping line 1649951: expected 1 fields, saw 2\\nSkipping line 1656326: expected 1 fields, saw 2\\nSkipping line 1656327: expected 1 fields, saw 3\\nSkipping line 1656328: expected 1 fields, saw 2\\nSkipping line 1662433: expected 1 fields, saw 2\\n'\n",
            "b'Skipping line 1665802: expected 1 fields, saw 2\\nSkipping line 1679978: expected 1 fields, saw 2\\nSkipping line 1679984: expected 1 fields, saw 2\\nSkipping line 1679990: expected 1 fields, saw 2\\nSkipping line 1679993: expected 1 fields, saw 2\\nSkipping line 1679999: expected 1 fields, saw 2\\nSkipping line 1680004: expected 1 fields, saw 2\\nSkipping line 1680014: expected 1 fields, saw 2\\nSkipping line 1680018: expected 1 fields, saw 2\\nSkipping line 1703199: expected 1 fields, saw 2\\nSkipping line 1712230: expected 1 fields, saw 2\\nSkipping line 1712231: expected 1 fields, saw 3\\nSkipping line 1712233: expected 1 fields, saw 4\\nSkipping line 1712235: expected 1 fields, saw 4\\nSkipping line 1712236: expected 1 fields, saw 3\\nSkipping line 1712237: expected 1 fields, saw 3\\nSkipping line 1712249: expected 1 fields, saw 2\\nSkipping line 1715053: expected 1 fields, saw 2\\nSkipping line 1737231: expected 1 fields, saw 2\\nSkipping line 1737236: expected 1 fields, saw 2\\nSkipping line 1738528: expected 1 fields, saw 2\\nSkipping line 1741086: expected 1 fields, saw 2\\nSkipping line 1741088: expected 1 fields, saw 2\\nSkipping line 1741090: expected 1 fields, saw 3\\nSkipping line 1741093: expected 1 fields, saw 2\\nSkipping line 1752668: expected 1 fields, saw 3\\nSkipping line 1752669: expected 1 fields, saw 2\\nSkipping line 1756008: expected 1 fields, saw 2\\nSkipping line 1770572: expected 1 fields, saw 3\\nSkipping line 1793535: expected 1 fields, saw 2\\nSkipping line 1813698: expected 1 fields, saw 2\\nSkipping line 1813699: expected 1 fields, saw 2\\nSkipping line 1860838: expected 1 fields, saw 2\\nSkipping line 1860844: expected 1 fields, saw 3\\nSkipping line 1860852: expected 1 fields, saw 3\\nSkipping line 1870082: expected 1 fields, saw 2\\nSkipping line 1873587: expected 1 fields, saw 2\\nSkipping line 1901346: expected 1 fields, saw 3\\nSkipping line 1901348: expected 1 fields, saw 3\\nSkipping line 1901349: expected 1 fields, saw 3\\nSkipping line 1914093: expected 1 fields, saw 2\\nSkipping line 1927091: expected 1 fields, saw 2\\nSkipping line 1961066: expected 1 fields, saw 2\\nSkipping line 1961070: expected 1 fields, saw 4\\nSkipping line 1961110: expected 1 fields, saw 2\\nSkipping line 1961113: expected 1 fields, saw 3\\nSkipping line 1961139: expected 1 fields, saw 4\\nSkipping line 1983442: expected 1 fields, saw 2\\nSkipping line 1983443: expected 1 fields, saw 2\\nSkipping line 1983445: expected 1 fields, saw 2\\nSkipping line 1983502: expected 1 fields, saw 2\\nSkipping line 1997820: expected 1 fields, saw 2\\nSkipping line 2000787: expected 1 fields, saw 3\\nSkipping line 2000817: expected 1 fields, saw 4\\nSkipping line 2026398: expected 1 fields, saw 2\\nSkipping line 2026399: expected 1 fields, saw 2\\nSkipping line 2038155: expected 1 fields, saw 2\\nSkipping line 2066071: expected 1 fields, saw 2\\nSkipping line 2091677: expected 1 fields, saw 3\\nSkipping line 2097117: expected 1 fields, saw 2\\nSkipping line 2100761: expected 1 fields, saw 3\\nSkipping line 2117286: expected 1 fields, saw 3\\nSkipping line 2117905: expected 1 fields, saw 2\\nSkipping line 2123895: expected 1 fields, saw 2\\nSkipping line 2127248: expected 1 fields, saw 2\\nSkipping line 2153592: expected 1 fields, saw 3\\n'\n",
            "b'Skipping line 2227388: expected 1 fields, saw 2\\nSkipping line 2227391: expected 1 fields, saw 2\\nSkipping line 2293515: expected 1 fields, saw 3\\nSkipping line 2304102: expected 1 fields, saw 2\\nSkipping line 2304103: expected 1 fields, saw 2\\nSkipping line 2304104: expected 1 fields, saw 2\\nSkipping line 2329723: expected 1 fields, saw 3\\nSkipping line 2346898: expected 1 fields, saw 2\\nSkipping line 2346900: expected 1 fields, saw 2\\nSkipping line 2346902: expected 1 fields, saw 2\\nSkipping line 2350198: expected 1 fields, saw 2\\nSkipping line 2350202: expected 1 fields, saw 2\\nSkipping line 2350203: expected 1 fields, saw 3\\nSkipping line 2350442: expected 1 fields, saw 2\\nSkipping line 2350504: expected 1 fields, saw 2\\nSkipping line 2375725: expected 1 fields, saw 2\\nSkipping line 2377317: expected 1 fields, saw 3\\nSkipping line 2377318: expected 1 fields, saw 5\\nSkipping line 2400058: expected 1 fields, saw 2\\nSkipping line 2400093: expected 1 fields, saw 2\\nSkipping line 2400127: expected 1 fields, saw 3\\nSkipping line 2400129: expected 1 fields, saw 2\\nSkipping line 2410300: expected 1 fields, saw 2\\nSkipping line 2490687: expected 1 fields, saw 2\\nSkipping line 2552685: expected 1 fields, saw 2\\nSkipping line 2552727: expected 1 fields, saw 2\\nSkipping line 2552736: expected 1 fields, saw 2\\nSkipping line 2552759: expected 1 fields, saw 4\\nSkipping line 2552765: expected 1 fields, saw 2\\nSkipping line 2552776: expected 1 fields, saw 2\\nSkipping line 2552793: expected 1 fields, saw 2\\nSkipping line 2573287: expected 1 fields, saw 2\\nSkipping line 2573361: expected 1 fields, saw 3\\nSkipping line 2573362: expected 1 fields, saw 2\\nSkipping line 2573375: expected 1 fields, saw 2\\nSkipping line 2582560: expected 1 fields, saw 4\\nSkipping line 2590203: expected 1 fields, saw 2\\nSkipping line 2615041: expected 1 fields, saw 2\\nSkipping line 2620128: expected 1 fields, saw 2\\nSkipping line 2624225: expected 1 fields, saw 3\\nSkipping line 2624645: expected 1 fields, saw 2\\nSkipping line 2640652: expected 1 fields, saw 2\\nSkipping line 2712503: expected 1 fields, saw 3\\nSkipping line 2716259: expected 1 fields, saw 2\\nSkipping line 2716315: expected 1 fields, saw 2\\nSkipping line 2716321: expected 1 fields, saw 2\\nSkipping line 2716326: expected 1 fields, saw 2\\nSkipping line 2725369: expected 1 fields, saw 2\\nSkipping line 2725371: expected 1 fields, saw 2\\nSkipping line 2725372: expected 1 fields, saw 2\\nSkipping line 2725375: expected 1 fields, saw 2\\nSkipping line 2725378: expected 1 fields, saw 2\\nSkipping line 2725394: expected 1 fields, saw 2\\nSkipping line 2725470: expected 1 fields, saw 2\\nSkipping line 2725473: expected 1 fields, saw 3\\nSkipping line 2725478: expected 1 fields, saw 2\\nSkipping line 2725489: expected 1 fields, saw 3\\nSkipping line 2728469: expected 1 fields, saw 3\\nSkipping line 2732619: expected 1 fields, saw 2\\nSkipping line 2732635: expected 1 fields, saw 2\\nSkipping line 2732652: expected 1 fields, saw 2\\nSkipping line 2732665: expected 1 fields, saw 2\\nSkipping line 2743321: expected 1 fields, saw 3\\nSkipping line 2756392: expected 1 fields, saw 2\\n'\n",
            "b'Skipping line 2774865: expected 1 fields, saw 5\\nSkipping line 2774869: expected 1 fields, saw 3\\nSkipping line 2796364: expected 1 fields, saw 2\\nSkipping line 2818933: expected 1 fields, saw 2\\nSkipping line 2844647: expected 1 fields, saw 2\\nSkipping line 2844673: expected 1 fields, saw 2\\nSkipping line 2866919: expected 1 fields, saw 3\\nSkipping line 2902549: expected 1 fields, saw 2\\nSkipping line 2991820: expected 1 fields, saw 2\\nSkipping line 3028067: expected 1 fields, saw 4\\nSkipping line 3086240: expected 1 fields, saw 2\\nSkipping line 3086241: expected 1 fields, saw 4\\nSkipping line 3086242: expected 1 fields, saw 4\\nSkipping line 3086249: expected 1 fields, saw 2\\nSkipping line 3086251: expected 1 fields, saw 2\\nSkipping line 3121094: expected 1 fields, saw 2\\nSkipping line 3126016: expected 1 fields, saw 2\\nSkipping line 3171059: expected 1 fields, saw 3\\nSkipping line 3171060: expected 1 fields, saw 3\\nSkipping line 3204583: expected 1 fields, saw 2\\nSkipping line 3204584: expected 1 fields, saw 3\\nSkipping line 3204586: expected 1 fields, saw 3\\nSkipping line 3204594: expected 1 fields, saw 2\\nSkipping line 3204595: expected 1 fields, saw 3\\nSkipping line 3204597: expected 1 fields, saw 3\\nSkipping line 3204599: expected 1 fields, saw 4\\nSkipping line 3214711: expected 1 fields, saw 4\\nSkipping line 3241584: expected 1 fields, saw 5\\nSkipping line 3241586: expected 1 fields, saw 3\\nSkipping line 3241588: expected 1 fields, saw 5\\nSkipping line 3241589: expected 1 fields, saw 3\\nSkipping line 3268759: expected 1 fields, saw 2\\nSkipping line 3276742: expected 1 fields, saw 2\\nSkipping line 3276743: expected 1 fields, saw 2\\n'\n",
            "b'Skipping line 3314628: expected 1 fields, saw 2\\nSkipping line 3329283: expected 1 fields, saw 2\\nSkipping line 3340037: expected 1 fields, saw 2\\nSkipping line 3350350: expected 1 fields, saw 2\\nSkipping line 3359408: expected 1 fields, saw 2\\nSkipping line 3366513: expected 1 fields, saw 2\\nSkipping line 3373973: expected 1 fields, saw 2\\nSkipping line 3377390: expected 1 fields, saw 2\\nSkipping line 3378764: expected 1 fields, saw 2\\nSkipping line 3381186: expected 1 fields, saw 2\\nSkipping line 3388342: expected 1 fields, saw 2\\nSkipping line 3390030: expected 1 fields, saw 2\\nSkipping line 3391812: expected 1 fields, saw 2\\nSkipping line 3391828: expected 1 fields, saw 2\\nSkipping line 3391858: expected 1 fields, saw 2\\nSkipping line 3391900: expected 1 fields, saw 2\\nSkipping line 3394833: expected 1 fields, saw 2\\nSkipping line 3394894: expected 1 fields, saw 2\\nSkipping line 3394965: expected 1 fields, saw 2\\nSkipping line 3395000: expected 1 fields, saw 2\\nSkipping line 3401505: expected 1 fields, saw 2\\nSkipping line 3466120: expected 1 fields, saw 4\\nSkipping line 3533151: expected 1 fields, saw 2\\nSkipping line 3573977: expected 1 fields, saw 2\\nSkipping line 3583546: expected 1 fields, saw 3\\nSkipping line 3588565: expected 1 fields, saw 2\\nSkipping line 3588570: expected 1 fields, saw 2\\nSkipping line 3594819: expected 1 fields, saw 3\\nSkipping line 3607922: expected 1 fields, saw 2\\nSkipping line 3608521: expected 1 fields, saw 2\\nSkipping line 3616574: expected 1 fields, saw 3\\nSkipping line 3621169: expected 1 fields, saw 3\\nSkipping line 3625511: expected 1 fields, saw 3\\nSkipping line 3631663: expected 1 fields, saw 2\\nSkipping line 3673204: expected 1 fields, saw 3\\nSkipping line 3678937: expected 1 fields, saw 3\\nSkipping line 3687049: expected 1 fields, saw 3\\nSkipping line 3695693: expected 1 fields, saw 2\\nSkipping line 3707299: expected 1 fields, saw 3\\nSkipping line 3736723: expected 1 fields, saw 3\\nSkipping line 3756846: expected 1 fields, saw 3\\nSkipping line 3760512: expected 1 fields, saw 2\\nSkipping line 3780409: expected 1 fields, saw 3\\nSkipping line 3783172: expected 1 fields, saw 2\\nSkipping line 3783173: expected 1 fields, saw 2\\nSkipping line 3808797: expected 1 fields, saw 3\\nSkipping line 3829517: expected 1 fields, saw 2\\nSkipping line 3829518: expected 1 fields, saw 2\\nSkipping line 3829519: expected 1 fields, saw 4\\nSkipping line 3829521: expected 1 fields, saw 2\\nSkipping line 3829801: expected 1 fields, saw 3\\nSkipping line 3832060: expected 1 fields, saw 2\\nSkipping line 3833645: expected 1 fields, saw 3\\n'\n",
            "b'Skipping line 3874198: expected 1 fields, saw 2\\nSkipping line 3877933: expected 1 fields, saw 2\\nSkipping line 3885136: expected 1 fields, saw 2\\nSkipping line 3887463: expected 1 fields, saw 5\\nSkipping line 3896212: expected 1 fields, saw 3\\nSkipping line 3908438: expected 1 fields, saw 2\\nSkipping line 3964901: expected 1 fields, saw 3\\nSkipping line 3964902: expected 1 fields, saw 2\\nSkipping line 3964920: expected 1 fields, saw 2\\nSkipping line 3980058: expected 1 fields, saw 2\\nSkipping line 3989922: expected 1 fields, saw 2\\nSkipping line 4105166: expected 1 fields, saw 2\\nSkipping line 4108754: expected 1 fields, saw 2\\nSkipping line 4112006: expected 1 fields, saw 2\\nSkipping line 4143127: expected 1 fields, saw 2\\nSkipping line 4160629: expected 1 fields, saw 3\\nSkipping line 4171886: expected 1 fields, saw 2\\nSkipping line 4175538: expected 1 fields, saw 2\\nSkipping line 4190364: expected 1 fields, saw 3\\nSkipping line 4266780: expected 1 fields, saw 2\\nSkipping line 4273763: expected 1 fields, saw 2\\nSkipping line 4365642: expected 1 fields, saw 2\\nSkipping line 4371313: expected 1 fields, saw 3\\nSkipping line 4372224: expected 1 fields, saw 2\\nSkipping line 4374639: expected 1 fields, saw 2\\nSkipping line 4375007: expected 1 fields, saw 2\\nSkipping line 4375909: expected 1 fields, saw 2\\nSkipping line 4375911: expected 1 fields, saw 2\\nSkipping line 4375950: expected 1 fields, saw 2\\nSkipping line 4376815: expected 1 fields, saw 2\\nSkipping line 4376830: expected 1 fields, saw 2\\nSkipping line 4376919: expected 1 fields, saw 2\\nSkipping line 4378370: expected 1 fields, saw 2\\nSkipping line 4378672: expected 1 fields, saw 2\\nSkipping line 4378750: expected 1 fields, saw 2\\nSkipping line 4378927: expected 1 fields, saw 2\\nSkipping line 4383355: expected 1 fields, saw 2\\nSkipping line 4391811: expected 1 fields, saw 2\\nSkipping line 4393581: expected 1 fields, saw 2\\nSkipping line 4395144: expected 1 fields, saw 2\\nSkipping line 4400581: expected 1 fields, saw 2\\nSkipping line 4403242: expected 1 fields, saw 2\\nSkipping line 4403298: expected 1 fields, saw 2\\nSkipping line 4403348: expected 1 fields, saw 2\\nSkipping line 4406433: expected 1 fields, saw 2\\n'\n",
            "b'Skipping line 4418596: expected 1 fields, saw 2\\nSkipping line 4426184: expected 1 fields, saw 3\\nSkipping line 4491277: expected 1 fields, saw 2\\nSkipping line 4498769: expected 1 fields, saw 3\\nSkipping line 4498770: expected 1 fields, saw 2\\nSkipping line 4566798: expected 1 fields, saw 2\\nSkipping line 4616902: expected 1 fields, saw 2\\nSkipping line 4624308: expected 1 fields, saw 2\\nSkipping line 4633513: expected 1 fields, saw 2\\nSkipping line 4643494: expected 1 fields, saw 2\\nSkipping line 4661832: expected 1 fields, saw 3\\nSkipping line 4708235: expected 1 fields, saw 2\\nSkipping line 4737542: expected 1 fields, saw 2\\nSkipping line 4750873: expected 1 fields, saw 3\\nSkipping line 4750874: expected 1 fields, saw 2\\nSkipping line 4796937: expected 1 fields, saw 2\\nSkipping line 4796938: expected 1 fields, saw 2\\nSkipping line 4796939: expected 1 fields, saw 2\\nSkipping line 4796941: expected 1 fields, saw 3\\nSkipping line 4796942: expected 1 fields, saw 2\\nSkipping line 4796943: expected 1 fields, saw 4\\nSkipping line 4796944: expected 1 fields, saw 2\\nSkipping line 4796947: expected 1 fields, saw 4\\nSkipping line 4796948: expected 1 fields, saw 2\\nSkipping line 4796949: expected 1 fields, saw 2\\nSkipping line 4796950: expected 1 fields, saw 2\\nSkipping line 4796951: expected 1 fields, saw 4\\nSkipping line 4796956: expected 1 fields, saw 4\\nSkipping line 4849588: expected 1 fields, saw 2\\nSkipping line 4849589: expected 1 fields, saw 2\\nSkipping line 4863356: expected 1 fields, saw 3\\nSkipping line 4863358: expected 1 fields, saw 5\\nSkipping line 4863359: expected 1 fields, saw 4\\nSkipping line 4863360: expected 1 fields, saw 2\\nSkipping line 4864836: expected 1 fields, saw 2\\nSkipping line 4868291: expected 1 fields, saw 2\\nSkipping line 4872118: expected 1 fields, saw 3\\nSkipping line 4889779: expected 1 fields, saw 2\\nSkipping line 4895763: expected 1 fields, saw 2\\nSkipping line 4895767: expected 1 fields, saw 2\\nSkipping line 4906316: expected 1 fields, saw 2\\nSkipping line 4912580: expected 1 fields, saw 5\\nSkipping line 4937848: expected 1 fields, saw 3\\nSkipping line 4941764: expected 1 fields, saw 2\\nSkipping line 4941765: expected 1 fields, saw 2\\n'\n",
            "b'Skipping line 5021205: expected 1 fields, saw 2\\nSkipping line 5068411: expected 1 fields, saw 3\\nSkipping line 5085931: expected 1 fields, saw 2\\nSkipping line 5121620: expected 1 fields, saw 2\\nSkipping line 5121622: expected 1 fields, saw 2\\nSkipping line 5122920: expected 1 fields, saw 4\\nSkipping line 5135780: expected 1 fields, saw 2\\nSkipping line 5135814: expected 1 fields, saw 2\\nSkipping line 5194634: expected 1 fields, saw 3\\nSkipping line 5194635: expected 1 fields, saw 2\\nSkipping line 5275849: expected 1 fields, saw 2\\nSkipping line 5303972: expected 1 fields, saw 2\\nSkipping line 5303973: expected 1 fields, saw 2\\nSkipping line 5303974: expected 1 fields, saw 2\\nSkipping line 5307757: expected 1 fields, saw 3\\nSkipping line 5307758: expected 1 fields, saw 3\\nSkipping line 5326664: expected 1 fields, saw 2\\nSkipping line 5341244: expected 1 fields, saw 2\\nSkipping line 5341448: expected 1 fields, saw 2\\nSkipping line 5341449: expected 1 fields, saw 2\\nSkipping line 5368859: expected 1 fields, saw 2\\nSkipping line 5369720: expected 1 fields, saw 2\\nSkipping line 5370437: expected 1 fields, saw 3\\nSkipping line 5371023: expected 1 fields, saw 2\\nSkipping line 5372666: expected 1 fields, saw 2\\nSkipping line 5426691: expected 1 fields, saw 2\\nSkipping line 5456838: expected 1 fields, saw 3\\nSkipping line 5458243: expected 1 fields, saw 2\\nSkipping line 5460022: expected 1 fields, saw 2\\nSkipping line 5469043: expected 1 fields, saw 3\\nSkipping line 5469080: expected 1 fields, saw 2\\nSkipping line 5474810: expected 1 fields, saw 2\\nSkipping line 5488579: expected 1 fields, saw 2\\n'\n",
            "b'Skipping line 5520518: expected 1 fields, saw 2\\nSkipping line 5545443: expected 1 fields, saw 2\\nSkipping line 5548916: expected 1 fields, saw 2\\nSkipping line 5579218: expected 1 fields, saw 2\\nSkipping line 5579243: expected 1 fields, saw 2\\nSkipping line 5580592: expected 1 fields, saw 2\\nSkipping line 5580709: expected 1 fields, saw 2\\nSkipping line 5599246: expected 1 fields, saw 3\\nSkipping line 5642770: expected 1 fields, saw 3\\nSkipping line 5642771: expected 1 fields, saw 2\\nSkipping line 5645012: expected 1 fields, saw 2\\nSkipping line 5645014: expected 1 fields, saw 2\\nSkipping line 5661457: expected 1 fields, saw 2\\nSkipping line 5661458: expected 1 fields, saw 3\\nSkipping line 5661459: expected 1 fields, saw 3\\nSkipping line 5669585: expected 1 fields, saw 3\\nSkipping line 5669586: expected 1 fields, saw 3\\nSkipping line 5669587: expected 1 fields, saw 2\\nSkipping line 5671668: expected 1 fields, saw 2\\nSkipping line 5672101: expected 1 fields, saw 2\\nSkipping line 5705757: expected 1 fields, saw 2\\nSkipping line 5705923: expected 1 fields, saw 2\\nSkipping line 5733884: expected 1 fields, saw 2\\nSkipping line 5750542: expected 1 fields, saw 2\\nSkipping line 5776416: expected 1 fields, saw 2\\nSkipping line 5784423: expected 1 fields, saw 3\\nSkipping line 5784709: expected 1 fields, saw 2\\nSkipping line 5794984: expected 1 fields, saw 2\\nSkipping line 5817390: expected 1 fields, saw 2\\nSkipping line 5833218: expected 1 fields, saw 2\\nSkipping line 5836304: expected 1 fields, saw 3\\nSkipping line 5836306: expected 1 fields, saw 2\\nSkipping line 5847110: expected 1 fields, saw 2\\nSkipping line 5859618: expected 1 fields, saw 2\\nSkipping line 5860283: expected 1 fields, saw 2\\nSkipping line 5862404: expected 1 fields, saw 6\\nSkipping line 5862405: expected 1 fields, saw 2\\nSkipping line 5868598: expected 1 fields, saw 2\\nSkipping line 5903235: expected 1 fields, saw 2\\nSkipping line 5916079: expected 1 fields, saw 3\\nSkipping line 5935167: expected 1 fields, saw 2\\nSkipping line 5935334: expected 1 fields, saw 2\\nSkipping line 5935359: expected 1 fields, saw 3\\nSkipping line 5947394: expected 1 fields, saw 2\\nSkipping line 5962524: expected 1 fields, saw 2\\nSkipping line 5962539: expected 1 fields, saw 3\\nSkipping line 5962561: expected 1 fields, saw 2\\nSkipping line 5962570: expected 1 fields, saw 3\\nSkipping line 5962575: expected 1 fields, saw 2\\nSkipping line 5962576: expected 1 fields, saw 4\\nSkipping line 5962581: expected 1 fields, saw 2\\nSkipping line 5962582: expected 1 fields, saw 2\\nSkipping line 5962583: expected 1 fields, saw 4\\nSkipping line 5967891: expected 1 fields, saw 2\\nSkipping line 5983410: expected 1 fields, saw 2\\nSkipping line 5983436: expected 1 fields, saw 2\\nSkipping line 5983448: expected 1 fields, saw 3\\nSkipping line 5987055: expected 1 fields, saw 2\\nSkipping line 5991322: expected 1 fields, saw 5\\nSkipping line 5994960: expected 1 fields, saw 2\\nSkipping line 5998215: expected 1 fields, saw 2\\nSkipping line 6015010: expected 1 fields, saw 2\\nSkipping line 6015016: expected 1 fields, saw 4\\nSkipping line 6015020: expected 1 fields, saw 3\\nSkipping line 6015022: expected 1 fields, saw 3\\nSkipping line 6015024: expected 1 fields, saw 2\\nSkipping line 6015040: expected 1 fields, saw 3\\nSkipping line 6016551: expected 1 fields, saw 5\\nSkipping line 6016552: expected 1 fields, saw 5\\nSkipping line 6022881: expected 1 fields, saw 2\\n'\n",
            "b'Skipping line 6058763: expected 1 fields, saw 2\\nSkipping line 6060051: expected 1 fields, saw 2\\nSkipping line 6075898: expected 1 fields, saw 2\\nSkipping line 6088214: expected 1 fields, saw 2\\nSkipping line 6088228: expected 1 fields, saw 2\\nSkipping line 6090055: expected 1 fields, saw 5\\nSkipping line 6094644: expected 1 fields, saw 2\\nSkipping line 6097964: expected 1 fields, saw 2\\nSkipping line 6106441: expected 1 fields, saw 2\\nSkipping line 6106542: expected 1 fields, saw 2\\nSkipping line 6110915: expected 1 fields, saw 3\\nSkipping line 6113513: expected 1 fields, saw 2\\nSkipping line 6117281: expected 1 fields, saw 2\\nSkipping line 6117282: expected 1 fields, saw 2\\nSkipping line 6117283: expected 1 fields, saw 2\\nSkipping line 6118989: expected 1 fields, saw 2\\nSkipping line 6119925: expected 1 fields, saw 2\\nSkipping line 6122935: expected 1 fields, saw 3\\nSkipping line 6134935: expected 1 fields, saw 2\\nSkipping line 6134940: expected 1 fields, saw 2\\nSkipping line 6142028: expected 1 fields, saw 3\\nSkipping line 6142030: expected 1 fields, saw 3\\nSkipping line 6142041: expected 1 fields, saw 5\\nSkipping line 6142109: expected 1 fields, saw 3\\nSkipping line 6142111: expected 1 fields, saw 3\\nSkipping line 6142121: expected 1 fields, saw 10\\nSkipping line 6142126: expected 1 fields, saw 6\\nSkipping line 6142128: expected 1 fields, saw 2\\nSkipping line 6148883: expected 1 fields, saw 4\\nSkipping line 6156470: expected 1 fields, saw 2\\nSkipping line 6156471: expected 1 fields, saw 4\\nSkipping line 6158784: expected 1 fields, saw 2\\nSkipping line 6159735: expected 1 fields, saw 3\\nSkipping line 6165651: expected 1 fields, saw 2\\nSkipping line 6165850: expected 1 fields, saw 2\\nSkipping line 6165852: expected 1 fields, saw 2\\nSkipping line 6172933: expected 1 fields, saw 2\\nSkipping line 6173080: expected 1 fields, saw 3\\nSkipping line 6173088: expected 1 fields, saw 3\\nSkipping line 6174863: expected 1 fields, saw 2\\nSkipping line 6174990: expected 1 fields, saw 2\\nSkipping line 6181087: expected 1 fields, saw 2\\nSkipping line 6191382: expected 1 fields, saw 2\\nSkipping line 6197808: expected 1 fields, saw 2\\nSkipping line 6197819: expected 1 fields, saw 2\\nSkipping line 6202382: expected 1 fields, saw 4\\nSkipping line 6203849: expected 1 fields, saw 2\\nSkipping line 6211736: expected 1 fields, saw 2\\nSkipping line 6211776: expected 1 fields, saw 3\\nSkipping line 6212570: expected 1 fields, saw 3\\nSkipping line 6219544: expected 1 fields, saw 2\\nSkipping line 6222955: expected 1 fields, saw 2\\nSkipping line 6227570: expected 1 fields, saw 3\\nSkipping line 6233072: expected 1 fields, saw 2\\nSkipping line 6245407: expected 1 fields, saw 2\\nSkipping line 6246478: expected 1 fields, saw 2\\nSkipping line 6248021: expected 1 fields, saw 2\\nSkipping line 6252299: expected 1 fields, saw 4\\nSkipping line 6263959: expected 1 fields, saw 2\\nSkipping line 6265540: expected 1 fields, saw 2\\nSkipping line 6269550: expected 1 fields, saw 2\\nSkipping line 6272945: expected 1 fields, saw 2\\nSkipping line 6286624: expected 1 fields, saw 5\\nSkipping line 6288489: expected 1 fields, saw 2\\nSkipping line 6288583: expected 1 fields, saw 3\\nSkipping line 6290678: expected 1 fields, saw 2\\nSkipping line 6302454: expected 1 fields, saw 5\\nSkipping line 6309116: expected 1 fields, saw 2\\nSkipping line 6316501: expected 1 fields, saw 2\\nSkipping line 6317006: expected 1 fields, saw 2\\nSkipping line 6325308: expected 1 fields, saw 3\\nSkipping line 6335734: expected 1 fields, saw 2\\nSkipping line 6337554: expected 1 fields, saw 2\\nSkipping line 6338446: expected 1 fields, saw 2\\nSkipping line 6338448: expected 1 fields, saw 2\\nSkipping line 6343627: expected 1 fields, saw 2\\nSkipping line 6347774: expected 1 fields, saw 2\\nSkipping line 6349864: expected 1 fields, saw 3\\nSkipping line 6359221: expected 1 fields, saw 2\\nSkipping line 6363774: expected 1 fields, saw 2\\nSkipping line 6363820: expected 1 fields, saw 2\\nSkipping line 6366044: expected 1 fields, saw 2\\nSkipping line 6373920: expected 1 fields, saw 2\\nSkipping line 6384808: expected 1 fields, saw 2\\nSkipping line 6389698: expected 1 fields, saw 2\\nSkipping line 6397657: expected 1 fields, saw 3\\nSkipping line 6399998: expected 1 fields, saw 4\\nSkipping line 6415774: expected 1 fields, saw 2\\nSkipping line 6429077: expected 1 fields, saw 2\\nSkipping line 6440317: expected 1 fields, saw 2\\nSkipping line 6440506: expected 1 fields, saw 2\\nSkipping line 6451438: expected 1 fields, saw 2\\nSkipping line 6453571: expected 1 fields, saw 2\\nSkipping line 6458138: expected 1 fields, saw 2\\nSkipping line 6460009: expected 1 fields, saw 5\\nSkipping line 6460900: expected 1 fields, saw 8\\nSkipping line 6463906: expected 1 fields, saw 2\\nSkipping line 6466063: expected 1 fields, saw 2\\nSkipping line 6485121: expected 1 fields, saw 2\\nSkipping line 6500781: expected 1 fields, saw 2\\nSkipping line 6500935: expected 1 fields, saw 3\\nSkipping line 6502322: expected 1 fields, saw 2\\nSkipping line 6502579: expected 1 fields, saw 2\\nSkipping line 6503538: expected 1 fields, saw 2\\nSkipping line 6506641: expected 1 fields, saw 2\\nSkipping line 6529335: expected 1 fields, saw 2\\nSkipping line 6530949: expected 1 fields, saw 2\\nSkipping line 6536603: expected 1 fields, saw 2\\nSkipping line 6536742: expected 1 fields, saw 5\\nSkipping line 6545672: expected 1 fields, saw 2\\nSkipping line 6545697: expected 1 fields, saw 2\\nSkipping line 6554737: expected 1 fields, saw 2\\nSkipping line 6554799: expected 1 fields, saw 2\\nSkipping line 6554889: expected 1 fields, saw 2\\nSkipping line 6561867: expected 1 fields, saw 2\\nSkipping line 6561928: expected 1 fields, saw 2\\nSkipping line 6563569: expected 1 fields, saw 3\\nSkipping line 6563570: expected 1 fields, saw 3\\nSkipping line 6564928: expected 1 fields, saw 2\\nSkipping line 6565376: expected 1 fields, saw 2\\nSkipping line 6570255: expected 1 fields, saw 2\\nSkipping line 6570325: expected 1 fields, saw 2\\nSkipping line 6570354: expected 1 fields, saw 2\\nSkipping line 6570420: expected 1 fields, saw 2\\nSkipping line 6573512: expected 1 fields, saw 2\\nSkipping line 6579577: expected 1 fields, saw 2\\nSkipping line 6579756: expected 1 fields, saw 2\\nSkipping line 6582054: expected 1 fields, saw 2\\nSkipping line 6582055: expected 1 fields, saw 2\\nSkipping line 6589182: expected 1 fields, saw 2\\nSkipping line 6589358: expected 1 fields, saw 2\\nSkipping line 6589389: expected 1 fields, saw 2\\nSkipping line 6596561: expected 1 fields, saw 2\\nSkipping line 6596632: expected 1 fields, saw 2\\n'\n",
            "b'Skipping line 6604774: expected 1 fields, saw 4\\nSkipping line 6607446: expected 1 fields, saw 2\\nSkipping line 6607477: expected 1 fields, saw 2\\nSkipping line 6607514: expected 1 fields, saw 2\\nSkipping line 6610365: expected 1 fields, saw 2\\nSkipping line 6619904: expected 1 fields, saw 2\\nSkipping line 6619934: expected 1 fields, saw 2\\nSkipping line 6622542: expected 1 fields, saw 2\\nSkipping line 6624955: expected 1 fields, saw 2\\nSkipping line 6624956: expected 1 fields, saw 2\\nSkipping line 6625029: expected 1 fields, saw 2\\nSkipping line 6625095: expected 1 fields, saw 2\\nSkipping line 6632746: expected 1 fields, saw 2\\nSkipping line 6632844: expected 1 fields, saw 2\\nSkipping line 6632892: expected 1 fields, saw 2\\nSkipping line 6632958: expected 1 fields, saw 2\\nSkipping line 6642094: expected 1 fields, saw 2\\nSkipping line 6642128: expected 1 fields, saw 2\\nSkipping line 6653593: expected 1 fields, saw 2\\nSkipping line 6653760: expected 1 fields, saw 2\\nSkipping line 6660276: expected 1 fields, saw 2\\nSkipping line 6660323: expected 1 fields, saw 2\\nSkipping line 6660360: expected 1 fields, saw 2\\nSkipping line 6661770: expected 1 fields, saw 2\\nSkipping line 6663266: expected 1 fields, saw 2\\nSkipping line 6670705: expected 1 fields, saw 2\\nSkipping line 6670820: expected 1 fields, saw 2\\nSkipping line 6670842: expected 1 fields, saw 2\\nSkipping line 6680162: expected 1 fields, saw 2\\nSkipping line 6680232: expected 1 fields, saw 2\\nSkipping line 6687488: expected 1 fields, saw 2\\nSkipping line 6687534: expected 1 fields, saw 2\\nSkipping line 6687579: expected 1 fields, saw 2\\nSkipping line 6687689: expected 1 fields, saw 2\\nSkipping line 6695194: expected 1 fields, saw 2\\nSkipping line 6695267: expected 1 fields, saw 2\\nSkipping line 6705511: expected 1 fields, saw 2\\nSkipping line 6713498: expected 1 fields, saw 2\\nSkipping line 6715358: expected 1 fields, saw 2\\nSkipping line 6715984: expected 1 fields, saw 2\\nSkipping line 6715985: expected 1 fields, saw 2\\nSkipping line 6715987: expected 1 fields, saw 2\\nSkipping line 6723224: expected 1 fields, saw 2\\nSkipping line 6723286: expected 1 fields, saw 2\\nSkipping line 6724868: expected 1 fields, saw 3\\nSkipping line 6731510: expected 1 fields, saw 2\\nSkipping line 6731659: expected 1 fields, saw 2\\nSkipping line 6732350: expected 1 fields, saw 2\\nSkipping line 6734810: expected 1 fields, saw 2\\nSkipping line 6741454: expected 1 fields, saw 2\\nSkipping line 6741521: expected 1 fields, saw 2\\nSkipping line 6744862: expected 1 fields, saw 2\\nSkipping line 6746384: expected 1 fields, saw 2\\nSkipping line 6755008: expected 1 fields, saw 2\\nSkipping line 6755049: expected 1 fields, saw 2\\nSkipping line 6757698: expected 1 fields, saw 2\\nSkipping line 6761595: expected 1 fields, saw 2\\nSkipping line 6764191: expected 1 fields, saw 2\\nSkipping line 6764897: expected 1 fields, saw 2\\nSkipping line 6772206: expected 1 fields, saw 2\\nSkipping line 6772966: expected 1 fields, saw 3\\nSkipping line 6773627: expected 1 fields, saw 2\\nSkipping line 6773709: expected 1 fields, saw 2\\nSkipping line 6773728: expected 1 fields, saw 3\\nSkipping line 6776844: expected 1 fields, saw 3\\nSkipping line 6780974: expected 1 fields, saw 2\\nSkipping line 6783304: expected 1 fields, saw 2\\nSkipping line 6789844: expected 1 fields, saw 2\\nSkipping line 6791490: expected 1 fields, saw 2\\nSkipping line 6791574: expected 1 fields, saw 2\\nSkipping line 6798897: expected 1 fields, saw 2\\nSkipping line 6799091: expected 1 fields, saw 2\\nSkipping line 6808973: expected 1 fields, saw 2\\nSkipping line 6808984: expected 1 fields, saw 2\\nSkipping line 6809035: expected 1 fields, saw 2\\nSkipping line 6809046: expected 1 fields, saw 2\\nSkipping line 6809068: expected 1 fields, saw 2\\nSkipping line 6817150: expected 1 fields, saw 2\\nSkipping line 6817151: expected 1 fields, saw 3\\nSkipping line 6817157: expected 1 fields, saw 2\\nSkipping line 6821725: expected 1 fields, saw 2\\nSkipping line 6830824: expected 1 fields, saw 2\\nSkipping line 6832363: expected 1 fields, saw 3\\nSkipping line 6832491: expected 1 fields, saw 2\\nSkipping line 6833653: expected 1 fields, saw 2\\nSkipping line 6838469: expected 1 fields, saw 2\\nSkipping line 6838574: expected 1 fields, saw 2\\nSkipping line 6838602: expected 1 fields, saw 2\\nSkipping line 6841724: expected 1 fields, saw 2\\nSkipping line 6844946: expected 1 fields, saw 2\\nSkipping line 6845232: expected 1 fields, saw 6\\nSkipping line 6849474: expected 1 fields, saw 2\\nSkipping line 6849520: expected 1 fields, saw 2\\nSkipping line 6849553: expected 1 fields, saw 2\\nSkipping line 6849584: expected 1 fields, saw 2\\nSkipping line 6850627: expected 1 fields, saw 3\\nSkipping line 6856585: expected 1 fields, saw 2\\nSkipping line 6858887: expected 1 fields, saw 2\\nSkipping line 6859306: expected 1 fields, saw 2\\nSkipping line 6861272: expected 1 fields, saw 2\\nSkipping line 6862160: expected 1 fields, saw 2\\nSkipping line 6869749: expected 1 fields, saw 2\\nSkipping line 6869937: expected 1 fields, saw 2\\nSkipping line 6871299: expected 1 fields, saw 2\\nSkipping line 6871368: expected 1 fields, saw 2\\nSkipping line 6872767: expected 1 fields, saw 2\\nSkipping line 6875414: expected 1 fields, saw 2\\nSkipping line 6878291: expected 1 fields, saw 3\\nSkipping line 6878292: expected 1 fields, saw 3\\nSkipping line 6887463: expected 1 fields, saw 2\\nSkipping line 6887528: expected 1 fields, saw 2\\nSkipping line 6888147: expected 1 fields, saw 3\\nSkipping line 6888425: expected 1 fields, saw 2\\nSkipping line 6906191: expected 1 fields, saw 3\\nSkipping line 6906311: expected 1 fields, saw 2\\nSkipping line 6906312: expected 1 fields, saw 2\\nSkipping line 6906313: expected 1 fields, saw 3\\nSkipping line 6907794: expected 1 fields, saw 2\\nSkipping line 6907876: expected 1 fields, saw 2\\nSkipping line 6907943: expected 1 fields, saw 2\\nSkipping line 6909611: expected 1 fields, saw 3\\nSkipping line 6915202: expected 1 fields, saw 2\\nSkipping line 6916653: expected 1 fields, saw 2\\nSkipping line 6921114: expected 1 fields, saw 2\\nSkipping line 6921116: expected 1 fields, saw 3\\nSkipping line 6921643: expected 1 fields, saw 2\\nSkipping line 6925790: expected 1 fields, saw 2\\nSkipping line 6926084: expected 1 fields, saw 2\\nSkipping line 6926085: expected 1 fields, saw 4\\nSkipping line 6939225: expected 1 fields, saw 5\\nSkipping line 6939357: expected 1 fields, saw 2\\nSkipping line 6941215: expected 1 fields, saw 2\\nSkipping line 6942578: expected 1 fields, saw 2\\nSkipping line 6944718: expected 1 fields, saw 4\\nSkipping line 6947407: expected 1 fields, saw 2\\nSkipping line 6947480: expected 1 fields, saw 2\\nSkipping line 6947547: expected 1 fields, saw 2\\nSkipping line 6948679: expected 1 fields, saw 2\\nSkipping line 6948680: expected 1 fields, saw 2\\nSkipping line 6950068: expected 1 fields, saw 2\\nSkipping line 6958085: expected 1 fields, saw 2\\nSkipping line 6958119: expected 1 fields, saw 2\\nSkipping line 6958157: expected 1 fields, saw 2\\nSkipping line 6960872: expected 1 fields, saw 3\\nSkipping line 6963585: expected 1 fields, saw 2\\nSkipping line 6970043: expected 1 fields, saw 2\\nSkipping line 6970637: expected 1 fields, saw 2\\nSkipping line 6971497: expected 1 fields, saw 2\\nSkipping line 6977405: expected 1 fields, saw 2\\nSkipping line 6978198: expected 1 fields, saw 3\\nSkipping line 6978782: expected 1 fields, saw 2\\nSkipping line 6980160: expected 1 fields, saw 2\\nSkipping line 6980315: expected 1 fields, saw 2\\nSkipping line 6981514: expected 1 fields, saw 2\\nSkipping line 6984336: expected 1 fields, saw 2\\nSkipping line 6992049: expected 1 fields, saw 2\\nSkipping line 6992082: expected 1 fields, saw 2\\nSkipping line 6992115: expected 1 fields, saw 2\\nSkipping line 7005496: expected 1 fields, saw 3\\nSkipping line 7005546: expected 1 fields, saw 2\\nSkipping line 7005588: expected 1 fields, saw 2\\nSkipping line 7005646: expected 1 fields, saw 2\\nSkipping line 7007324: expected 1 fields, saw 3\\nSkipping line 7008906: expected 1 fields, saw 2\\nSkipping line 7011791: expected 1 fields, saw 4\\nSkipping line 7015098: expected 1 fields, saw 3\\nSkipping line 7021311: expected 1 fields, saw 2\\nSkipping line 7021888: expected 1 fields, saw 2\\nSkipping line 7022857: expected 1 fields, saw 2\\nSkipping line 7026942: expected 1 fields, saw 3\\nSkipping line 7028652: expected 1 fields, saw 2\\nSkipping line 7038700: expected 1 fields, saw 2\\nSkipping line 7040327: expected 1 fields, saw 2\\nSkipping line 7041210: expected 1 fields, saw 2\\nSkipping line 7041339: expected 1 fields, saw 2\\nSkipping line 7046996: expected 1 fields, saw 3\\nSkipping line 7046997: expected 1 fields, saw 3\\nSkipping line 7046998: expected 1 fields, saw 3\\nSkipping line 7046999: expected 1 fields, saw 3\\nSkipping line 7047000: expected 1 fields, saw 3\\nSkipping line 7047001: expected 1 fields, saw 3\\nSkipping line 7047813: expected 1 fields, saw 2\\nSkipping line 7047894: expected 1 fields, saw 2\\nSkipping line 7047965: expected 1 fields, saw 2\\nSkipping line 7048993: expected 1 fields, saw 2\\nSkipping line 7056940: expected 1 fields, saw 3\\nSkipping line 7057090: expected 1 fields, saw 2\\nSkipping line 7058582: expected 1 fields, saw 2\\nSkipping line 7060874: expected 1 fields, saw 2\\nSkipping line 7068661: expected 1 fields, saw 2\\nSkipping line 7068742: expected 1 fields, saw 2\\nSkipping line 7077064: expected 1 fields, saw 2\\nSkipping line 7077190: expected 1 fields, saw 2\\nSkipping line 7078751: expected 1 fields, saw 2\\nSkipping line 7078872: expected 1 fields, saw 2\\nSkipping line 7080344: expected 1 fields, saw 2\\nSkipping line 7083965: expected 1 fields, saw 2\\nSkipping line 7087321: expected 1 fields, saw 2\\nSkipping line 7091702: expected 1 fields, saw 4\\nSkipping line 7091703: expected 1 fields, saw 3\\nSkipping line 7091704: expected 1 fields, saw 2\\nSkipping line 7091705: expected 1 fields, saw 4\\nSkipping line 7098522: expected 1 fields, saw 5\\nSkipping line 7098541: expected 1 fields, saw 2\\nSkipping line 7098567: expected 1 fields, saw 2\\nSkipping line 7099094: expected 1 fields, saw 2\\nSkipping line 7105979: expected 1 fields, saw 2\\nSkipping line 7105998: expected 1 fields, saw 2\\nSkipping line 7106006: expected 1 fields, saw 2\\nSkipping line 7106014: expected 1 fields, saw 2\\nSkipping line 7106102: expected 1 fields, saw 2\\nSkipping line 7106163: expected 1 fields, saw 2\\nSkipping line 7108024: expected 1 fields, saw 2\\nSkipping line 7109355: expected 1 fields, saw 4\\nSkipping line 7109396: expected 1 fields, saw 2\\nSkipping line 7113699: expected 1 fields, saw 2\\nSkipping line 7113835: expected 1 fields, saw 2\\nSkipping line 7124077: expected 1 fields, saw 2\\nSkipping line 7124130: expected 1 fields, saw 2\\nSkipping line 7124239: expected 1 fields, saw 2\\nSkipping line 7125137: expected 1 fields, saw 2\\nSkipping line 7130647: expected 1 fields, saw 2\\nSkipping line 7136413: expected 1 fields, saw 2\\nSkipping line 7136518: expected 1 fields, saw 2\\nSkipping line 7138465: expected 1 fields, saw 3\\nSkipping line 7138576: expected 1 fields, saw 4\\n'\n",
            "b'Skipping line 7152094: expected 1 fields, saw 2\\nSkipping line 7152426: expected 1 fields, saw 2\\nSkipping line 7153424: expected 1 fields, saw 2\\nSkipping line 7158637: expected 1 fields, saw 2\\nSkipping line 7163168: expected 1 fields, saw 2\\nSkipping line 7174242: expected 1 fields, saw 2\\nSkipping line 7175228: expected 1 fields, saw 2\\nSkipping line 7181481: expected 1 fields, saw 2\\nSkipping line 7182858: expected 1 fields, saw 2\\nSkipping line 7182921: expected 1 fields, saw 2\\nSkipping line 7190119: expected 1 fields, saw 2\\nSkipping line 7190185: expected 1 fields, saw 2\\nSkipping line 7190309: expected 1 fields, saw 2\\nSkipping line 7190310: expected 1 fields, saw 2\\nSkipping line 7191194: expected 1 fields, saw 2\\nSkipping line 7199727: expected 1 fields, saw 2\\nSkipping line 7199832: expected 1 fields, saw 2\\nSkipping line 7199899: expected 1 fields, saw 2\\nSkipping line 7199960: expected 1 fields, saw 2\\nSkipping line 7200930: expected 1 fields, saw 2\\nSkipping line 7206247: expected 1 fields, saw 2\\nSkipping line 7206386: expected 1 fields, saw 2\\nSkipping line 7212266: expected 1 fields, saw 2\\nSkipping line 7217509: expected 1 fields, saw 3\\nSkipping line 7219128: expected 1 fields, saw 3\\nSkipping line 7220931: expected 1 fields, saw 2\\nSkipping line 7221007: expected 1 fields, saw 2\\nSkipping line 7227740: expected 1 fields, saw 4\\nSkipping line 7227741: expected 1 fields, saw 4\\nSkipping line 7227743: expected 1 fields, saw 5\\nSkipping line 7229015: expected 1 fields, saw 2\\nSkipping line 7234006: expected 1 fields, saw 3\\nSkipping line 7236721: expected 1 fields, saw 2\\nSkipping line 7243619: expected 1 fields, saw 2\\nSkipping line 7249838: expected 1 fields, saw 2\\nSkipping line 7251420: expected 1 fields, saw 2\\nSkipping line 7256337: expected 1 fields, saw 2\\nSkipping line 7270206: expected 1 fields, saw 2\\nSkipping line 7272716: expected 1 fields, saw 2\\nSkipping line 7272780: expected 1 fields, saw 2\\nSkipping line 7274288: expected 1 fields, saw 2\\nSkipping line 7274339: expected 1 fields, saw 2\\nSkipping line 7275812: expected 1 fields, saw 3\\nSkipping line 7281050: expected 1 fields, saw 2\\nSkipping line 7281176: expected 1 fields, saw 2\\nSkipping line 7287450: expected 1 fields, saw 2\\nSkipping line 7287509: expected 1 fields, saw 2\\n'\n"
          ]
        }
      ]
    },
    {
      "cell_type": "code",
      "source": [
        "corpus.head(20)"
      ],
      "metadata": {
        "colab": {
          "base_uri": "https://localhost:8080/",
          "height": 676
        },
        "id": "3YZ8ese5pUZA",
        "outputId": "4099ea56-5fb2-4f16-dd91-1509e49a3453"
      },
      "execution_count": 38,
      "outputs": [
        {
          "output_type": "execute_result",
          "data": {
            "text/plain": [
              "                                            .DID\\t1S1\n",
              "0                                     .Date\\t75\\04\\02\n",
              "1                                         .Cat\\tadabh\n",
              "2                جاودانگي در زندگي گروهي از طريق هنر \n",
              "3          نگاهي به نمايشگاه آثار هنري احمد طباطبايي \n",
              "4   موضوع آثار طباطبايي مورچگان هستند ولي در باطن ...\n",
              "5   انسانهاهستند كه در هيبتي حشره گونه در تابلوهاي...\n",
              "6                      گوشه هايي از زندگي خود هستند. \n",
              "7   مورچه اي را ديده ايم كه بار سنگين خودرا به دوش...\n",
              "8   خسته مي شود يا در نتيجه پيش آمدن يك حادثه اتفا...\n",
              "9   شده و براي گريز از خطر آن را مي گذارد و فرار م...\n",
              "10  به همان نقطه برمي گردد و بار را دوباره به دوش ...\n",
              "11  عرق ريزان آن را به منزل او مي رساند مي داند كه...\n",
              "12  بين رفت، يك مورچه ديگر با همان استعداد غريزه ع...\n",
              "13  كرده به پايان مي رساند. پس او مي داند كه بعد ا...\n",
              "14  وجود دارد كه بايد از مزاياي آن استفاده نمايد. ...\n",
              "15  انتها و پاياني هم ميليونها ندارد سال گذشته، مي...\n",
              "16  خواهد گذشت وهمين برنامه ميليونها بار ديگر تجدي...\n",
              "17  سير حيات و تكامل پايان ناپذير است. اسرار جهان ...\n",
              "18  اگر بخواهيم به يك چيز پايان ناپذير برسيم چون ا...\n",
              "19  به جايي نمي رسيم. (از كتاب مورچگان، نوشته موري..."
            ],
            "text/html": [
              "\n",
              "  <div id=\"df-182bfa22-530a-4ddf-bfa2-d97b026b0a0a\">\n",
              "    <div class=\"colab-df-container\">\n",
              "      <div>\n",
              "<style scoped>\n",
              "    .dataframe tbody tr th:only-of-type {\n",
              "        vertical-align: middle;\n",
              "    }\n",
              "\n",
              "    .dataframe tbody tr th {\n",
              "        vertical-align: top;\n",
              "    }\n",
              "\n",
              "    .dataframe thead th {\n",
              "        text-align: right;\n",
              "    }\n",
              "</style>\n",
              "<table border=\"1\" class=\"dataframe\">\n",
              "  <thead>\n",
              "    <tr style=\"text-align: right;\">\n",
              "      <th></th>\n",
              "      <th>.DID\\t1S1</th>\n",
              "    </tr>\n",
              "  </thead>\n",
              "  <tbody>\n",
              "    <tr>\n",
              "      <th>0</th>\n",
              "      <td>.Date\\t75\\04\\02</td>\n",
              "    </tr>\n",
              "    <tr>\n",
              "      <th>1</th>\n",
              "      <td>.Cat\\tadabh</td>\n",
              "    </tr>\n",
              "    <tr>\n",
              "      <th>2</th>\n",
              "      <td>جاودانگي در زندگي گروهي از طريق هنر</td>\n",
              "    </tr>\n",
              "    <tr>\n",
              "      <th>3</th>\n",
              "      <td>نگاهي به نمايشگاه آثار هنري احمد طباطبايي</td>\n",
              "    </tr>\n",
              "    <tr>\n",
              "      <th>4</th>\n",
              "      <td>موضوع آثار طباطبايي مورچگان هستند ولي در باطن ...</td>\n",
              "    </tr>\n",
              "    <tr>\n",
              "      <th>5</th>\n",
              "      <td>انسانهاهستند كه در هيبتي حشره گونه در تابلوهاي...</td>\n",
              "    </tr>\n",
              "    <tr>\n",
              "      <th>6</th>\n",
              "      <td>گوشه هايي از زندگي خود هستند.</td>\n",
              "    </tr>\n",
              "    <tr>\n",
              "      <th>7</th>\n",
              "      <td>مورچه اي را ديده ايم كه بار سنگين خودرا به دوش...</td>\n",
              "    </tr>\n",
              "    <tr>\n",
              "      <th>8</th>\n",
              "      <td>خسته مي شود يا در نتيجه پيش آمدن يك حادثه اتفا...</td>\n",
              "    </tr>\n",
              "    <tr>\n",
              "      <th>9</th>\n",
              "      <td>شده و براي گريز از خطر آن را مي گذارد و فرار م...</td>\n",
              "    </tr>\n",
              "    <tr>\n",
              "      <th>10</th>\n",
              "      <td>به همان نقطه برمي گردد و بار را دوباره به دوش ...</td>\n",
              "    </tr>\n",
              "    <tr>\n",
              "      <th>11</th>\n",
              "      <td>عرق ريزان آن را به منزل او مي رساند مي داند كه...</td>\n",
              "    </tr>\n",
              "    <tr>\n",
              "      <th>12</th>\n",
              "      <td>بين رفت، يك مورچه ديگر با همان استعداد غريزه ع...</td>\n",
              "    </tr>\n",
              "    <tr>\n",
              "      <th>13</th>\n",
              "      <td>كرده به پايان مي رساند. پس او مي داند كه بعد ا...</td>\n",
              "    </tr>\n",
              "    <tr>\n",
              "      <th>14</th>\n",
              "      <td>وجود دارد كه بايد از مزاياي آن استفاده نمايد. ...</td>\n",
              "    </tr>\n",
              "    <tr>\n",
              "      <th>15</th>\n",
              "      <td>انتها و پاياني هم ميليونها ندارد سال گذشته، مي...</td>\n",
              "    </tr>\n",
              "    <tr>\n",
              "      <th>16</th>\n",
              "      <td>خواهد گذشت وهمين برنامه ميليونها بار ديگر تجدي...</td>\n",
              "    </tr>\n",
              "    <tr>\n",
              "      <th>17</th>\n",
              "      <td>سير حيات و تكامل پايان ناپذير است. اسرار جهان ...</td>\n",
              "    </tr>\n",
              "    <tr>\n",
              "      <th>18</th>\n",
              "      <td>اگر بخواهيم به يك چيز پايان ناپذير برسيم چون ا...</td>\n",
              "    </tr>\n",
              "    <tr>\n",
              "      <th>19</th>\n",
              "      <td>به جايي نمي رسيم. (از كتاب مورچگان، نوشته موري...</td>\n",
              "    </tr>\n",
              "  </tbody>\n",
              "</table>\n",
              "</div>\n",
              "      <button class=\"colab-df-convert\" onclick=\"convertToInteractive('df-182bfa22-530a-4ddf-bfa2-d97b026b0a0a')\"\n",
              "              title=\"Convert this dataframe to an interactive table.\"\n",
              "              style=\"display:none;\">\n",
              "        \n",
              "  <svg xmlns=\"http://www.w3.org/2000/svg\" height=\"24px\"viewBox=\"0 0 24 24\"\n",
              "       width=\"24px\">\n",
              "    <path d=\"M0 0h24v24H0V0z\" fill=\"none\"/>\n",
              "    <path d=\"M18.56 5.44l.94 2.06.94-2.06 2.06-.94-2.06-.94-.94-2.06-.94 2.06-2.06.94zm-11 1L8.5 8.5l.94-2.06 2.06-.94-2.06-.94L8.5 2.5l-.94 2.06-2.06.94zm10 10l.94 2.06.94-2.06 2.06-.94-2.06-.94-.94-2.06-.94 2.06-2.06.94z\"/><path d=\"M17.41 7.96l-1.37-1.37c-.4-.4-.92-.59-1.43-.59-.52 0-1.04.2-1.43.59L10.3 9.45l-7.72 7.72c-.78.78-.78 2.05 0 2.83L4 21.41c.39.39.9.59 1.41.59.51 0 1.02-.2 1.41-.59l7.78-7.78 2.81-2.81c.8-.78.8-2.07 0-2.86zM5.41 20L4 18.59l7.72-7.72 1.47 1.35L5.41 20z\"/>\n",
              "  </svg>\n",
              "      </button>\n",
              "      \n",
              "  <style>\n",
              "    .colab-df-container {\n",
              "      display:flex;\n",
              "      flex-wrap:wrap;\n",
              "      gap: 12px;\n",
              "    }\n",
              "\n",
              "    .colab-df-convert {\n",
              "      background-color: #E8F0FE;\n",
              "      border: none;\n",
              "      border-radius: 50%;\n",
              "      cursor: pointer;\n",
              "      display: none;\n",
              "      fill: #1967D2;\n",
              "      height: 32px;\n",
              "      padding: 0 0 0 0;\n",
              "      width: 32px;\n",
              "    }\n",
              "\n",
              "    .colab-df-convert:hover {\n",
              "      background-color: #E2EBFA;\n",
              "      box-shadow: 0px 1px 2px rgba(60, 64, 67, 0.3), 0px 1px 3px 1px rgba(60, 64, 67, 0.15);\n",
              "      fill: #174EA6;\n",
              "    }\n",
              "\n",
              "    [theme=dark] .colab-df-convert {\n",
              "      background-color: #3B4455;\n",
              "      fill: #D2E3FC;\n",
              "    }\n",
              "\n",
              "    [theme=dark] .colab-df-convert:hover {\n",
              "      background-color: #434B5C;\n",
              "      box-shadow: 0px 1px 3px 1px rgba(0, 0, 0, 0.15);\n",
              "      filter: drop-shadow(0px 1px 2px rgba(0, 0, 0, 0.3));\n",
              "      fill: #FFFFFF;\n",
              "    }\n",
              "  </style>\n",
              "\n",
              "      <script>\n",
              "        const buttonEl =\n",
              "          document.querySelector('#df-182bfa22-530a-4ddf-bfa2-d97b026b0a0a button.colab-df-convert');\n",
              "        buttonEl.style.display =\n",
              "          google.colab.kernel.accessAllowed ? 'block' : 'none';\n",
              "\n",
              "        async function convertToInteractive(key) {\n",
              "          const element = document.querySelector('#df-182bfa22-530a-4ddf-bfa2-d97b026b0a0a');\n",
              "          const dataTable =\n",
              "            await google.colab.kernel.invokeFunction('convertToInteractive',\n",
              "                                                     [key], {});\n",
              "          if (!dataTable) return;\n",
              "\n",
              "          const docLinkHtml = 'Like what you see? Visit the ' +\n",
              "            '<a target=\"_blank\" href=https://colab.research.google.com/notebooks/data_table.ipynb>data table notebook</a>'\n",
              "            + ' to learn more about interactive tables.';\n",
              "          element.innerHTML = '';\n",
              "          dataTable['output_type'] = 'display_data';\n",
              "          await google.colab.output.renderOutput(dataTable, element);\n",
              "          const docLink = document.createElement('div');\n",
              "          docLink.innerHTML = docLinkHtml;\n",
              "          element.appendChild(docLink);\n",
              "        }\n",
              "      </script>\n",
              "    </div>\n",
              "  </div>\n",
              "  "
            ]
          },
          "metadata": {},
          "execution_count": 38
        }
      ]
    },
    {
      "cell_type": "code",
      "source": [
        ""
      ],
      "metadata": {
        "id": "syJC-30qpp5P"
      },
      "execution_count": null,
      "outputs": []
    }
  ],
  "metadata": {
    "colab": {
      "name": "news_classification.ipynb",
      "provenance": [],
      "collapsed_sections": []
    },
    "kernelspec": {
      "display_name": "Python 3",
      "name": "python3"
    },
    "language_info": {
      "name": "python"
    }
  },
  "nbformat": 4,
  "nbformat_minor": 0
}