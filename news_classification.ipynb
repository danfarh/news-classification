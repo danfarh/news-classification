{
  "cells": [
    {
      "cell_type": "code",
      "execution_count": 1,
      "metadata": {
        "colab": {
          "base_uri": "https://localhost:8080/"
        },
        "id": "hPDkJqReDb-Q",
        "outputId": "d80c42a9-f8f6-4a4d-ac8e-627ce5aa3094"
      },
      "outputs": [
        {
          "output_type": "stream",
          "name": "stdout",
          "text": [
            "Looking in indexes: https://pypi.org/simple, https://us-python.pkg.dev/colab-wheels/public/simple/\n",
            "Collecting unrar\n",
            "  Downloading unrar-0.4-py3-none-any.whl (25 kB)\n",
            "Installing collected packages: unrar\n",
            "Successfully installed unrar-0.4\n",
            "Looking in indexes: https://pypi.org/simple, https://us-python.pkg.dev/colab-wheels/public/simple/\n",
            "Collecting rarfile\n",
            "  Downloading rarfile-4.0-py3-none-any.whl (28 kB)\n",
            "Installing collected packages: rarfile\n",
            "Successfully installed rarfile-4.0\n"
          ]
        }
      ],
      "source": [
        "!pip install unrar\n",
        "!pip install rarfile"
      ]
    },
    {
      "cell_type": "code",
      "execution_count": 2,
      "metadata": {
        "id": "F7nTEAlL5eGx"
      },
      "outputs": [],
      "source": [
        "import pandas as pd\n",
        "import re\n",
        "import rarfile\n",
        "import zipfile\n",
        "import codecs\n",
        "from sklearn.model_selection import train_test_split"
      ]
    },
    {
      "cell_type": "code",
      "execution_count": 3,
      "metadata": {
        "id": "wVflMFa4LAWT"
      },
      "outputs": [],
      "source": [
        "from keras.models import Sequential\n",
        "from tensorflow.keras.layers import Dense, Embedding, Conv1D, MaxPool1D, Dropout, MaxPooling1D, LSTM\n",
        "from tensorflow.keras.preprocessing.text import Tokenizer\n",
        "from tensorflow.keras.preprocessing.sequence import pad_sequences\n",
        "from tensorflow.keras.utils import to_categorical"
      ]
    },
    {
      "cell_type": "code",
      "execution_count": 4,
      "metadata": {
        "colab": {
          "base_uri": "https://localhost:8080/"
        },
        "id": "KnYcrY2QZPhW",
        "outputId": "9f6f54a8-32b2-4c26-9415-03256c0a5fcd"
      },
      "outputs": [
        {
          "output_type": "stream",
          "name": "stdout",
          "text": [
            "/usr/local/lib/python3.7/dist-packages/gdown/cli.py:131: FutureWarning: Option `--id` was deprecated in version 4.3.1 and will be removed in 5.0. You don't need to pass it anymore to use a file ID.\n",
            "  category=FutureWarning,\n",
            "Downloading...\n",
            "From: https://drive.google.com/uc?id=1D3yt99D0GcCRCbdKbUQGxbqjkeh91hTg\n",
            "To: /content/hamshahri.rar\n",
            "100% 873M/873M [00:07<00:00, 112MB/s]\n"
          ]
        }
      ],
      "source": [
        "! gdown --id 1D3yt99D0GcCRCbdKbUQGxbqjkeh91hTg"
      ]
    },
    {
      "cell_type": "code",
      "execution_count": 5,
      "metadata": {
        "id": "xqKmosm4drAw"
      },
      "outputs": [],
      "source": [
        "def extract_rar_file(path, extract_path):\n",
        "  files = []\n",
        "  with rarfile.RarFile(path, 'r') as rf:\n",
        "    files = rf.namelist()\n",
        "    rf.extractall(extract_path)\n",
        "    \n",
        "  for file in files:\n",
        "    path_to_file = fr\"{extract_path}\\{file}\"  "
      ]
    },
    {
      "cell_type": "code",
      "execution_count": 6,
      "metadata": {
        "id": "XIju1ZE6nKFn"
      },
      "outputs": [],
      "source": [
        "path = 'hamshahri.rar'\n",
        "extract_path = 'hamshahri'\n",
        "extract_rar_file(path, extract_path)"
      ]
    },
    {
      "cell_type": "code",
      "execution_count": 13,
      "metadata": {
        "id": "bPP9yzhgouRg"
      },
      "outputs": [],
      "source": [
        "def extract_zip_file(path, extract_path):\n",
        "  with zipfile.ZipFile(path, 'r') as zip_ref:\n",
        "      zip_ref.extractall(extract_path)"
      ]
    },
    {
      "cell_type": "code",
      "execution_count": 8,
      "metadata": {
        "id": "MKq4HZHXnVlG"
      },
      "outputs": [],
      "source": [
        "hamshahri_corpus_path = 'hamshahri/hamshahriold/Corpus/Hamshahri-Corpus.zip'\n",
        "hamshahri_corpus_extract_path = 'hamshahri/hamshahriold/Corpus/hamshahri-corpus'\n",
        "extract_zip_file(hamshahri_corpus_path, hamshahri_corpus_extract_path)"
      ]
    },
    {
      "cell_type": "code",
      "execution_count": 9,
      "metadata": {
        "id": "cxOwU_2hPiV7"
      },
      "outputs": [],
      "source": [
        "HAMSHAHRI_CORPUS_PATH = 'hamshahri/hamshahriold/Corpus/hamshahri-corpus/Hamshahri-Corpus.txt'"
      ]
    },
    {
      "cell_type": "code",
      "execution_count": 10,
      "metadata": {
        "colab": {
          "base_uri": "https://localhost:8080/"
        },
        "id": "Epow6ei1EAwv",
        "outputId": "8fcdada6-1e70-4009-fcc5-e480b7c2a30f"
      },
      "outputs": [
        {
          "output_type": "stream",
          "name": "stdout",
          "text": [
            "CPU times: user 57.6 s, sys: 2.17 s, total: 59.8 s\n",
            "Wall time: 57.6 s\n"
          ]
        }
      ],
      "source": [
        "%%time\n",
        "with codecs.open(HAMSHAHRI_CORPUS_PATH, \"r\", \"utf-8\") as text:\n",
        "    sentences = []\n",
        "    pattern = re.compile(\".Cat\")\n",
        "    s = ' '\n",
        "    for line in text:\n",
        "      for match in re.finditer(pattern, line):\n",
        "        sentences.append((line,s))\n",
        "        s = ' '\n",
        "      s += line         "
      ]
    },
    {
      "cell_type": "code",
      "execution_count": 11,
      "metadata": {
        "id": "syJC-30qpp5P"
      },
      "outputs": [],
      "source": [
        "category_punctuation = [re.sub('\\.Cat\\t', '', line[0]) for line in sentences]\n",
        "sentences_punctuation = [line[1].replace('\\n', '') for line in sentences] \n",
        "sentences_punctuation = [line.replace('\\r', '') for line in sentences_punctuation] \n",
        "sentences_punctuation = [re.sub('\\.Cat\\s\\w+', '', sentence) for sentence in sentences_punctuation]\n",
        "sentences_punctuation = [re.sub('\\.DID\\\\t\\d+S\\d+.Date\\\\t\\d+\\\\\\\\\\d+\\\\\\\\\\d+', '', sentence) for sentence in sentences_punctuation]"
      ]
    },
    {
      "cell_type": "code",
      "execution_count": 12,
      "metadata": {
        "colab": {
          "base_uri": "https://localhost:8080/"
        },
        "id": "lAZAiaUCQubQ",
        "outputId": "868d6517-1b9e-4f6d-8b14-139800138ece"
      },
      "outputs": [
        {
          "output_type": "stream",
          "name": "stdout",
          "text": [
            "  در زندگي گروهي از طريق هنر نگاهي به نمايشگاه آثار هنري احمد طباطبايي موضوع آثار طباطبايي مورچگان هستند ولي در باطن چنين ظاهري، اين انسانهاهستند كه در هيبتي حشره گونه در تابلوهاي نقاشي نمايشگر گوشه هايي از زندگي خود هستند. مورچه اي را ديده ايم كه بار سنگين خودرا به دوش مي كشد و در بين راه خسته مي شود يا در نتيجه پيش آمدن يك حادثه اتفاقي بار از دستش رها شده و براي گريز از خطر آن را مي گذارد و فرار مي كند. اما ساعتي بعد به همان نقطه برمي گردد و بار را دوباره به دوش كشيده نفس زنان و عرق ريزان آن را به منزل او مي رساند مي داند كه اگر در ميان راه از بين رفت، يك مورچه ديگر با همان استعداد غريزه عملي را كه او شروع كرده به پايان مي رساند. پس او مي داند كه بعد از خودش نسل آينده اي وجود دارد كه بايد از مزاياي آن استفاده نمايد. چه داستان درازي، انتها و پاياني هم ميليونها ندارد سال گذشته، ميلياردها سال ديگر خواهد گذشت وهمين برنامه ميليونها بار ديگر تجديد مي شود. پس بايد گفت سير حيات و تكامل پايان ناپذير است. اسرار جهان پاياني ندارد. پس اگر بخواهيم به يك چيز پايان ناپذير برسيم چون انتهايي در بين نيست، به جايي نمي رسيم. (از كتاب مورچگان، نوشته موريس مترلينگ )مورچگان در تابلوهاي نقاشي احمد طباطبايي جايگاه ويژه اي دارند. در نمايشگاهي كه از آثار اين هنرمند (اول تا 23 خرداد ) در نگارخانه برگ برپا شد 36 اثر با اين موضوع به نمايش عمومي درآمد. طباطبايي در مدت 18 سالي كه به نقاشي مي پردازد همواره بر روي موضوع مورچگان كار كرده است. وي درباره علت انتخاب چنين سوژه اي مي گويد: در يكي از روزهاي زندگي خود بسيار غمگين بودم و زماني كه به خواب رفتم، مورچه اي را ديدم. سپس تصميم گرفتم طرح آن را بكشم. اين كار به نظرم جالب آمد و از آن روز به بعد اين نوع طراحي را ادامه دادم كه در هر بار نقاشي در اين مدلها تغييراتي را ايجاد مي كنم، ضمن اينكه اين حشره به دليل زندگي منظمي كه دارد، برايم جذاب است. نظم يكي از اركان آثار نقاشي طباطبايي است. عليرغم موضوعات ساده، تركيببندي دو بعدي و تنوع كم در رنگ آميزي سطوح، استحكام طرحها و نقوش بر روي پرده اثر نشان از نظمي دروني دارد. اين نظم خود را در آناتومي و اندام مورچگان به نوع ديگري نشان مي دهد. مشخصه اصلي مورچگان دست و پا و تقسيم بندي سه گانه بدن آنها است و مهمتر آنكه روي شش دست و پا راه مي روند. اما در نقاشيهاي طباطبايي آنها روي دو پا مثل انسان مي ايستند. سرهايشان بزرگترين اندام بدنشان است و چشمها به طور اغراق آميزي در سرجا گرفته است. هدف نقاش از اين تغييرات در اندام مورچگان؟ چيست باآنكه خود نقاش گفته و از نقاشيها استنباط  مي شود، موضوع آثار طباطبايي مورچگان است اما در باطن چنين ظاهري، اين انسانها هستند كه در هيبتي حشره گونه در تابلوهاي نقاش نمايشگر گوشه هايي از زندگي خود هستند. آنها با اندام سياه خود در زمينه اي خاكستري بادكنكهاي رنگي به دست دارند و عروسي مي كنند. تغيير در اندام مورچگان باعث شده چهره و حالات سر و صورت تنها اندام بازگو كننده احساسات موضوع در تابلوي نقاشي نباشد بلكه تمام بدن اين  مورچه - انسانهاحسي را پديد مي آورند كه در تابلو سايه مي اندازد. احساساتي نظير به دام افتادن در دام يك عنكبوت، مادري كردن، تفاهم و دوستي. نكته ديگر، نقاشي درختان به صورت اسليمي هاي ايراني در حاشيه تابلوها با خطوط و رنگهايي زنده و شاداب است. اين نقشها در تقابل بصري با  مورچه - انسانهاست اما در يك هماهنگي دروني با مفهوم مورچه - انسانها به تصوير كشيده شده اند. رنگهاي شاد سبز با ميوه هاي سرخ، شكل انساني محيط را افزايش مي دهند اما اين مورچگان كه به طور گروهي در اين فضا به سر مي برند، يك اصل را مي دانند; جاودانگي در زندگي گروهي و انتقال احساسات به ديگران از طريق هنر است. همان راهي كه مترلينگ به آن اشاره كرد. \n"
          ]
        }
      ],
      "source": [
        "print(sentences_punctuation[1])"
      ]
    },
    {
      "cell_type": "code",
      "execution_count": 13,
      "metadata": {
        "id": "rchDKH0gtLDb"
      },
      "outputs": [],
      "source": [
        "corpus = []\n",
        "for i in range(len(sentences)):\n",
        "  corpus.append({'text': sentences_punctuation[i], 'category': category_punctuation[i-1]})"
      ]
    },
    {
      "cell_type": "code",
      "execution_count": 14,
      "metadata": {
        "colab": {
          "base_uri": "https://localhost:8080/"
        },
        "id": "Q3X_ZiuOtqx0",
        "outputId": "5aba8437-97a3-4a5f-c7fe-75b8753279e5"
      },
      "outputs": [
        {
          "output_type": "execute_result",
          "data": {
            "text/plain": [
              "{'category': 'adabh\\r\\n',\n",
              " 'text': '  در زندگي گروهي از طريق هنر نگاهي به نمايشگاه آثار هنري احمد طباطبايي موضوع آثار طباطبايي مورچگان هستند ولي در باطن چنين ظاهري، اين انسانهاهستند كه در هيبتي حشره گونه در تابلوهاي نقاشي نمايشگر گوشه هايي از زندگي خود هستند. مورچه اي را ديده ايم كه بار سنگين خودرا به دوش مي كشد و در بين راه خسته مي شود يا در نتيجه پيش آمدن يك حادثه اتفاقي بار از دستش رها شده و براي گريز از خطر آن را مي گذارد و فرار مي كند. اما ساعتي بعد به همان نقطه برمي گردد و بار را دوباره به دوش كشيده نفس زنان و عرق ريزان آن را به منزل او مي رساند مي داند كه اگر در ميان راه از بين رفت، يك مورچه ديگر با همان استعداد غريزه عملي را كه او شروع كرده به پايان مي رساند. پس او مي داند كه بعد از خودش نسل آينده اي وجود دارد كه بايد از مزاياي آن استفاده نمايد. چه داستان درازي، انتها و پاياني هم ميليونها ندارد سال گذشته، ميلياردها سال ديگر خواهد گذشت وهمين برنامه ميليونها بار ديگر تجديد مي شود. پس بايد گفت سير حيات و تكامل پايان ناپذير است. اسرار جهان پاياني ندارد. پس اگر بخواهيم به يك چيز پايان ناپذير برسيم چون انتهايي در بين نيست، به جايي نمي رسيم. (از كتاب مورچگان، نوشته موريس مترلينگ )مورچگان در تابلوهاي نقاشي احمد طباطبايي جايگاه ويژه اي دارند. در نمايشگاهي كه از آثار اين هنرمند (اول تا 23 خرداد ) در نگارخانه برگ برپا شد 36 اثر با اين موضوع به نمايش عمومي درآمد. طباطبايي در مدت 18 سالي كه به نقاشي مي پردازد همواره بر روي موضوع مورچگان كار كرده است. وي درباره علت انتخاب چنين سوژه اي مي گويد: در يكي از روزهاي زندگي خود بسيار غمگين بودم و زماني كه به خواب رفتم، مورچه اي را ديدم. سپس تصميم گرفتم طرح آن را بكشم. اين كار به نظرم جالب آمد و از آن روز به بعد اين نوع طراحي را ادامه دادم كه در هر بار نقاشي در اين مدلها تغييراتي را ايجاد مي كنم، ضمن اينكه اين حشره به دليل زندگي منظمي كه دارد، برايم جذاب است. نظم يكي از اركان آثار نقاشي طباطبايي است. عليرغم موضوعات ساده، تركيببندي دو بعدي و تنوع كم در رنگ آميزي سطوح، استحكام طرحها و نقوش بر روي پرده اثر نشان از نظمي دروني دارد. اين نظم خود را در آناتومي و اندام مورچگان به نوع ديگري نشان مي دهد. مشخصه اصلي مورچگان دست و پا و تقسيم بندي سه گانه بدن آنها است و مهمتر آنكه روي شش دست و پا راه مي روند. اما در نقاشيهاي طباطبايي آنها روي دو پا مثل انسان مي ايستند. سرهايشان بزرگترين اندام بدنشان است و چشمها به طور اغراق آميزي در سرجا گرفته است. هدف نقاش از اين تغييرات در اندام مورچگان؟ چيست باآنكه خود نقاش گفته و از نقاشيها استنباط  مي شود، موضوع آثار طباطبايي مورچگان است اما در باطن چنين ظاهري، اين انسانها هستند كه در هيبتي حشره گونه در تابلوهاي نقاش نمايشگر گوشه هايي از زندگي خود هستند. آنها با اندام سياه خود در زمينه اي خاكستري بادكنكهاي رنگي به دست دارند و عروسي مي كنند. تغيير در اندام مورچگان باعث شده چهره و حالات سر و صورت تنها اندام بازگو كننده احساسات موضوع در تابلوي نقاشي نباشد بلكه تمام بدن اين  مورچه - انسانهاحسي را پديد مي آورند كه در تابلو سايه مي اندازد. احساساتي نظير به دام افتادن در دام يك عنكبوت، مادري كردن، تفاهم و دوستي. نكته ديگر، نقاشي درختان به صورت اسليمي هاي ايراني در حاشيه تابلوها با خطوط و رنگهايي زنده و شاداب است. اين نقشها در تقابل بصري با  مورچه - انسانهاست اما در يك هماهنگي دروني با مفهوم مورچه - انسانها به تصوير كشيده شده اند. رنگهاي شاد سبز با ميوه هاي سرخ، شكل انساني محيط را افزايش مي دهند اما اين مورچگان كه به طور گروهي در اين فضا به سر مي برند، يك اصل را مي دانند; جاودانگي در زندگي گروهي و انتقال احساسات به ديگران از طريق هنر است. همان راهي كه مترلينگ به آن اشاره كرد. '}"
            ]
          },
          "metadata": {},
          "execution_count": 14
        }
      ],
      "source": [
        "corpus[1]"
      ]
    },
    {
      "cell_type": "code",
      "execution_count": 15,
      "metadata": {
        "id": "f2zWs1IsSpdS"
      },
      "outputs": [],
      "source": [
        "df = pd.DataFrame(corpus[1:], columns=['text', 'category'])"
      ]
    },
    {
      "cell_type": "code",
      "execution_count": 16,
      "metadata": {
        "colab": {
          "base_uri": "https://localhost:8080/",
          "height": 206
        },
        "id": "iiVo_EN97Uyx",
        "outputId": "7b579165-5d1f-4ef0-93dc-8de7a791ea9c"
      },
      "outputs": [
        {
          "output_type": "execute_result",
          "data": {
            "text/plain": [
              "                                                text   category\n",
              "0    در زندگي گروهي از طريق هنر نگاهي به نمايشگاه...  adabh\\r\\n\n",
              "1    هنري جهان نمايشگاه هنر در خدمت ديكتاتورها نم...  adabh\\r\\n\n",
              "2    نگارخانه ها گالري گلستان: نمايشگاه طرح و ساخ...  adabh\\r\\n\n",
              "3    را جدي بگيريم مطالعه اي مقدماتي پيرامون نقش ...  ejtem\\r\\n\n",
              "4    سياه و غباري كه سترده نمي شود... اشاره; به ر...  elmfa\\r\\n"
            ],
            "text/html": [
              "\n",
              "  <div id=\"df-36b9e7b5-066b-42e1-94f1-7b64d5e7ee09\">\n",
              "    <div class=\"colab-df-container\">\n",
              "      <div>\n",
              "<style scoped>\n",
              "    .dataframe tbody tr th:only-of-type {\n",
              "        vertical-align: middle;\n",
              "    }\n",
              "\n",
              "    .dataframe tbody tr th {\n",
              "        vertical-align: top;\n",
              "    }\n",
              "\n",
              "    .dataframe thead th {\n",
              "        text-align: right;\n",
              "    }\n",
              "</style>\n",
              "<table border=\"1\" class=\"dataframe\">\n",
              "  <thead>\n",
              "    <tr style=\"text-align: right;\">\n",
              "      <th></th>\n",
              "      <th>text</th>\n",
              "      <th>category</th>\n",
              "    </tr>\n",
              "  </thead>\n",
              "  <tbody>\n",
              "    <tr>\n",
              "      <th>0</th>\n",
              "      <td>در زندگي گروهي از طريق هنر نگاهي به نمايشگاه...</td>\n",
              "      <td>adabh\\r\\n</td>\n",
              "    </tr>\n",
              "    <tr>\n",
              "      <th>1</th>\n",
              "      <td>هنري جهان نمايشگاه هنر در خدمت ديكتاتورها نم...</td>\n",
              "      <td>adabh\\r\\n</td>\n",
              "    </tr>\n",
              "    <tr>\n",
              "      <th>2</th>\n",
              "      <td>نگارخانه ها گالري گلستان: نمايشگاه طرح و ساخ...</td>\n",
              "      <td>adabh\\r\\n</td>\n",
              "    </tr>\n",
              "    <tr>\n",
              "      <th>3</th>\n",
              "      <td>را جدي بگيريم مطالعه اي مقدماتي پيرامون نقش ...</td>\n",
              "      <td>ejtem\\r\\n</td>\n",
              "    </tr>\n",
              "    <tr>\n",
              "      <th>4</th>\n",
              "      <td>سياه و غباري كه سترده نمي شود... اشاره; به ر...</td>\n",
              "      <td>elmfa\\r\\n</td>\n",
              "    </tr>\n",
              "  </tbody>\n",
              "</table>\n",
              "</div>\n",
              "      <button class=\"colab-df-convert\" onclick=\"convertToInteractive('df-36b9e7b5-066b-42e1-94f1-7b64d5e7ee09')\"\n",
              "              title=\"Convert this dataframe to an interactive table.\"\n",
              "              style=\"display:none;\">\n",
              "        \n",
              "  <svg xmlns=\"http://www.w3.org/2000/svg\" height=\"24px\"viewBox=\"0 0 24 24\"\n",
              "       width=\"24px\">\n",
              "    <path d=\"M0 0h24v24H0V0z\" fill=\"none\"/>\n",
              "    <path d=\"M18.56 5.44l.94 2.06.94-2.06 2.06-.94-2.06-.94-.94-2.06-.94 2.06-2.06.94zm-11 1L8.5 8.5l.94-2.06 2.06-.94-2.06-.94L8.5 2.5l-.94 2.06-2.06.94zm10 10l.94 2.06.94-2.06 2.06-.94-2.06-.94-.94-2.06-.94 2.06-2.06.94z\"/><path d=\"M17.41 7.96l-1.37-1.37c-.4-.4-.92-.59-1.43-.59-.52 0-1.04.2-1.43.59L10.3 9.45l-7.72 7.72c-.78.78-.78 2.05 0 2.83L4 21.41c.39.39.9.59 1.41.59.51 0 1.02-.2 1.41-.59l7.78-7.78 2.81-2.81c.8-.78.8-2.07 0-2.86zM5.41 20L4 18.59l7.72-7.72 1.47 1.35L5.41 20z\"/>\n",
              "  </svg>\n",
              "      </button>\n",
              "      \n",
              "  <style>\n",
              "    .colab-df-container {\n",
              "      display:flex;\n",
              "      flex-wrap:wrap;\n",
              "      gap: 12px;\n",
              "    }\n",
              "\n",
              "    .colab-df-convert {\n",
              "      background-color: #E8F0FE;\n",
              "      border: none;\n",
              "      border-radius: 50%;\n",
              "      cursor: pointer;\n",
              "      display: none;\n",
              "      fill: #1967D2;\n",
              "      height: 32px;\n",
              "      padding: 0 0 0 0;\n",
              "      width: 32px;\n",
              "    }\n",
              "\n",
              "    .colab-df-convert:hover {\n",
              "      background-color: #E2EBFA;\n",
              "      box-shadow: 0px 1px 2px rgba(60, 64, 67, 0.3), 0px 1px 3px 1px rgba(60, 64, 67, 0.15);\n",
              "      fill: #174EA6;\n",
              "    }\n",
              "\n",
              "    [theme=dark] .colab-df-convert {\n",
              "      background-color: #3B4455;\n",
              "      fill: #D2E3FC;\n",
              "    }\n",
              "\n",
              "    [theme=dark] .colab-df-convert:hover {\n",
              "      background-color: #434B5C;\n",
              "      box-shadow: 0px 1px 3px 1px rgba(0, 0, 0, 0.15);\n",
              "      filter: drop-shadow(0px 1px 2px rgba(0, 0, 0, 0.3));\n",
              "      fill: #FFFFFF;\n",
              "    }\n",
              "  </style>\n",
              "\n",
              "      <script>\n",
              "        const buttonEl =\n",
              "          document.querySelector('#df-36b9e7b5-066b-42e1-94f1-7b64d5e7ee09 button.colab-df-convert');\n",
              "        buttonEl.style.display =\n",
              "          google.colab.kernel.accessAllowed ? 'block' : 'none';\n",
              "\n",
              "        async function convertToInteractive(key) {\n",
              "          const element = document.querySelector('#df-36b9e7b5-066b-42e1-94f1-7b64d5e7ee09');\n",
              "          const dataTable =\n",
              "            await google.colab.kernel.invokeFunction('convertToInteractive',\n",
              "                                                     [key], {});\n",
              "          if (!dataTable) return;\n",
              "\n",
              "          const docLinkHtml = 'Like what you see? Visit the ' +\n",
              "            '<a target=\"_blank\" href=https://colab.research.google.com/notebooks/data_table.ipynb>data table notebook</a>'\n",
              "            + ' to learn more about interactive tables.';\n",
              "          element.innerHTML = '';\n",
              "          dataTable['output_type'] = 'display_data';\n",
              "          await google.colab.output.renderOutput(dataTable, element);\n",
              "          const docLink = document.createElement('div');\n",
              "          docLink.innerHTML = docLinkHtml;\n",
              "          element.appendChild(docLink);\n",
              "        }\n",
              "      </script>\n",
              "    </div>\n",
              "  </div>\n",
              "  "
            ]
          },
          "metadata": {},
          "execution_count": 16
        }
      ],
      "source": [
        "df.head()"
      ]
    },
    {
      "cell_type": "code",
      "execution_count": 17,
      "metadata": {
        "colab": {
          "base_uri": "https://localhost:8080/"
        },
        "id": "bKpTNenxpMse",
        "outputId": "22edbf46-0842-4298-aeb8-2de3b3dac4c6"
      },
      "outputs": [
        {
          "output_type": "execute_result",
          "data": {
            "text/plain": [
              "165261"
            ]
          },
          "metadata": {},
          "execution_count": 17
        }
      ],
      "source": [
        "len(df)"
      ]
    },
    {
      "cell_type": "markdown",
      "metadata": {
        "id": "k6ND1ISbxixQ"
      },
      "source": [
        "### **Export DataFrame to CSV**"
      ]
    },
    {
      "cell_type": "code",
      "execution_count": 18,
      "metadata": {
        "id": "SUlje74y5M1f"
      },
      "outputs": [],
      "source": [
        "df.to_csv('data.csv')"
      ]
    },
    {
      "cell_type": "markdown",
      "metadata": {
        "id": "N23mucIW7X-4"
      },
      "source": [
        "# **Read Dataset**"
      ]
    },
    {
      "cell_type": "code",
      "execution_count": 4,
      "metadata": {
        "id": "PYrtP5-e7LOd"
      },
      "outputs": [],
      "source": [
        "data = pd.read_csv('data.csv')"
      ]
    },
    {
      "cell_type": "code",
      "execution_count": 5,
      "metadata": {
        "id": "YkA5kOQK7t67"
      },
      "outputs": [],
      "source": [
        "data = data.iloc[: , 1:]"
      ]
    },
    {
      "cell_type": "code",
      "execution_count": 6,
      "metadata": {
        "colab": {
          "base_uri": "https://localhost:8080/",
          "height": 143
        },
        "id": "4E7l2vw97hin",
        "outputId": "22a4181e-c267-4f1a-a85c-184da211c89f"
      },
      "outputs": [
        {
          "output_type": "execute_result",
          "data": {
            "text/plain": [
              "                                                text   category\n",
              "0    در زندگي گروهي از طريق هنر نگاهي به نمايشگاه...  adabh\\r\\n\n",
              "1    هنري جهان نمايشگاه هنر در خدمت ديكتاتورها نم...  adabh\\r\\n\n",
              "2    نگارخانه ها گالري گلستان: نمايشگاه طرح و ساخ...  adabh\\r\\n"
            ],
            "text/html": [
              "\n",
              "  <div id=\"df-2e45fac8-0baf-4b67-9c6f-ff2bd0eec657\">\n",
              "    <div class=\"colab-df-container\">\n",
              "      <div>\n",
              "<style scoped>\n",
              "    .dataframe tbody tr th:only-of-type {\n",
              "        vertical-align: middle;\n",
              "    }\n",
              "\n",
              "    .dataframe tbody tr th {\n",
              "        vertical-align: top;\n",
              "    }\n",
              "\n",
              "    .dataframe thead th {\n",
              "        text-align: right;\n",
              "    }\n",
              "</style>\n",
              "<table border=\"1\" class=\"dataframe\">\n",
              "  <thead>\n",
              "    <tr style=\"text-align: right;\">\n",
              "      <th></th>\n",
              "      <th>text</th>\n",
              "      <th>category</th>\n",
              "    </tr>\n",
              "  </thead>\n",
              "  <tbody>\n",
              "    <tr>\n",
              "      <th>0</th>\n",
              "      <td>در زندگي گروهي از طريق هنر نگاهي به نمايشگاه...</td>\n",
              "      <td>adabh\\r\\n</td>\n",
              "    </tr>\n",
              "    <tr>\n",
              "      <th>1</th>\n",
              "      <td>هنري جهان نمايشگاه هنر در خدمت ديكتاتورها نم...</td>\n",
              "      <td>adabh\\r\\n</td>\n",
              "    </tr>\n",
              "    <tr>\n",
              "      <th>2</th>\n",
              "      <td>نگارخانه ها گالري گلستان: نمايشگاه طرح و ساخ...</td>\n",
              "      <td>adabh\\r\\n</td>\n",
              "    </tr>\n",
              "  </tbody>\n",
              "</table>\n",
              "</div>\n",
              "      <button class=\"colab-df-convert\" onclick=\"convertToInteractive('df-2e45fac8-0baf-4b67-9c6f-ff2bd0eec657')\"\n",
              "              title=\"Convert this dataframe to an interactive table.\"\n",
              "              style=\"display:none;\">\n",
              "        \n",
              "  <svg xmlns=\"http://www.w3.org/2000/svg\" height=\"24px\"viewBox=\"0 0 24 24\"\n",
              "       width=\"24px\">\n",
              "    <path d=\"M0 0h24v24H0V0z\" fill=\"none\"/>\n",
              "    <path d=\"M18.56 5.44l.94 2.06.94-2.06 2.06-.94-2.06-.94-.94-2.06-.94 2.06-2.06.94zm-11 1L8.5 8.5l.94-2.06 2.06-.94-2.06-.94L8.5 2.5l-.94 2.06-2.06.94zm10 10l.94 2.06.94-2.06 2.06-.94-2.06-.94-.94-2.06-.94 2.06-2.06.94z\"/><path d=\"M17.41 7.96l-1.37-1.37c-.4-.4-.92-.59-1.43-.59-.52 0-1.04.2-1.43.59L10.3 9.45l-7.72 7.72c-.78.78-.78 2.05 0 2.83L4 21.41c.39.39.9.59 1.41.59.51 0 1.02-.2 1.41-.59l7.78-7.78 2.81-2.81c.8-.78.8-2.07 0-2.86zM5.41 20L4 18.59l7.72-7.72 1.47 1.35L5.41 20z\"/>\n",
              "  </svg>\n",
              "      </button>\n",
              "      \n",
              "  <style>\n",
              "    .colab-df-container {\n",
              "      display:flex;\n",
              "      flex-wrap:wrap;\n",
              "      gap: 12px;\n",
              "    }\n",
              "\n",
              "    .colab-df-convert {\n",
              "      background-color: #E8F0FE;\n",
              "      border: none;\n",
              "      border-radius: 50%;\n",
              "      cursor: pointer;\n",
              "      display: none;\n",
              "      fill: #1967D2;\n",
              "      height: 32px;\n",
              "      padding: 0 0 0 0;\n",
              "      width: 32px;\n",
              "    }\n",
              "\n",
              "    .colab-df-convert:hover {\n",
              "      background-color: #E2EBFA;\n",
              "      box-shadow: 0px 1px 2px rgba(60, 64, 67, 0.3), 0px 1px 3px 1px rgba(60, 64, 67, 0.15);\n",
              "      fill: #174EA6;\n",
              "    }\n",
              "\n",
              "    [theme=dark] .colab-df-convert {\n",
              "      background-color: #3B4455;\n",
              "      fill: #D2E3FC;\n",
              "    }\n",
              "\n",
              "    [theme=dark] .colab-df-convert:hover {\n",
              "      background-color: #434B5C;\n",
              "      box-shadow: 0px 1px 3px 1px rgba(0, 0, 0, 0.15);\n",
              "      filter: drop-shadow(0px 1px 2px rgba(0, 0, 0, 0.3));\n",
              "      fill: #FFFFFF;\n",
              "    }\n",
              "  </style>\n",
              "\n",
              "      <script>\n",
              "        const buttonEl =\n",
              "          document.querySelector('#df-2e45fac8-0baf-4b67-9c6f-ff2bd0eec657 button.colab-df-convert');\n",
              "        buttonEl.style.display =\n",
              "          google.colab.kernel.accessAllowed ? 'block' : 'none';\n",
              "\n",
              "        async function convertToInteractive(key) {\n",
              "          const element = document.querySelector('#df-2e45fac8-0baf-4b67-9c6f-ff2bd0eec657');\n",
              "          const dataTable =\n",
              "            await google.colab.kernel.invokeFunction('convertToInteractive',\n",
              "                                                     [key], {});\n",
              "          if (!dataTable) return;\n",
              "\n",
              "          const docLinkHtml = 'Like what you see? Visit the ' +\n",
              "            '<a target=\"_blank\" href=https://colab.research.google.com/notebooks/data_table.ipynb>data table notebook</a>'\n",
              "            + ' to learn more about interactive tables.';\n",
              "          element.innerHTML = '';\n",
              "          dataTable['output_type'] = 'display_data';\n",
              "          await google.colab.output.renderOutput(dataTable, element);\n",
              "          const docLink = document.createElement('div');\n",
              "          docLink.innerHTML = docLinkHtml;\n",
              "          element.appendChild(docLink);\n",
              "        }\n",
              "      </script>\n",
              "    </div>\n",
              "  </div>\n",
              "  "
            ]
          },
          "metadata": {},
          "execution_count": 6
        }
      ],
      "source": [
        "data.head(3)"
      ]
    },
    {
      "cell_type": "code",
      "execution_count": 7,
      "metadata": {
        "colab": {
          "base_uri": "https://localhost:8080/"
        },
        "id": "SszgUxXCzV3l",
        "outputId": "00c56d8b-d15b-47a7-a2dd-8afb61bb6719"
      },
      "outputs": [
        {
          "output_type": "execute_result",
          "data": {
            "text/plain": [
              "142"
            ]
          },
          "metadata": {},
          "execution_count": 7
        }
      ],
      "source": [
        "data['category'].nunique()"
      ]
    },
    {
      "cell_type": "code",
      "source": [
        "len(data)"
      ],
      "metadata": {
        "colab": {
          "base_uri": "https://localhost:8080/"
        },
        "id": "ZWue8zKWb4gr",
        "outputId": "5c9da48e-6b4b-4849-afc0-6be0be94f72e"
      },
      "execution_count": 8,
      "outputs": [
        {
          "output_type": "execute_result",
          "data": {
            "text/plain": [
              "165261"
            ]
          },
          "metadata": {},
          "execution_count": 8
        }
      ]
    },
    {
      "cell_type": "code",
      "source": [
        "data = data[data.groupby('category')['category'].transform('count') > 1].copy()"
      ],
      "metadata": {
        "id": "RB_kszeQi31H"
      },
      "execution_count": 9,
      "outputs": []
    },
    {
      "cell_type": "code",
      "source": [
        "len(data['category'].unique())"
      ],
      "metadata": {
        "colab": {
          "base_uri": "https://localhost:8080/"
        },
        "id": "ApQcjU3ZYEJe",
        "outputId": "3058a8c7-5b54-492c-fb47-712e179df77c"
      },
      "execution_count": 10,
      "outputs": [
        {
          "output_type": "execute_result",
          "data": {
            "text/plain": [
              "105"
            ]
          },
          "metadata": {},
          "execution_count": 10
        }
      ]
    },
    {
      "cell_type": "code",
      "source": [
        "data['category'].value_counts()"
      ],
      "metadata": {
        "colab": {
          "base_uri": "https://localhost:8080/"
        },
        "id": "bS05prSOyrYN",
        "outputId": "a9b4f1eb-3bc9-4186-8eb6-4522c5b5a730"
      },
      "execution_count": 11,
      "outputs": [
        {
          "output_type": "execute_result",
          "data": {
            "text/plain": [
              "siasi\\r\\n      17530\n",
              "eqtes\\r\\n      16661\n",
              "kharj\\r\\n      14666\n",
              "akhar\\r\\n      13811\n",
              "vrzsh\\r\\n      13010\n",
              "               ...  \n",
              "Musical\\r\\n        3\n",
              "igozar\\r\\n         3\n",
              "Cinew\\r\\n          3\n",
              "Polig\\r\\n          2\n",
              "Thought\\r\\n        2\n",
              "Name: category, Length: 105, dtype: int64"
            ]
          },
          "metadata": {},
          "execution_count": 11
        }
      ]
    },
    {
      "cell_type": "markdown",
      "metadata": {
        "id": "PnX_bv2u8-ip"
      },
      "source": [
        "### **Read StopWords**"
      ]
    },
    {
      "cell_type": "code",
      "execution_count": 14,
      "metadata": {
        "id": "cFgOdUdR-lNp"
      },
      "outputs": [],
      "source": [
        "hamshahri_stopwords_path = 'hamshahri/hamshahriold/Corpus/PersianStopWords.zip'\n",
        "hamshahri_stopwords_extract_path = 'hamshahri/hamshahriold/Corpus/hamshahri-stopwords'\n",
        "extract_zip_file(hamshahri_stopwords_path, hamshahri_stopwords_extract_path)\n",
        "HAMSHAHRI_STOPWORDS_PATH = '/content/hamshahri/hamshahriold/Corpus/hamshahri-stopwords/PersianStopWords.txt'"
      ]
    },
    {
      "cell_type": "code",
      "execution_count": 15,
      "metadata": {
        "id": "OsRDCV_i7i5a"
      },
      "outputs": [],
      "source": [
        "def read_stop_words(filename):\n",
        "  with open(filename) as stopwords_file:\n",
        "    stopwords = stopwords_file.readlines()\n",
        "  stopwords = [line.replace('\\n', '') for line in stopwords] \n",
        "  return stopwords"
      ]
    },
    {
      "cell_type": "code",
      "execution_count": 16,
      "metadata": {
        "colab": {
          "base_uri": "https://localhost:8080/"
        },
        "id": "6JLWBOcL-bLT",
        "outputId": "128ef51c-1c00-450e-ab8e-47a94758eb43"
      },
      "outputs": [
        {
          "output_type": "stream",
          "name": "stdout",
          "text": [
            "796\n"
          ]
        }
      ],
      "source": [
        "stopwords = read_stop_words(HAMSHAHRI_STOPWORDS_PATH)\n",
        "print(len(stopwords))"
      ]
    },
    {
      "cell_type": "code",
      "execution_count": 17,
      "metadata": {
        "id": "lmKXzzDC-5Nz"
      },
      "outputs": [],
      "source": [
        "# Convert pandas to numpy\n",
        "np_data = data[\"text\"].values"
      ]
    },
    {
      "cell_type": "code",
      "execution_count": 18,
      "metadata": {
        "colab": {
          "base_uri": "https://localhost:8080/",
          "height": 127
        },
        "id": "hutOAFADBZFx",
        "outputId": "025bf1a5-c0ac-466d-d415-4ea34cee2cba"
      },
      "outputs": [
        {
          "output_type": "execute_result",
          "data": {
            "text/plain": [
              "'  در زندگي گروهي از طريق هنر نگاهي به نمايشگاه آثار هنري احمد طباطبايي موضوع آثار طباطبايي مورچگان هستند ولي در باطن چنين ظاهري، اين انسانهاهستند كه در هيبتي حشره گونه در تابلوهاي نقاشي نمايشگر گوشه هايي از زندگي خود هستند. مورچه اي را ديده ايم كه بار سنگين خودرا به دوش مي كشد و در بين راه خسته مي شود يا در نتيجه پيش آمدن يك حادثه اتفاقي بار از دستش رها شده و براي گريز از خطر آن را مي گذارد و فرار مي كند. اما ساعتي بعد به همان نقطه برمي گردد و بار را دوباره به دوش كشيده نفس زنان و عرق ريزان آن را به منزل او مي رساند مي داند كه اگر در ميان راه از بين رفت، يك مورچه ديگر با همان استعداد غريزه عملي را كه او شروع كرده به پايان مي رساند. پس او مي داند كه بعد از خودش نسل آينده اي وجود دارد كه بايد از مزاياي آن استفاده نمايد. چه داستان درازي، انتها و پاياني هم ميليونها ندارد سال گذشته، ميلياردها سال ديگر خواهد گذشت وهمين برنامه ميليونها بار ديگر تجديد مي شود. پس بايد گفت سير حيات و تكامل پايان ناپذير است. اسرار جهان پاياني ندارد. پس اگر بخواهيم به يك چيز پايان ناپذير برسيم چون انتهايي در بين نيست، به جايي نمي رسيم. (از كتاب مورچگان، نوشته موريس مترلينگ )مورچگان در تابلوهاي نقاشي احمد طباطبايي جايگاه ويژه اي دارند. در نمايشگاهي كه از آثار اين هنرمند (اول تا 23 خرداد ) در نگارخانه برگ برپا شد 36 اثر با اين موضوع به نمايش عمومي درآمد. طباطبايي در مدت 18 سالي كه به نقاشي مي پردازد همواره بر روي موضوع مورچگان كار كرده است. وي درباره علت انتخاب چنين سوژه اي مي گويد: در يكي از روزهاي زندگي خود بسيار غمگين بودم و زماني كه به خواب رفتم، مورچه اي را ديدم. سپس تصميم گرفتم طرح آن را بكشم. اين كار به نظرم جالب آمد و از آن روز به بعد اين نوع طراحي را ادامه دادم كه در هر بار نقاشي در اين مدلها تغييراتي را ايجاد مي كنم، ضمن اينكه اين حشره به دليل زندگي منظمي كه دارد، برايم جذاب است. نظم يكي از اركان آثار نقاشي طباطبايي است. عليرغم موضوعات ساده، تركيببندي دو بعدي و تنوع كم در رنگ آميزي سطوح، استحكام طرحها و نقوش بر روي پرده اثر نشان از نظمي دروني دارد. اين نظم خود را در آناتومي و اندام مورچگان به نوع ديگري نشان مي دهد. مشخصه اصلي مورچگان دست و پا و تقسيم بندي سه گانه بدن آنها است و مهمتر آنكه روي شش دست و پا راه مي روند. اما در نقاشيهاي طباطبايي آنها روي دو پا مثل انسان مي ايستند. سرهايشان بزرگترين اندام بدنشان است و چشمها به طور اغراق آميزي در سرجا گرفته است. هدف نقاش از اين تغييرات در اندام مورچگان؟ چيست باآنكه خود نقاش گفته و از نقاشيها استنباط  مي شود، موضوع آثار طباطبايي مورچگان است اما در باطن چنين ظاهري، اين انسانها هستند كه در هيبتي حشره گونه در تابلوهاي نقاش نمايشگر گوشه هايي از زندگي خود هستند. آنها با اندام سياه خود در زمينه اي خاكستري بادكنكهاي رنگي به دست دارند و عروسي مي كنند. تغيير در اندام مورچگان باعث شده چهره و حالات سر و صورت تنها اندام بازگو كننده احساسات موضوع در تابلوي نقاشي نباشد بلكه تمام بدن اين  مورچه - انسانهاحسي را پديد مي آورند كه در تابلو سايه مي اندازد. احساساتي نظير به دام افتادن در دام يك عنكبوت، مادري كردن، تفاهم و دوستي. نكته ديگر، نقاشي درختان به صورت اسليمي هاي ايراني در حاشيه تابلوها با خطوط و رنگهايي زنده و شاداب است. اين نقشها در تقابل بصري با  مورچه - انسانهاست اما در يك هماهنگي دروني با مفهوم مورچه - انسانها به تصوير كشيده شده اند. رنگهاي شاد سبز با ميوه هاي سرخ، شكل انساني محيط را افزايش مي دهند اما اين مورچگان كه به طور گروهي در اين فضا به سر مي برند، يك اصل را مي دانند; جاودانگي در زندگي گروهي و انتقال احساسات به ديگران از طريق هنر است. همان راهي كه مترلينگ به آن اشاره كرد. '"
            ],
            "application/vnd.google.colaboratory.intrinsic+json": {
              "type": "string"
            }
          },
          "metadata": {},
          "execution_count": 18
        }
      ],
      "source": [
        "np_data[0]"
      ]
    },
    {
      "cell_type": "markdown",
      "metadata": {
        "id": "z9ROe8i0_lMu"
      },
      "source": [
        "**Install hazm library**"
      ]
    },
    {
      "cell_type": "code",
      "execution_count": 19,
      "metadata": {
        "colab": {
          "base_uri": "https://localhost:8080/"
        },
        "id": "NS2f2zrq_dZ0",
        "outputId": "4ca06e2c-1d50-4296-8958-199925fcc097"
      },
      "outputs": [
        {
          "output_type": "stream",
          "name": "stdout",
          "text": [
            "Looking in indexes: https://pypi.org/simple, https://us-python.pkg.dev/colab-wheels/public/simple/\n",
            "Requirement already satisfied: hazm in /usr/local/lib/python3.7/dist-packages (0.7.0)\n",
            "Requirement already satisfied: libwapiti>=0.2.1 in /usr/local/lib/python3.7/dist-packages (from hazm) (0.2.1)\n",
            "Requirement already satisfied: nltk==3.3 in /usr/local/lib/python3.7/dist-packages (from hazm) (3.3)\n",
            "Requirement already satisfied: six in /usr/local/lib/python3.7/dist-packages (from nltk==3.3->hazm) (1.15.0)\n"
          ]
        }
      ],
      "source": [
        "# install hazm library\n",
        "!pip install hazm\n",
        "from hazm import word_tokenize"
      ]
    },
    {
      "cell_type": "code",
      "execution_count": 20,
      "metadata": {
        "id": "0UTo9YVx_qPj"
      },
      "outputs": [],
      "source": [
        "word_tokenized = [word_tokenize(t) for t in np_data]"
      ]
    },
    {
      "cell_type": "code",
      "execution_count": 21,
      "metadata": {
        "id": "Ebp-KL07_vv7"
      },
      "outputs": [],
      "source": [
        "word_tokenized_filtered = [[w for w in sentence if w not in stopwords] for sentence in word_tokenized]"
      ]
    },
    {
      "cell_type": "code",
      "execution_count": 22,
      "metadata": {
        "id": "bvixHaaqIb_j",
        "colab": {
          "base_uri": "https://localhost:8080/",
          "height": 225
        },
        "outputId": "537c6f01-414b-4e59-9d44-d27c225e3022"
      },
      "outputs": [
        {
          "output_type": "error",
          "ename": "NameError",
          "evalue": "ignored",
          "traceback": [
            "\u001b[0;31m---------------------------------------------------------------------------\u001b[0m",
            "\u001b[0;31mNameError\u001b[0m                                 Traceback (most recent call last)",
            "\u001b[0;32m<ipython-input-22-f4ca8188d618>\u001b[0m in \u001b[0;36m<module>\u001b[0;34m()\u001b[0m\n\u001b[1;32m      1\u001b[0m \u001b[0;32mdel\u001b[0m \u001b[0mword_tokenized\u001b[0m\u001b[0;34m\u001b[0m\u001b[0;34m\u001b[0m\u001b[0m\n\u001b[1;32m      2\u001b[0m \u001b[0;32mdel\u001b[0m \u001b[0mnp_data\u001b[0m\u001b[0;34m\u001b[0m\u001b[0;34m\u001b[0m\u001b[0m\n\u001b[0;32m----> 3\u001b[0;31m \u001b[0;32mdel\u001b[0m \u001b[0mdf\u001b[0m\u001b[0;34m\u001b[0m\u001b[0;34m\u001b[0m\u001b[0m\n\u001b[0m\u001b[1;32m      4\u001b[0m \u001b[0;32mdel\u001b[0m \u001b[0mcorpus\u001b[0m\u001b[0;34m\u001b[0m\u001b[0;34m\u001b[0m\u001b[0m\n",
            "\u001b[0;31mNameError\u001b[0m: name 'df' is not defined"
          ]
        }
      ],
      "source": [
        "del word_tokenized\n",
        "del np_data\n",
        "del df\n",
        "del corpus"
      ]
    },
    {
      "cell_type": "code",
      "source": [
        "corpus = []\n",
        "for sentence in word_tokenized_filtered:\n",
        "  s = ' '\n",
        "  for w in sentence:\n",
        "    s += w + ' '\n",
        "  corpus.append(s)  "
      ],
      "metadata": {
        "id": "Ert8gerVgEo2"
      },
      "execution_count": 23,
      "outputs": []
    },
    {
      "cell_type": "code",
      "source": [
        "print(corpus[0])"
      ],
      "metadata": {
        "colab": {
          "base_uri": "https://localhost:8080/"
        },
        "id": "kHKKFMV2g9Cw",
        "outputId": "dec8fcdc-1701-4f0b-f589-4f44cf526be6"
      },
      "execution_count": 24,
      "outputs": [
        {
          "output_type": "stream",
          "name": "stdout",
          "text": [
            " زندگي گروهي طريق هنر نگاهي نمايشگاه آثار هنري احمد طباطبايي موضوع آثار طباطبايي مورچگان باطن ظاهري انسانهاهستند هيبتي حشره تابلوهاي نقاشي نمايشگر گوشه زندگي مورچه ديده ايم سنگين خودرا دوش كشد راه خسته نتيجه آمدن حادثه اتفاقي دستش رها گريز خطر گذارد فرار ساعتي نقطه برمي گردد دوش كشيده نفس زنان عرق ريزان منزل رساند داند راه رفت مورچه استعداد غريزه عملي شروع پايان رساند داند نسل آينده مزاياي استفاده نمايد داستان درازي انتها پاياني ميليونها سال گذشته ميلياردها سال خواهد_گذشت وهمين برنامه ميليونها تجديد گفت سير حيات تكامل پايان ناپذير اسرار جهان پاياني بخواهيم چيز پايان ناپذير برسيم انتهايي نيست جايي رسيم كتاب مورچگان نوشته موريس مترلينگ مورچگان تابلوهاي نقاشي احمد طباطبايي جايگاه ويژه دارند نمايشگاهي آثار هنرمند اول 23 خرداد نگارخانه برگ برپا 36 اثر موضوع نمايش عمومي درآمد طباطبايي مدت 18 سالي نقاشي پردازد موضوع مورچگان كار علت انتخاب سوژه گويد روزهاي زندگي غمگين بودم زماني خواب رفتم مورچه ديدم تصميم گرفتم طرح بكشم كار نظرم جالب آمد روز طراحي ادامه دادم نقاشي مدلها تغييراتي ايجاد ضمن حشره دليل زندگي منظمي جذاب نظم اركان آثار نقاشي طباطبايي عليرغم موضوعات ساده تركيببندي دو بعدي تنوع كم رنگ آميزي سطوح استحكام طرحها نقوش پرده اثر نشان نظمي دروني نظم آناتومي اندام مورچگان نشان مشخصه اصلي مورچگان دست پا تقسيم بندي سه گانه بدن مهمتر آنكه شش دست پا راه روند نقاشيهاي طباطبايي دو پا انسان ايستند سرهايشان بزرگترين اندام بدنشان چشمها طور اغراق آميزي سرجا گرفته_است هدف نقاش تغييرات اندام مورچگان باآنكه نقاش گفته نقاشيها استنباط موضوع آثار طباطبايي مورچگان باطن ظاهري انسانها هيبتي حشره تابلوهاي نقاش نمايشگر گوشه زندگي اندام سياه زمينه خاكستري بادكنكهاي رنگي دست دارند عروسي تغيير اندام مورچگان باعث چهره حالات صورت اندام بازگو كننده احساسات موضوع تابلوي نقاشي نباشد بدن مورچه انسانهاحسي پديد آورند تابلو سايه اندازد احساساتي دام افتادن دام عنكبوت مادري كردن تفاهم دوستي نكته نقاشي درختان صورت اسليمي ايراني حاشيه تابلوها خطوط رنگهايي زنده شاداب نقشها تقابل بصري مورچه انسانهاست هماهنگي دروني مفهوم مورچه انسانها تصوير كشيده شده_اند رنگهاي شاد سبز ميوه سرخ شكل انساني محيط افزايش دهند مورچگان طور گروهي فضا برند اصل دانند; جاودانگي زندگي گروهي انتقال احساسات طريق هنر راهي مترلينگ اشاره كرد \n"
          ]
        }
      ]
    },
    {
      "cell_type": "markdown",
      "metadata": {
        "id": "7WlGzPwDlTVl"
      },
      "source": [
        "**category tokenizaer**"
      ]
    },
    {
      "cell_type": "code",
      "execution_count": 25,
      "metadata": {
        "id": "OzePYo8ghWqR"
      },
      "outputs": [],
      "source": [
        "category_tokenizer = Tokenizer()\n",
        "category_tokenizer.fit_on_texts(list(data['category']))\n",
        "category_data = category_tokenizer.texts_to_sequences(list(data['category']))"
      ]
    },
    {
      "cell_type": "code",
      "execution_count": 26,
      "metadata": {
        "colab": {
          "base_uri": "https://localhost:8080/"
        },
        "id": "JG9ofJck4DgV",
        "outputId": "5715579e-17c4-4cff-d15d-529101a3c324"
      },
      "outputs": [
        {
          "output_type": "execute_result",
          "data": {
            "text/plain": [
              "[[12],\n",
              " [12],\n",
              " [12],\n",
              " [9],\n",
              " [14],\n",
              " [14],\n",
              " [14],\n",
              " [14],\n",
              " [14],\n",
              " [14],\n",
              " [2],\n",
              " [2],\n",
              " [2],\n",
              " [2],\n",
              " [2],\n",
              " [2],\n",
              " [2],\n",
              " [2],\n",
              " [2],\n",
              " [2],\n",
              " [2],\n",
              " [16],\n",
              " [13],\n",
              " [13],\n",
              " [13],\n",
              " [13],\n",
              " [13],\n",
              " [13],\n",
              " [13],\n",
              " [13],\n",
              " [13],\n",
              " [13],\n",
              " [3],\n",
              " [3],\n",
              " [3],\n",
              " [3],\n",
              " [3],\n",
              " [3],\n",
              " [3],\n",
              " [3],\n",
              " [3],\n",
              " [3],\n",
              " [15],\n",
              " [8],\n",
              " [8],\n",
              " [8],\n",
              " [8],\n",
              " [8],\n",
              " [8],\n",
              " [8],\n",
              " [8],\n",
              " [8],\n",
              " [8],\n",
              " [8],\n",
              " [8],\n",
              " [8],\n",
              " [8],\n",
              " [8],\n",
              " [8],\n",
              " [8],\n",
              " [1],\n",
              " [1],\n",
              " [1],\n",
              " [1],\n",
              " [1],\n",
              " [1],\n",
              " [1],\n",
              " [1],\n",
              " [1],\n",
              " [1],\n",
              " [1],\n",
              " [1],\n",
              " [1],\n",
              " [1],\n",
              " [1],\n",
              " [5],\n",
              " [5],\n",
              " [5],\n",
              " [5],\n",
              " [5],\n",
              " [5],\n",
              " [12],\n",
              " [9],\n",
              " [9],\n",
              " [14],\n",
              " [14],\n",
              " [14],\n",
              " [14],\n",
              " [14],\n",
              " [2],\n",
              " [2],\n",
              " [2],\n",
              " [2],\n",
              " [2],\n",
              " [2],\n",
              " [2],\n",
              " [16],\n",
              " [13],\n",
              " [13],\n",
              " [13],\n",
              " [13],\n",
              " [13],\n",
              " [13],\n",
              " [13],\n",
              " [13],\n",
              " [13],\n",
              " [13],\n",
              " [13],\n",
              " [13],\n",
              " [13],\n",
              " [13],\n",
              " [3],\n",
              " [3],\n",
              " [3],\n",
              " [3],\n",
              " [3],\n",
              " [3],\n",
              " [3],\n",
              " [3],\n",
              " [3],\n",
              " [3],\n",
              " [3],\n",
              " [3],\n",
              " [3],\n",
              " [3],\n",
              " [15],\n",
              " [8],\n",
              " [8],\n",
              " [8],\n",
              " [8],\n",
              " [8],\n",
              " [8],\n",
              " [8],\n",
              " [8],\n",
              " [8],\n",
              " [8],\n",
              " [8],\n",
              " [8],\n",
              " [1],\n",
              " [1],\n",
              " [1],\n",
              " [1],\n",
              " [1],\n",
              " [1],\n",
              " [1],\n",
              " [1],\n",
              " [1],\n",
              " [1],\n",
              " [1],\n",
              " [1],\n",
              " [5],\n",
              " [5],\n",
              " [5],\n",
              " [5],\n",
              " [5],\n",
              " [5],\n",
              " [5],\n",
              " [5],\n",
              " [5],\n",
              " [12],\n",
              " [12],\n",
              " [12],\n",
              " [12],\n",
              " [9],\n",
              " [14],\n",
              " [2],\n",
              " [2],\n",
              " [2],\n",
              " [2],\n",
              " [2],\n",
              " [2],\n",
              " [2],\n",
              " [2],\n",
              " [16],\n",
              " [13],\n",
              " [13],\n",
              " [13],\n",
              " [13],\n",
              " [13],\n",
              " [13],\n",
              " [13],\n",
              " [13],\n",
              " [13],\n",
              " [13],\n",
              " [13],\n",
              " [13],\n",
              " [3],\n",
              " [3],\n",
              " [3],\n",
              " [3],\n",
              " [3],\n",
              " [3],\n",
              " [3],\n",
              " [3],\n",
              " [3],\n",
              " [3],\n",
              " [3],\n",
              " [3],\n",
              " [3],\n",
              " [3],\n",
              " [3],\n",
              " [3],\n",
              " [3],\n",
              " [15],\n",
              " [8],\n",
              " [8],\n",
              " [8],\n",
              " [8],\n",
              " [8],\n",
              " [8],\n",
              " [8],\n",
              " [8],\n",
              " [8],\n",
              " [8],\n",
              " [8],\n",
              " [8],\n",
              " [8],\n",
              " [8],\n",
              " [8],\n",
              " [8],\n",
              " [8],\n",
              " [8],\n",
              " [8],\n",
              " [8],\n",
              " [8],\n",
              " [8],\n",
              " [8],\n",
              " [1],\n",
              " [1],\n",
              " [1],\n",
              " [1],\n",
              " [1],\n",
              " [1],\n",
              " [1],\n",
              " [1],\n",
              " [1],\n",
              " [1],\n",
              " [1],\n",
              " [1],\n",
              " [1],\n",
              " [1],\n",
              " [1],\n",
              " [1],\n",
              " [1],\n",
              " [1],\n",
              " [1],\n",
              " [1],\n",
              " [1],\n",
              " [1],\n",
              " [1],\n",
              " [5],\n",
              " [5],\n",
              " [5],\n",
              " [5],\n",
              " [5],\n",
              " [5],\n",
              " [5],\n",
              " [5],\n",
              " [5],\n",
              " [5],\n",
              " [5],\n",
              " [5],\n",
              " [5],\n",
              " [12],\n",
              " [12],\n",
              " [12],\n",
              " [12],\n",
              " [9],\n",
              " [9],\n",
              " [9],\n",
              " [14],\n",
              " [14],\n",
              " [2],\n",
              " [2],\n",
              " [2],\n",
              " [2],\n",
              " [2],\n",
              " [2],\n",
              " [16],\n",
              " [13],\n",
              " [13],\n",
              " [13],\n",
              " [13],\n",
              " [13],\n",
              " [13],\n",
              " [13],\n",
              " [13],\n",
              " [13],\n",
              " [13],\n",
              " [13],\n",
              " [13],\n",
              " [13],\n",
              " [13],\n",
              " [13],\n",
              " [13],\n",
              " [13],\n",
              " [3],\n",
              " [3],\n",
              " [3],\n",
              " [3],\n",
              " [3],\n",
              " [3],\n",
              " [3],\n",
              " [3],\n",
              " [3],\n",
              " [3],\n",
              " [3],\n",
              " [3],\n",
              " [3],\n",
              " [3],\n",
              " [3],\n",
              " [3],\n",
              " [3],\n",
              " [15],\n",
              " [8],\n",
              " [8],\n",
              " [8],\n",
              " [8],\n",
              " [8],\n",
              " [8],\n",
              " [8],\n",
              " [8],\n",
              " [8],\n",
              " [8],\n",
              " [8],\n",
              " [8],\n",
              " [8],\n",
              " [8],\n",
              " [8],\n",
              " [8],\n",
              " [1],\n",
              " [1],\n",
              " [1],\n",
              " [1],\n",
              " [1],\n",
              " [1],\n",
              " [1],\n",
              " [1],\n",
              " [1],\n",
              " [1],\n",
              " [1],\n",
              " [1],\n",
              " [1],\n",
              " [1],\n",
              " [1],\n",
              " [1],\n",
              " [1],\n",
              " [1],\n",
              " [1],\n",
              " [5],\n",
              " [5],\n",
              " [5],\n",
              " [5],\n",
              " [5],\n",
              " [5],\n",
              " [5],\n",
              " [5],\n",
              " [5],\n",
              " [5],\n",
              " [12],\n",
              " [12],\n",
              " [9],\n",
              " [9],\n",
              " [14],\n",
              " [14],\n",
              " [14],\n",
              " [14],\n",
              " [14],\n",
              " [14],\n",
              " [2],\n",
              " [2],\n",
              " [2],\n",
              " [2],\n",
              " [2],\n",
              " [2],\n",
              " [16],\n",
              " [13],\n",
              " [13],\n",
              " [13],\n",
              " [13],\n",
              " [13],\n",
              " [13],\n",
              " [13],\n",
              " [13],\n",
              " [13],\n",
              " [13],\n",
              " [3],\n",
              " [3],\n",
              " [3],\n",
              " [3],\n",
              " [3],\n",
              " [3],\n",
              " [3],\n",
              " [3],\n",
              " [3],\n",
              " [3],\n",
              " [3],\n",
              " [3],\n",
              " [3],\n",
              " [15],\n",
              " [15],\n",
              " [8],\n",
              " [8],\n",
              " [8],\n",
              " [8],\n",
              " [8],\n",
              " [8],\n",
              " [8],\n",
              " [8],\n",
              " [8],\n",
              " [8],\n",
              " [8],\n",
              " [8],\n",
              " [8],\n",
              " [1],\n",
              " [1],\n",
              " [1],\n",
              " [1],\n",
              " [1],\n",
              " [1],\n",
              " [1],\n",
              " [1],\n",
              " [1],\n",
              " [1],\n",
              " [1],\n",
              " [1],\n",
              " [1],\n",
              " [1],\n",
              " [1],\n",
              " [1],\n",
              " [1],\n",
              " [1],\n",
              " [5],\n",
              " [5],\n",
              " [5],\n",
              " [5],\n",
              " [5],\n",
              " [5],\n",
              " [5],\n",
              " [5],\n",
              " [5],\n",
              " [5],\n",
              " [5],\n",
              " [5],\n",
              " [5],\n",
              " [12],\n",
              " [12],\n",
              " [12],\n",
              " [9],\n",
              " [9],\n",
              " [9],\n",
              " [14],\n",
              " [14],\n",
              " [2],\n",
              " [2],\n",
              " [2],\n",
              " [2],\n",
              " [2],\n",
              " [2],\n",
              " [2],\n",
              " [2],\n",
              " [2],\n",
              " [2],\n",
              " [16],\n",
              " [13],\n",
              " [13],\n",
              " [13],\n",
              " [13],\n",
              " [13],\n",
              " [13],\n",
              " [13],\n",
              " [3],\n",
              " [3],\n",
              " [3],\n",
              " [3],\n",
              " [3],\n",
              " [3],\n",
              " [3],\n",
              " [3],\n",
              " [3],\n",
              " [15],\n",
              " [15],\n",
              " [15],\n",
              " [8],\n",
              " [8],\n",
              " [8],\n",
              " [8],\n",
              " [8],\n",
              " [8],\n",
              " [8],\n",
              " [8],\n",
              " [8],\n",
              " [8],\n",
              " [1],\n",
              " [1],\n",
              " [1],\n",
              " [1],\n",
              " [1],\n",
              " [1],\n",
              " [1],\n",
              " [1],\n",
              " [1],\n",
              " [1],\n",
              " [1],\n",
              " [1],\n",
              " [1],\n",
              " [1],\n",
              " [1],\n",
              " [1],\n",
              " [1],\n",
              " [1],\n",
              " [1],\n",
              " [1],\n",
              " [1],\n",
              " [5],\n",
              " [5],\n",
              " [5],\n",
              " [5],\n",
              " [5],\n",
              " [5],\n",
              " [12],\n",
              " [12],\n",
              " [12],\n",
              " [9],\n",
              " [9],\n",
              " [9],\n",
              " [14],\n",
              " [14],\n",
              " [14],\n",
              " [2],\n",
              " [2],\n",
              " [2],\n",
              " [2],\n",
              " [2],\n",
              " [2],\n",
              " [2],\n",
              " [2],\n",
              " [16],\n",
              " [13],\n",
              " [13],\n",
              " [13],\n",
              " [13],\n",
              " [13],\n",
              " [13],\n",
              " [13],\n",
              " [13],\n",
              " [13],\n",
              " [13],\n",
              " [13],\n",
              " [13],\n",
              " [13],\n",
              " [3],\n",
              " [3],\n",
              " [3],\n",
              " [3],\n",
              " [3],\n",
              " [3],\n",
              " [3],\n",
              " [3],\n",
              " [3],\n",
              " [3],\n",
              " [3],\n",
              " [3],\n",
              " [3],\n",
              " [3],\n",
              " [15],\n",
              " [15],\n",
              " [15],\n",
              " [8],\n",
              " [8],\n",
              " [8],\n",
              " [8],\n",
              " [8],\n",
              " [8],\n",
              " [8],\n",
              " [8],\n",
              " [8],\n",
              " [8],\n",
              " [8],\n",
              " [8],\n",
              " [8],\n",
              " [8],\n",
              " [8],\n",
              " [1],\n",
              " [1],\n",
              " [1],\n",
              " [1],\n",
              " [1],\n",
              " [1],\n",
              " [1],\n",
              " [1],\n",
              " [1],\n",
              " [1],\n",
              " [1],\n",
              " [1],\n",
              " [1],\n",
              " [1],\n",
              " [1],\n",
              " [1],\n",
              " [1],\n",
              " [1],\n",
              " [1],\n",
              " [5],\n",
              " [5],\n",
              " [5],\n",
              " [5],\n",
              " [5],\n",
              " [5],\n",
              " [5],\n",
              " [5],\n",
              " [12],\n",
              " [12],\n",
              " [9],\n",
              " [14],\n",
              " [14],\n",
              " [14],\n",
              " [2],\n",
              " [2],\n",
              " [2],\n",
              " [2],\n",
              " [2],\n",
              " [2],\n",
              " [2],\n",
              " [16],\n",
              " [13],\n",
              " [13],\n",
              " [13],\n",
              " [13],\n",
              " [13],\n",
              " [13],\n",
              " [13],\n",
              " [13],\n",
              " [13],\n",
              " [13],\n",
              " [13],\n",
              " [13],\n",
              " [13],\n",
              " [3],\n",
              " [3],\n",
              " [3],\n",
              " [3],\n",
              " [3],\n",
              " [3],\n",
              " [3],\n",
              " [3],\n",
              " [3],\n",
              " [3],\n",
              " [3],\n",
              " [3],\n",
              " [3],\n",
              " [3],\n",
              " [3],\n",
              " [15],\n",
              " [15],\n",
              " [8],\n",
              " [8],\n",
              " [8],\n",
              " [8],\n",
              " [8],\n",
              " [8],\n",
              " [8],\n",
              " [8],\n",
              " [8],\n",
              " [8],\n",
              " [8],\n",
              " [8],\n",
              " [1],\n",
              " [1],\n",
              " [1],\n",
              " [1],\n",
              " [1],\n",
              " [1],\n",
              " [1],\n",
              " [1],\n",
              " [1],\n",
              " [1],\n",
              " [1],\n",
              " [1],\n",
              " [1],\n",
              " [1],\n",
              " [1],\n",
              " [1],\n",
              " [1],\n",
              " [1],\n",
              " [1],\n",
              " [1],\n",
              " [1],\n",
              " [5],\n",
              " [5],\n",
              " [5],\n",
              " [5],\n",
              " [5],\n",
              " [5],\n",
              " [5],\n",
              " [5],\n",
              " [12],\n",
              " [12],\n",
              " [12],\n",
              " [9],\n",
              " [9],\n",
              " [14],\n",
              " [14],\n",
              " [14],\n",
              " [14],\n",
              " [2],\n",
              " [2],\n",
              " [2],\n",
              " [2],\n",
              " [2],\n",
              " [2],\n",
              " [2],\n",
              " [2],\n",
              " [16],\n",
              " [13],\n",
              " [13],\n",
              " [13],\n",
              " [13],\n",
              " [13],\n",
              " [13],\n",
              " [13],\n",
              " [13],\n",
              " [13],\n",
              " [13],\n",
              " [13],\n",
              " [13],\n",
              " [13],\n",
              " [13],\n",
              " [3],\n",
              " [3],\n",
              " [3],\n",
              " [3],\n",
              " [3],\n",
              " [3],\n",
              " [3],\n",
              " [3],\n",
              " [3],\n",
              " [3],\n",
              " [3],\n",
              " [3],\n",
              " [3],\n",
              " [3],\n",
              " [3],\n",
              " [3],\n",
              " [15],\n",
              " [8],\n",
              " [8],\n",
              " [8],\n",
              " [8],\n",
              " [8],\n",
              " [8],\n",
              " [8],\n",
              " [8],\n",
              " [8],\n",
              " [8],\n",
              " [8],\n",
              " [1],\n",
              " [1],\n",
              " [1],\n",
              " [1],\n",
              " [1],\n",
              " [1],\n",
              " [1],\n",
              " [1],\n",
              " [1],\n",
              " [1],\n",
              " [1],\n",
              " [1],\n",
              " [1],\n",
              " [1],\n",
              " [1],\n",
              " [5],\n",
              " [5],\n",
              " [5],\n",
              " [5],\n",
              " [5],\n",
              " [5],\n",
              " [5],\n",
              " [5],\n",
              " [5],\n",
              " [12],\n",
              " [9],\n",
              " [9],\n",
              " [9],\n",
              " [14],\n",
              " [14],\n",
              " [2],\n",
              " [2],\n",
              " [2],\n",
              " [2],\n",
              " [2],\n",
              " [2],\n",
              " [2],\n",
              " [16],\n",
              " [13],\n",
              " [13],\n",
              " [13],\n",
              " [13],\n",
              " [13],\n",
              " [13],\n",
              " [13],\n",
              " [13],\n",
              " [13],\n",
              " [3],\n",
              " [3],\n",
              " [3],\n",
              " [3],\n",
              " [3],\n",
              " [3],\n",
              " [3],\n",
              " [3],\n",
              " [3],\n",
              " [3],\n",
              " [3],\n",
              " [3],\n",
              " [3],\n",
              " [3],\n",
              " [15],\n",
              " [8],\n",
              " [8],\n",
              " [8],\n",
              " [8],\n",
              " [8],\n",
              " [8],\n",
              " [8],\n",
              " [8],\n",
              " [8],\n",
              " [8],\n",
              " [8],\n",
              " [8],\n",
              " [8],\n",
              " [8],\n",
              " [8],\n",
              " [8],\n",
              " [8],\n",
              " [8],\n",
              " [8],\n",
              " [8],\n",
              " [1],\n",
              " [1],\n",
              " [1],\n",
              " [1],\n",
              " [1],\n",
              " [1],\n",
              " [1],\n",
              " [1],\n",
              " [1],\n",
              " [1],\n",
              " [1],\n",
              " [1],\n",
              " [1],\n",
              " [1],\n",
              " [1],\n",
              " [5],\n",
              " [5],\n",
              " [5],\n",
              " [5],\n",
              " [5],\n",
              " [5],\n",
              " [5],\n",
              " [5],\n",
              " [5],\n",
              " [5],\n",
              " [12],\n",
              " [9],\n",
              " [9],\n",
              " [9],\n",
              " [14],\n",
              " [14],\n",
              " [14],\n",
              " [14],\n",
              " [2],\n",
              " [2],\n",
              " [2],\n",
              " [2],\n",
              " [2],\n",
              " [2],\n",
              " [2],\n",
              " [2],\n",
              " [2],\n",
              " [2],\n",
              " [16],\n",
              " [16],\n",
              " [13],\n",
              " [13],\n",
              " [13],\n",
              " [13],\n",
              " [13],\n",
              " [13],\n",
              " [13],\n",
              " [13],\n",
              " [13],\n",
              " [13],\n",
              " [3],\n",
              " [3],\n",
              " [3],\n",
              " [3],\n",
              " [3],\n",
              " [3],\n",
              " [3],\n",
              " [3],\n",
              " [3],\n",
              " [3],\n",
              " [3],\n",
              " [3],\n",
              " [3],\n",
              " [3],\n",
              " [3],\n",
              " [3],\n",
              " [3],\n",
              " [15],\n",
              " [8],\n",
              " [8],\n",
              " [8],\n",
              " [8],\n",
              " [8],\n",
              " [8],\n",
              " [8],\n",
              " [8],\n",
              " [8],\n",
              " [1],\n",
              " [1],\n",
              " [1],\n",
              " [1],\n",
              " [1],\n",
              " [1],\n",
              " [1],\n",
              " [1],\n",
              " [1],\n",
              " [1],\n",
              " [1],\n",
              " [1],\n",
              " [1],\n",
              " [1],\n",
              " [1],\n",
              " [1],\n",
              " [1],\n",
              " [1],\n",
              " [1],\n",
              " [1],\n",
              " [5],\n",
              " [5],\n",
              " [5],\n",
              " [5],\n",
              " [5],\n",
              " [5],\n",
              " [5],\n",
              " [5],\n",
              " [5],\n",
              " [5],\n",
              " [12],\n",
              " [12],\n",
              " [9],\n",
              " [9],\n",
              " [9],\n",
              " [9],\n",
              " [14],\n",
              " [2],\n",
              " [2],\n",
              " [2],\n",
              " [2],\n",
              " [2],\n",
              " [2],\n",
              " [2],\n",
              " [16],\n",
              " [16],\n",
              " [13],\n",
              " [13],\n",
              " [13],\n",
              " [13],\n",
              " [13],\n",
              " [13],\n",
              " [13],\n",
              " [3],\n",
              " [3],\n",
              " [3],\n",
              " [3],\n",
              " [3],\n",
              " [3],\n",
              " [3],\n",
              " [3],\n",
              " [3],\n",
              " [3],\n",
              " [3],\n",
              " [3],\n",
              " [15],\n",
              " [8],\n",
              " [8],\n",
              " [8],\n",
              " [8],\n",
              " [8],\n",
              " [8],\n",
              " [8],\n",
              " [8],\n",
              " [8],\n",
              " [8],\n",
              " [8],\n",
              " [8],\n",
              " [8],\n",
              " [8],\n",
              " [1],\n",
              " ...]"
            ]
          },
          "metadata": {},
          "execution_count": 26
        }
      ],
      "source": [
        "category_data"
      ]
    },
    {
      "cell_type": "code",
      "execution_count": 27,
      "metadata": {
        "id": "0bAHkWp5llMe"
      },
      "outputs": [],
      "source": [
        "num_categories = len(category_tokenizer.word_index)+1"
      ]
    },
    {
      "cell_type": "code",
      "execution_count": 28,
      "metadata": {
        "colab": {
          "base_uri": "https://localhost:8080/"
        },
        "id": "X_iHIXFO3r-R",
        "outputId": "be11849d-e7e7-4ae7-be8e-ed5fdcee75f6"
      },
      "outputs": [
        {
          "output_type": "execute_result",
          "data": {
            "text/plain": [
              "83"
            ]
          },
          "metadata": {},
          "execution_count": 28
        }
      ],
      "source": [
        "num_categories"
      ]
    },
    {
      "cell_type": "code",
      "execution_count": 29,
      "metadata": {
        "colab": {
          "base_uri": "https://localhost:8080/"
        },
        "id": "47eNqn81rDpe",
        "outputId": "78666e8d-444d-43b6-836e-cb8048cf390f"
      },
      "outputs": [
        {
          "output_type": "execute_result",
          "data": {
            "text/plain": [
              "{'abksh\\r': 33,\n",
              " 'adabh\\r': 12,\n",
              " 'adarman\\r': 71,\n",
              " 'aeqts\\r': 18,\n",
              " 'akhar\\r': 4,\n",
              " 'art\\r': 60,\n",
              " 'artw\\r': 25,\n",
              " 'axrooz\\r': 36,\n",
              " 'bankb\\r': 28,\n",
              " 'bazar\\r': 43,\n",
              " 'books\\r': 47,\n",
              " 'busiw\\r': 67,\n",
              " 'cartoon\\r': 56,\n",
              " 'cinama\\r': 69,\n",
              " 'cinew\\r': 59,\n",
              " 'city\\r': 52,\n",
              " 'cultw\\r': 24,\n",
              " 'donya\\r': 74,\n",
              " 'earth\\r': 53,\n",
              " 'econo\\r': 41,\n",
              " 'econw\\r': 22,\n",
              " 'ejtem\\r': 9,\n",
              " 'elmfa\\r': 14,\n",
              " 'elmif\\r': 7,\n",
              " 'eqtes\\r': 2,\n",
              " 'eqtsj\\r': 42,\n",
              " 'ertebat\\r': 79,\n",
              " 'erteg\\r': 75,\n",
              " 'gards\\r': 39,\n",
              " 'globa\\r': 54,\n",
              " 'gofgu\\r': 77,\n",
              " 'goftg\\r': 81,\n",
              " 'gozar\\r': 16,\n",
              " 'gqarn\\r': 80,\n",
              " 'gungn\\r': 11,\n",
              " 'hamln\\r': 63,\n",
              " 'havad\\r': 13,\n",
              " 'igozar\\r': 82,\n",
              " 'ikabar\\r': 64,\n",
              " 'imaqal\\r': 76,\n",
              " 'infor\\r': 55,\n",
              " 'intep\\r': 27,\n",
              " 'jjahn\\r': 48,\n",
              " 'jvarz\\r': 21,\n",
              " 'kharj\\r': 3,\n",
              " 'lastp\\r': 46,\n",
              " 'lifew\\r': 34,\n",
              " 'lite\\r': 73,\n",
              " 'maqal\\r': 15,\n",
              " 'maref\\r': 32,\n",
              " 'media\\r': 70,\n",
              " 'mohit\\r': 26,\n",
              " 'mskan\\r': 66,\n",
              " 'musical\\r': 61,\n",
              " 'nameh\\r': 29,\n",
              " 'newsp\\r': 35,\n",
              " 'nnaft\\r': 20,\n",
              " 'norooz\\r': 78,\n",
              " 'polig\\r': 17,\n",
              " 'sanat\\r': 40,\n",
              " 'santj\\r': 31,\n",
              " 'scien\\r': 57,\n",
              " 'sciew\\r': 37,\n",
              " 'shahr\\r': 8,\n",
              " 'shahz\\r': 62,\n",
              " 'shari\\r': 6,\n",
              " 'shora\\r': 30,\n",
              " 'shrst\\r': 10,\n",
              " 'siasi\\r': 1,\n",
              " 'socie\\r': 51,\n",
              " 'soxan\\r': 19,\n",
              " 'sport\\r': 38,\n",
              " 'sporw\\r': 23,\n",
              " 'techn\\r': 49,\n",
              " 'telfn\\r': 50,\n",
              " 'theatre\\r': 72,\n",
              " 'thought\\r': 58,\n",
              " 'vrzsh\\r': 5,\n",
              " 'women\\r': 65,\n",
              " 'ydsht\\r': 45,\n",
              " 'youth\\r': 68,\n",
              " 'zanan\\r': 44}"
            ]
          },
          "metadata": {},
          "execution_count": 29
        }
      ],
      "source": [
        "category_tokenizer.word_index"
      ]
    },
    {
      "cell_type": "code",
      "execution_count": 30,
      "metadata": {
        "id": "h4bYvgsQlv81"
      },
      "outputs": [],
      "source": [
        "Y = [to_categorical(category, num_categories) for category in category_data]"
      ]
    },
    {
      "cell_type": "code",
      "execution_count": 31,
      "metadata": {
        "colab": {
          "base_uri": "https://localhost:8080/"
        },
        "id": "Cu4vTansqy5q",
        "outputId": "c532bf44-7342-472a-e013-33033f98cc55"
      },
      "outputs": [
        {
          "output_type": "execute_result",
          "data": {
            "text/plain": [
              "array([[0., 0., 0., 0., 0., 0., 0., 0., 0., 0., 0., 0., 1., 0., 0., 0.,\n",
              "        0., 0., 0., 0., 0., 0., 0., 0., 0., 0., 0., 0., 0., 0., 0., 0.,\n",
              "        0., 0., 0., 0., 0., 0., 0., 0., 0., 0., 0., 0., 0., 0., 0., 0.,\n",
              "        0., 0., 0., 0., 0., 0., 0., 0., 0., 0., 0., 0., 0., 0., 0., 0.,\n",
              "        0., 0., 0., 0., 0., 0., 0., 0., 0., 0., 0., 0., 0., 0., 0., 0.,\n",
              "        0., 0., 0.]], dtype=float32)"
            ]
          },
          "metadata": {},
          "execution_count": 31
        }
      ],
      "source": [
        "Y[0]"
      ]
    },
    {
      "cell_type": "code",
      "source": [
        "del data"
      ],
      "metadata": {
        "id": "LlncvRie3jp5"
      },
      "execution_count": 32,
      "outputs": []
    },
    {
      "cell_type": "markdown",
      "metadata": {
        "id": "3JVwyf4GlYJ6"
      },
      "source": [
        "**text tokenizer**"
      ]
    },
    {
      "cell_type": "code",
      "execution_count": 33,
      "metadata": {
        "id": "wia-yh_BJFB7"
      },
      "outputs": [],
      "source": [
        "tokenizer = Tokenizer()\n",
        "tokenizer.fit_on_texts(corpus)"
      ]
    },
    {
      "cell_type": "code",
      "execution_count": 34,
      "metadata": {
        "id": "mVWRPrSuLJJv"
      },
      "outputs": [],
      "source": [
        "vocab_size = len(tokenizer.word_index)+1"
      ]
    },
    {
      "cell_type": "code",
      "execution_count": 35,
      "metadata": {
        "id": "GWE8AObkLnO6"
      },
      "outputs": [],
      "source": [
        "data_to_sequences = tokenizer.texts_to_sequences(corpus)"
      ]
    },
    {
      "cell_type": "code",
      "execution_count": 36,
      "metadata": {
        "id": "HsWLJ_ZJLWrm"
      },
      "outputs": [],
      "source": [
        "maxlen = 500\n",
        "pad_data_to_sequences = pad_sequences(data_to_sequences, maxlen = maxlen)"
      ]
    },
    {
      "cell_type": "code",
      "execution_count": 37,
      "metadata": {
        "id": "F93LI94_LeNd"
      },
      "outputs": [],
      "source": [
        "X_train, X_test, y_train, y_test = train_test_split(pad_data_to_sequences, Y, test_size=0.3, random_state=42)"
      ]
    },
    {
      "cell_type": "code",
      "source": [
        "del data_to_sequences\n",
        "del pad_data_to_sequences"
      ],
      "metadata": {
        "id": "Ezl9VKM4-n1C"
      },
      "execution_count": 44,
      "outputs": []
    },
    {
      "cell_type": "markdown",
      "metadata": {
        "id": "lumFq47xm39k"
      },
      "source": [
        "### **Neural Network**"
      ]
    },
    {
      "cell_type": "code",
      "execution_count": 38,
      "metadata": {
        "id": "Df9X8eLpnQ5-"
      },
      "outputs": [],
      "source": [
        "embedding_dim = 50"
      ]
    },
    {
      "cell_type": "code",
      "execution_count": 49,
      "metadata": {
        "id": "ZcK_zO4vMA7R"
      },
      "outputs": [],
      "source": [
        "model = Sequential()\n",
        "model.add(Embedding(vocab_size, embedding_dim, input_length = maxlen))\n",
        "model.add(Conv1D(filters=32, kernel_size=3, padding='same', activation='relu'))\n",
        "model.add(MaxPooling1D(pool_size=2))\n",
        "model.add(LSTM(100))\n",
        "model.add(Dense(num_categories, activation='softmax'))"
      ]
    },
    {
      "cell_type": "code",
      "execution_count": 46,
      "metadata": {
        "id": "-E656tdynsdM"
      },
      "outputs": [],
      "source": [
        "model.compile(loss='categorical_crossentropy', optimizer='adam', metrics=['accuracy'])"
      ]
    },
    {
      "cell_type": "code",
      "execution_count": 47,
      "metadata": {
        "colab": {
          "base_uri": "https://localhost:8080/"
        },
        "id": "k8yTZbfUnzYM",
        "outputId": "e55c8ffd-61e8-4aec-d471-82a2043e854e"
      },
      "outputs": [
        {
          "output_type": "stream",
          "name": "stdout",
          "text": [
            "Model: \"sequential_1\"\n",
            "_________________________________________________________________\n",
            " Layer (type)                Output Shape              Param #   \n",
            "=================================================================\n",
            " embedding_1 (Embedding)     (None, 500, 50)           26069400  \n",
            "                                                                 \n",
            " lstm_1 (LSTM)               (None, 100)               60400     \n",
            "                                                                 \n",
            " dense_1 (Dense)             (None, 83)                8383      \n",
            "                                                                 \n",
            "=================================================================\n",
            "Total params: 26,138,183\n",
            "Trainable params: 26,138,183\n",
            "Non-trainable params: 0\n",
            "_________________________________________________________________\n"
          ]
        }
      ],
      "source": [
        "model.summary()"
      ]
    },
    {
      "cell_type": "code",
      "execution_count": 48,
      "metadata": {
        "colab": {
          "base_uri": "https://localhost:8080/",
          "height": 558
        },
        "id": "p9J8dSqin1pf",
        "outputId": "c593df35-141a-4f83-88ef-592f21414108"
      },
      "outputs": [
        {
          "output_type": "error",
          "ename": "ValueError",
          "evalue": "ignored",
          "traceback": [
            "\u001b[0;31m---------------------------------------------------------------------------\u001b[0m",
            "\u001b[0;31mValueError\u001b[0m                                Traceback (most recent call last)",
            "\u001b[0;32m<ipython-input-48-1ef32d2ed34c>\u001b[0m in \u001b[0;36m<module>\u001b[0;34m()\u001b[0m\n\u001b[0;32m----> 1\u001b[0;31m \u001b[0mhistory\u001b[0m \u001b[0;34m=\u001b[0m \u001b[0mmodel\u001b[0m\u001b[0;34m.\u001b[0m\u001b[0mfit\u001b[0m\u001b[0;34m(\u001b[0m\u001b[0mX_train\u001b[0m\u001b[0;34m,\u001b[0m \u001b[0my_train\u001b[0m\u001b[0;34m,\u001b[0m \u001b[0mvalidation_data\u001b[0m\u001b[0;34m=\u001b[0m\u001b[0;34m(\u001b[0m\u001b[0mX_test\u001b[0m\u001b[0;34m,\u001b[0m \u001b[0my_test\u001b[0m\u001b[0;34m)\u001b[0m\u001b[0;34m,\u001b[0m \u001b[0mepochs\u001b[0m\u001b[0;34m=\u001b[0m\u001b[0;36m20\u001b[0m\u001b[0;34m,\u001b[0m \u001b[0mbatch_size\u001b[0m\u001b[0;34m=\u001b[0m\u001b[0;36m32\u001b[0m\u001b[0;34m)\u001b[0m\u001b[0;34m\u001b[0m\u001b[0;34m\u001b[0m\u001b[0m\n\u001b[0m",
            "\u001b[0;32m/usr/local/lib/python3.7/dist-packages/keras/utils/traceback_utils.py\u001b[0m in \u001b[0;36merror_handler\u001b[0;34m(*args, **kwargs)\u001b[0m\n\u001b[1;32m     65\u001b[0m     \u001b[0;32mexcept\u001b[0m \u001b[0mException\u001b[0m \u001b[0;32mas\u001b[0m \u001b[0me\u001b[0m\u001b[0;34m:\u001b[0m  \u001b[0;31m# pylint: disable=broad-except\u001b[0m\u001b[0;34m\u001b[0m\u001b[0;34m\u001b[0m\u001b[0m\n\u001b[1;32m     66\u001b[0m       \u001b[0mfiltered_tb\u001b[0m \u001b[0;34m=\u001b[0m \u001b[0m_process_traceback_frames\u001b[0m\u001b[0;34m(\u001b[0m\u001b[0me\u001b[0m\u001b[0;34m.\u001b[0m\u001b[0m__traceback__\u001b[0m\u001b[0;34m)\u001b[0m\u001b[0;34m\u001b[0m\u001b[0;34m\u001b[0m\u001b[0m\n\u001b[0;32m---> 67\u001b[0;31m       \u001b[0;32mraise\u001b[0m \u001b[0me\u001b[0m\u001b[0;34m.\u001b[0m\u001b[0mwith_traceback\u001b[0m\u001b[0;34m(\u001b[0m\u001b[0mfiltered_tb\u001b[0m\u001b[0;34m)\u001b[0m \u001b[0;32mfrom\u001b[0m \u001b[0;32mNone\u001b[0m\u001b[0;34m\u001b[0m\u001b[0;34m\u001b[0m\u001b[0m\n\u001b[0m\u001b[1;32m     68\u001b[0m     \u001b[0;32mfinally\u001b[0m\u001b[0;34m:\u001b[0m\u001b[0;34m\u001b[0m\u001b[0;34m\u001b[0m\u001b[0m\n\u001b[1;32m     69\u001b[0m       \u001b[0;32mdel\u001b[0m \u001b[0mfiltered_tb\u001b[0m\u001b[0;34m\u001b[0m\u001b[0;34m\u001b[0m\u001b[0m\n",
            "\u001b[0;32m/usr/local/lib/python3.7/dist-packages/keras/engine/data_adapter.py\u001b[0m in \u001b[0;36m_check_data_cardinality\u001b[0;34m(data)\u001b[0m\n\u001b[1;32m   1651\u001b[0m                            for i in tf.nest.flatten(single_data)))\n\u001b[1;32m   1652\u001b[0m     \u001b[0mmsg\u001b[0m \u001b[0;34m+=\u001b[0m \u001b[0;34m\"Make sure all arrays contain the same number of samples.\"\u001b[0m\u001b[0;34m\u001b[0m\u001b[0;34m\u001b[0m\u001b[0m\n\u001b[0;32m-> 1653\u001b[0;31m     \u001b[0;32mraise\u001b[0m \u001b[0mValueError\u001b[0m\u001b[0;34m(\u001b[0m\u001b[0mmsg\u001b[0m\u001b[0;34m)\u001b[0m\u001b[0;34m\u001b[0m\u001b[0;34m\u001b[0m\u001b[0m\n\u001b[0m\u001b[1;32m   1654\u001b[0m \u001b[0;34m\u001b[0m\u001b[0m\n\u001b[1;32m   1655\u001b[0m \u001b[0;34m\u001b[0m\u001b[0m\n",
            "\u001b[0;31mValueError\u001b[0m: Data cardinality is ambiguous:\n  x sizes: 115656\n  y sizes: 1, 1, 1, 1, 1, 1, 1, 1, 1, 1, 1, 1, 1, 1, 1, 1, 1, 1, 1, 1, 1, 1, 1, 1, 1, 1, 1, 1, 1, 1, 1, 1, 1, 1, 1, 1, 1, 1, 1, 1, 1, 1, 1, 1, 1, 1, 1, 1, 1, 1, 1, 1, 1, 1, 1, 1, 1, 1, 1, 1, 1, 1, 1, 1, 1, 1, 1, 1, 1, 1, 1, 1, 1, 1, 1, 1, 1, 1, 1, 1, 1, 1, 1, 1, 1, 1, 1, 1, 1, 1, 1, 1, 1, 1, 1, 1, 1, 1, 1, 1, 1, 1, 1, 1, 1, 1, 1, 1, 1, 1, 1, 1, 1, 1, 1, 1, 1, 1, 1, 1, 1, 1, 1, 1, 1, 1, 1, 1, 1, 1, 1, 1, 1, 1, 1, 1, 1, 1, 1, 1, 1, 1, 1, 1, 1, 1, 1, 1, 1, 1, 1, 1, 1, 1, 1, 1, 1, 1, 1, 1, 1, 1, 1, 1, 1, 1, 1, 1, 1, 1, 1, 1, 1, 1, 1, 1, 1, 1, 1, 1, 1, 1, 1, 1, 1, 1, 1, 1, 1, 1, 1, 1, 1, 1, 1, 1, 1, 1, 1, 1, 1, 1, 1, 1, 1, 1, 1, 1, 1, 1, 1, 1, 1, 1, 1, 1, 1, 1, 1, 1, 1, 1, 1, 1, 1, 1, 1, 1, 1, 1, 1, 1, 1, 1, 1, 1, 1, 1, 1, 1, 1, 1, 1, 1, 1, 1, 1, 1, 1, 1, 1, 1, 1, 1, 1, 1, 1, 1, 1, 1, 1, 1, 1, 1, 1, 1, 1, 1, 1, 1, 1, 1, 1, 1, 1, 1, 1, 1, 1, 1, 1, 1, 1, 1, 1, 1, 1, 1, 1, 1, 1, 1, 1, 1, 1, 1, 1, 1, 1, 1, 1, 1, 1, 1, 1, 1, 1, 1, 1, 1, 1, 1, 1, 1, 1, 1, 1, 1, 1, 1, 1, 1, 1, 1, 1, 1, 1, 1, 1, 1, 1, 1, 1, 1, 1, 1, 1, 1, 1, 1, 1, 1, 1, 1, 1, 1, 1, 1, 1, 1, 1, 1, 1, 1, 1, 1, 1, 1, 1, 1, 1, 1, 1, 1, 1, 1, 1, 1, 1, 1, 1, 1, 1, 1, 1, 1, 1, 1, 1, 1, 1, 1, 1, 1, 1, 1, 1, 1, 1, 1, 1, 1, 1, 1, 1, 1, 1, 1, 1, 1, 1, 1, 1, 1, 1, 1, 1, 1, 1, 1, 1, 1, 1, 1, 1, 1, 1, 1, 1, 1, 1, 1, 1, 1, 1, 1, 1, 1, 1, 1, 1, 1, 1, 1, 1, 1, 1, 1, 1, 1, 1, 1, 1, 1, 1, 1, 1, 1, 1, 1, 1, 1, 1, 1, 1, 1, 1, 1, 1, 1, 1, 1, 1, 1, 1, 1, 1, 1, 1, 1, 1, 1, 1, 1, 1, 1, 1, 1, 1, 1, 1, 1, 1, 1, 1, 1, 1, 1, 1, 1, 1, 1, 1, 1, 1, 1...\nMake sure all arrays contain the same number of samples."
          ]
        }
      ],
      "source": [
        "history = model.fit(X_train, y_train, validation_data=(X_test, y_test), epochs=20, batch_size=32)"
      ]
    },
    {
      "cell_type": "code",
      "execution_count": 50,
      "metadata": {
        "id": "iAxjBV9zokDR",
        "colab": {
          "base_uri": "https://localhost:8080/"
        },
        "outputId": "adaae0d7-446f-4108-f85b-8f716da0f877"
      },
      "outputs": [
        {
          "output_type": "execute_result",
          "data": {
            "text/plain": [
              "165224"
            ]
          },
          "metadata": {},
          "execution_count": 50
        }
      ],
      "source": [
        "len(Y)"
      ]
    },
    {
      "cell_type": "code",
      "source": [
        "len(X_train)"
      ],
      "metadata": {
        "colab": {
          "base_uri": "https://localhost:8080/"
        },
        "id": "0Ry6gkFq_KT1",
        "outputId": "64465025-0357-40fa-edac-9bd0535768ea"
      },
      "execution_count": 51,
      "outputs": [
        {
          "output_type": "execute_result",
          "data": {
            "text/plain": [
              "115656"
            ]
          },
          "metadata": {},
          "execution_count": 51
        }
      ]
    },
    {
      "cell_type": "code",
      "source": [
        "len(X_test)"
      ],
      "metadata": {
        "colab": {
          "base_uri": "https://localhost:8080/"
        },
        "id": "earvjomw_OS7",
        "outputId": "9727f041-e9c5-4f93-cef9-516d9a6aa177"
      },
      "execution_count": 52,
      "outputs": [
        {
          "output_type": "execute_result",
          "data": {
            "text/plain": [
              "49568"
            ]
          },
          "metadata": {},
          "execution_count": 52
        }
      ]
    },
    {
      "cell_type": "code",
      "source": [
        ""
      ],
      "metadata": {
        "id": "_qMe4oO2_Ugp"
      },
      "execution_count": null,
      "outputs": []
    }
  ],
  "metadata": {
    "colab": {
      "collapsed_sections": [],
      "name": "news_classification.ipynb",
      "provenance": []
    },
    "kernelspec": {
      "display_name": "Python 3",
      "name": "python3"
    },
    "language_info": {
      "name": "python"
    }
  },
  "nbformat": 4,
  "nbformat_minor": 0
}