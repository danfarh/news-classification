{
  "cells": [
    {
      "cell_type": "code",
      "source": [
        "!pip install unrar\n",
        "!pip install rarfile"
      ],
      "metadata": {
        "colab": {
          "base_uri": "https://localhost:8080/"
        },
        "id": "hPDkJqReDb-Q",
        "outputId": "a4b08086-feb5-44fe-8b54-2af1bad2792f"
      },
      "execution_count": 1,
      "outputs": [
        {
          "output_type": "stream",
          "name": "stdout",
          "text": [
            "Looking in indexes: https://pypi.org/simple, https://us-python.pkg.dev/colab-wheels/public/simple/\n",
            "Collecting unrar\n",
            "  Downloading unrar-0.4-py3-none-any.whl (25 kB)\n",
            "Installing collected packages: unrar\n",
            "Successfully installed unrar-0.4\n",
            "Looking in indexes: https://pypi.org/simple, https://us-python.pkg.dev/colab-wheels/public/simple/\n",
            "Collecting rarfile\n",
            "  Downloading rarfile-4.0-py3-none-any.whl (28 kB)\n",
            "Installing collected packages: rarfile\n",
            "Successfully installed rarfile-4.0\n"
          ]
        }
      ]
    },
    {
      "cell_type": "code",
      "execution_count": 2,
      "metadata": {
        "id": "F7nTEAlL5eGx"
      },
      "outputs": [],
      "source": [
        "import pandas as pd\n",
        "import re\n",
        "import rarfile\n",
        "import zipfile\n",
        "import codecs\n",
        "from sklearn.model_selection import train_test_split"
      ]
    },
    {
      "cell_type": "code",
      "source": [
        "from keras.models import Sequential\n",
        "from tensorflow.keras.layers import Dense, Embedding, Conv1D, MaxPool1D, Dropout, MaxPooling1D, LSTM\n",
        "from tensorflow.keras.preprocessing.text import Tokenizer\n",
        "from tensorflow.keras.preprocessing.sequence import pad_sequences\n",
        "from tensorflow.keras.utils import to_categorical"
      ],
      "metadata": {
        "id": "wVflMFa4LAWT"
      },
      "execution_count": 55,
      "outputs": []
    },
    {
      "cell_type": "code",
      "source": [
        "! gdown --id 1D3yt99D0GcCRCbdKbUQGxbqjkeh91hTg"
      ],
      "metadata": {
        "colab": {
          "base_uri": "https://localhost:8080/"
        },
        "id": "KnYcrY2QZPhW",
        "outputId": "b3b67012-fb37-48c6-dd11-3410146cacdc"
      },
      "execution_count": 4,
      "outputs": [
        {
          "output_type": "stream",
          "name": "stdout",
          "text": [
            "/usr/local/lib/python3.7/dist-packages/gdown/cli.py:131: FutureWarning: Option `--id` was deprecated in version 4.3.1 and will be removed in 5.0. You don't need to pass it anymore to use a file ID.\n",
            "  category=FutureWarning,\n",
            "Downloading...\n",
            "From: https://drive.google.com/uc?id=1D3yt99D0GcCRCbdKbUQGxbqjkeh91hTg\n",
            "To: /content/hamshahri.rar\n",
            "100% 873M/873M [00:07<00:00, 118MB/s]\n"
          ]
        }
      ]
    },
    {
      "cell_type": "code",
      "source": [
        "def extract_rar_file(path, extract_path):\n",
        "  files = []\n",
        "  with rarfile.RarFile(path, 'r') as rf:\n",
        "    files = rf.namelist()\n",
        "    rf.extractall(extract_path)\n",
        "    \n",
        "  for file in files:\n",
        "    path_to_file = fr\"{extract_path}\\{file}\"  "
      ],
      "metadata": {
        "id": "xqKmosm4drAw"
      },
      "execution_count": 5,
      "outputs": []
    },
    {
      "cell_type": "code",
      "source": [
        "path = 'hamshahri.rar'\n",
        "extract_path = 'hamshahri'\n",
        "extract_rar_file(path, extract_path)"
      ],
      "metadata": {
        "id": "XIju1ZE6nKFn"
      },
      "execution_count": 6,
      "outputs": []
    },
    {
      "cell_type": "code",
      "source": [
        "def extract_zip_file(path, extract_path):\n",
        "  with zipfile.ZipFile(path, 'r') as zip_ref:\n",
        "      zip_ref.extractall(extract_path)"
      ],
      "metadata": {
        "id": "bPP9yzhgouRg"
      },
      "execution_count": 7,
      "outputs": []
    },
    {
      "cell_type": "code",
      "source": [
        "hamshahri_corpus_path = 'hamshahri/hamshahriold/Corpus/Hamshahri-Corpus.zip'\n",
        "hamshahri_corpus_extract_path = 'hamshahri/hamshahriold/Corpus/hamshahri-corpus'\n",
        "extract_zip_file(hamshahri_corpus_path, hamshahri_corpus_extract_path)"
      ],
      "metadata": {
        "id": "MKq4HZHXnVlG"
      },
      "execution_count": 8,
      "outputs": []
    },
    {
      "cell_type": "code",
      "source": [
        "HAMSHAHRI_CORPUS_PATH = 'hamshahri/hamshahriold/Corpus/hamshahri-corpus/Hamshahri-Corpus.txt'"
      ],
      "metadata": {
        "id": "cxOwU_2hPiV7"
      },
      "execution_count": 9,
      "outputs": []
    },
    {
      "cell_type": "code",
      "source": [
        "%%time\n",
        "with codecs.open(HAMSHAHRI_CORPUS_PATH, \"r\", \"utf-8\") as text:\n",
        "    sentences = []\n",
        "    pattern = re.compile(\".Cat\")\n",
        "    s = ' '\n",
        "    for line in text:\n",
        "      for match in re.finditer(pattern, line):\n",
        "        sentences.append((line,s))\n",
        "        s = ' '\n",
        "      s += line         "
      ],
      "metadata": {
        "colab": {
          "base_uri": "https://localhost:8080/"
        },
        "id": "Epow6ei1EAwv",
        "outputId": "8b66dc9c-fc08-4dbe-c411-a43a292373e3"
      },
      "execution_count": 10,
      "outputs": [
        {
          "output_type": "stream",
          "name": "stdout",
          "text": [
            "CPU times: user 1min, sys: 2.45 s, total: 1min 2s\n",
            "Wall time: 1min 4s\n"
          ]
        }
      ]
    },
    {
      "cell_type": "code",
      "source": [
        "category_punctuation = [re.sub('\\.Cat\\t', '', line[0]) for line in sentences]\n",
        "sentences_punctuation = [line[1].replace('\\n', '') for line in sentences] \n",
        "sentences_punctuation = [line.replace('\\r', '') for line in sentences_punctuation] \n",
        "sentences_punctuation = [re.sub('\\.Cat\\s\\w+', '', sentence) for sentence in sentences_punctuation]\n",
        "sentences_punctuation = [re.sub('\\.DID\\\\t\\d+S\\d+.Date\\\\t\\d+\\\\\\\\\\d+\\\\\\\\\\d+', '', sentence) for sentence in sentences_punctuation]"
      ],
      "metadata": {
        "id": "syJC-30qpp5P"
      },
      "execution_count": 11,
      "outputs": []
    },
    {
      "cell_type": "code",
      "source": [
        "print(sentences_punctuation[1])"
      ],
      "metadata": {
        "colab": {
          "base_uri": "https://localhost:8080/"
        },
        "id": "lAZAiaUCQubQ",
        "outputId": "3f2909d2-9bed-42f6-c1ea-0085377609a7"
      },
      "execution_count": 12,
      "outputs": [
        {
          "output_type": "stream",
          "name": "stdout",
          "text": [
            "  در زندگي گروهي از طريق هنر نگاهي به نمايشگاه آثار هنري احمد طباطبايي موضوع آثار طباطبايي مورچگان هستند ولي در باطن چنين ظاهري، اين انسانهاهستند كه در هيبتي حشره گونه در تابلوهاي نقاشي نمايشگر گوشه هايي از زندگي خود هستند. مورچه اي را ديده ايم كه بار سنگين خودرا به دوش مي كشد و در بين راه خسته مي شود يا در نتيجه پيش آمدن يك حادثه اتفاقي بار از دستش رها شده و براي گريز از خطر آن را مي گذارد و فرار مي كند. اما ساعتي بعد به همان نقطه برمي گردد و بار را دوباره به دوش كشيده نفس زنان و عرق ريزان آن را به منزل او مي رساند مي داند كه اگر در ميان راه از بين رفت، يك مورچه ديگر با همان استعداد غريزه عملي را كه او شروع كرده به پايان مي رساند. پس او مي داند كه بعد از خودش نسل آينده اي وجود دارد كه بايد از مزاياي آن استفاده نمايد. چه داستان درازي، انتها و پاياني هم ميليونها ندارد سال گذشته، ميلياردها سال ديگر خواهد گذشت وهمين برنامه ميليونها بار ديگر تجديد مي شود. پس بايد گفت سير حيات و تكامل پايان ناپذير است. اسرار جهان پاياني ندارد. پس اگر بخواهيم به يك چيز پايان ناپذير برسيم چون انتهايي در بين نيست، به جايي نمي رسيم. (از كتاب مورچگان، نوشته موريس مترلينگ )مورچگان در تابلوهاي نقاشي احمد طباطبايي جايگاه ويژه اي دارند. در نمايشگاهي كه از آثار اين هنرمند (اول تا 23 خرداد ) در نگارخانه برگ برپا شد 36 اثر با اين موضوع به نمايش عمومي درآمد. طباطبايي در مدت 18 سالي كه به نقاشي مي پردازد همواره بر روي موضوع مورچگان كار كرده است. وي درباره علت انتخاب چنين سوژه اي مي گويد: در يكي از روزهاي زندگي خود بسيار غمگين بودم و زماني كه به خواب رفتم، مورچه اي را ديدم. سپس تصميم گرفتم طرح آن را بكشم. اين كار به نظرم جالب آمد و از آن روز به بعد اين نوع طراحي را ادامه دادم كه در هر بار نقاشي در اين مدلها تغييراتي را ايجاد مي كنم، ضمن اينكه اين حشره به دليل زندگي منظمي كه دارد، برايم جذاب است. نظم يكي از اركان آثار نقاشي طباطبايي است. عليرغم موضوعات ساده، تركيببندي دو بعدي و تنوع كم در رنگ آميزي سطوح، استحكام طرحها و نقوش بر روي پرده اثر نشان از نظمي دروني دارد. اين نظم خود را در آناتومي و اندام مورچگان به نوع ديگري نشان مي دهد. مشخصه اصلي مورچگان دست و پا و تقسيم بندي سه گانه بدن آنها است و مهمتر آنكه روي شش دست و پا راه مي روند. اما در نقاشيهاي طباطبايي آنها روي دو پا مثل انسان مي ايستند. سرهايشان بزرگترين اندام بدنشان است و چشمها به طور اغراق آميزي در سرجا گرفته است. هدف نقاش از اين تغييرات در اندام مورچگان؟ چيست باآنكه خود نقاش گفته و از نقاشيها استنباط  مي شود، موضوع آثار طباطبايي مورچگان است اما در باطن چنين ظاهري، اين انسانها هستند كه در هيبتي حشره گونه در تابلوهاي نقاش نمايشگر گوشه هايي از زندگي خود هستند. آنها با اندام سياه خود در زمينه اي خاكستري بادكنكهاي رنگي به دست دارند و عروسي مي كنند. تغيير در اندام مورچگان باعث شده چهره و حالات سر و صورت تنها اندام بازگو كننده احساسات موضوع در تابلوي نقاشي نباشد بلكه تمام بدن اين  مورچه - انسانهاحسي را پديد مي آورند كه در تابلو سايه مي اندازد. احساساتي نظير به دام افتادن در دام يك عنكبوت، مادري كردن، تفاهم و دوستي. نكته ديگر، نقاشي درختان به صورت اسليمي هاي ايراني در حاشيه تابلوها با خطوط و رنگهايي زنده و شاداب است. اين نقشها در تقابل بصري با  مورچه - انسانهاست اما در يك هماهنگي دروني با مفهوم مورچه - انسانها به تصوير كشيده شده اند. رنگهاي شاد سبز با ميوه هاي سرخ، شكل انساني محيط را افزايش مي دهند اما اين مورچگان كه به طور گروهي در اين فضا به سر مي برند، يك اصل را مي دانند; جاودانگي در زندگي گروهي و انتقال احساسات به ديگران از طريق هنر است. همان راهي كه مترلينگ به آن اشاره كرد. \n"
          ]
        }
      ]
    },
    {
      "cell_type": "code",
      "source": [
        "corpus = []\n",
        "for i in range(len(sentences)):\n",
        "  corpus.append({'text': sentences_punctuation[i], 'category': category_punctuation[i-1]})"
      ],
      "metadata": {
        "id": "rchDKH0gtLDb"
      },
      "execution_count": 13,
      "outputs": []
    },
    {
      "cell_type": "code",
      "source": [
        "corpus[1]"
      ],
      "metadata": {
        "colab": {
          "base_uri": "https://localhost:8080/"
        },
        "id": "Q3X_ZiuOtqx0",
        "outputId": "1cd5e54f-0e83-4bcb-d4a2-c790205a42bf"
      },
      "execution_count": 14,
      "outputs": [
        {
          "output_type": "execute_result",
          "data": {
            "text/plain": [
              "{'category': 'adabh\\r\\n',\n",
              " 'text': '  در زندگي گروهي از طريق هنر نگاهي به نمايشگاه آثار هنري احمد طباطبايي موضوع آثار طباطبايي مورچگان هستند ولي در باطن چنين ظاهري، اين انسانهاهستند كه در هيبتي حشره گونه در تابلوهاي نقاشي نمايشگر گوشه هايي از زندگي خود هستند. مورچه اي را ديده ايم كه بار سنگين خودرا به دوش مي كشد و در بين راه خسته مي شود يا در نتيجه پيش آمدن يك حادثه اتفاقي بار از دستش رها شده و براي گريز از خطر آن را مي گذارد و فرار مي كند. اما ساعتي بعد به همان نقطه برمي گردد و بار را دوباره به دوش كشيده نفس زنان و عرق ريزان آن را به منزل او مي رساند مي داند كه اگر در ميان راه از بين رفت، يك مورچه ديگر با همان استعداد غريزه عملي را كه او شروع كرده به پايان مي رساند. پس او مي داند كه بعد از خودش نسل آينده اي وجود دارد كه بايد از مزاياي آن استفاده نمايد. چه داستان درازي، انتها و پاياني هم ميليونها ندارد سال گذشته، ميلياردها سال ديگر خواهد گذشت وهمين برنامه ميليونها بار ديگر تجديد مي شود. پس بايد گفت سير حيات و تكامل پايان ناپذير است. اسرار جهان پاياني ندارد. پس اگر بخواهيم به يك چيز پايان ناپذير برسيم چون انتهايي در بين نيست، به جايي نمي رسيم. (از كتاب مورچگان، نوشته موريس مترلينگ )مورچگان در تابلوهاي نقاشي احمد طباطبايي جايگاه ويژه اي دارند. در نمايشگاهي كه از آثار اين هنرمند (اول تا 23 خرداد ) در نگارخانه برگ برپا شد 36 اثر با اين موضوع به نمايش عمومي درآمد. طباطبايي در مدت 18 سالي كه به نقاشي مي پردازد همواره بر روي موضوع مورچگان كار كرده است. وي درباره علت انتخاب چنين سوژه اي مي گويد: در يكي از روزهاي زندگي خود بسيار غمگين بودم و زماني كه به خواب رفتم، مورچه اي را ديدم. سپس تصميم گرفتم طرح آن را بكشم. اين كار به نظرم جالب آمد و از آن روز به بعد اين نوع طراحي را ادامه دادم كه در هر بار نقاشي در اين مدلها تغييراتي را ايجاد مي كنم، ضمن اينكه اين حشره به دليل زندگي منظمي كه دارد، برايم جذاب است. نظم يكي از اركان آثار نقاشي طباطبايي است. عليرغم موضوعات ساده، تركيببندي دو بعدي و تنوع كم در رنگ آميزي سطوح، استحكام طرحها و نقوش بر روي پرده اثر نشان از نظمي دروني دارد. اين نظم خود را در آناتومي و اندام مورچگان به نوع ديگري نشان مي دهد. مشخصه اصلي مورچگان دست و پا و تقسيم بندي سه گانه بدن آنها است و مهمتر آنكه روي شش دست و پا راه مي روند. اما در نقاشيهاي طباطبايي آنها روي دو پا مثل انسان مي ايستند. سرهايشان بزرگترين اندام بدنشان است و چشمها به طور اغراق آميزي در سرجا گرفته است. هدف نقاش از اين تغييرات در اندام مورچگان؟ چيست باآنكه خود نقاش گفته و از نقاشيها استنباط  مي شود، موضوع آثار طباطبايي مورچگان است اما در باطن چنين ظاهري، اين انسانها هستند كه در هيبتي حشره گونه در تابلوهاي نقاش نمايشگر گوشه هايي از زندگي خود هستند. آنها با اندام سياه خود در زمينه اي خاكستري بادكنكهاي رنگي به دست دارند و عروسي مي كنند. تغيير در اندام مورچگان باعث شده چهره و حالات سر و صورت تنها اندام بازگو كننده احساسات موضوع در تابلوي نقاشي نباشد بلكه تمام بدن اين  مورچه - انسانهاحسي را پديد مي آورند كه در تابلو سايه مي اندازد. احساساتي نظير به دام افتادن در دام يك عنكبوت، مادري كردن، تفاهم و دوستي. نكته ديگر، نقاشي درختان به صورت اسليمي هاي ايراني در حاشيه تابلوها با خطوط و رنگهايي زنده و شاداب است. اين نقشها در تقابل بصري با  مورچه - انسانهاست اما در يك هماهنگي دروني با مفهوم مورچه - انسانها به تصوير كشيده شده اند. رنگهاي شاد سبز با ميوه هاي سرخ، شكل انساني محيط را افزايش مي دهند اما اين مورچگان كه به طور گروهي در اين فضا به سر مي برند، يك اصل را مي دانند; جاودانگي در زندگي گروهي و انتقال احساسات به ديگران از طريق هنر است. همان راهي كه مترلينگ به آن اشاره كرد. '}"
            ]
          },
          "metadata": {},
          "execution_count": 14
        }
      ]
    },
    {
      "cell_type": "code",
      "source": [
        "df = pd.DataFrame(corpus[1:], columns=['text', 'category'])"
      ],
      "metadata": {
        "id": "f2zWs1IsSpdS"
      },
      "execution_count": 15,
      "outputs": []
    },
    {
      "cell_type": "code",
      "source": [
        "df.head()"
      ],
      "metadata": {
        "colab": {
          "base_uri": "https://localhost:8080/",
          "height": 206
        },
        "id": "iiVo_EN97Uyx",
        "outputId": "d2066c9f-5b60-4311-f2b9-a6acc7848405"
      },
      "execution_count": 16,
      "outputs": [
        {
          "output_type": "execute_result",
          "data": {
            "text/plain": [
              "                                                text   category\n",
              "0    در زندگي گروهي از طريق هنر نگاهي به نمايشگاه...  adabh\\r\\n\n",
              "1    هنري جهان نمايشگاه هنر در خدمت ديكتاتورها نم...  adabh\\r\\n\n",
              "2    نگارخانه ها گالري گلستان: نمايشگاه طرح و ساخ...  adabh\\r\\n\n",
              "3    را جدي بگيريم مطالعه اي مقدماتي پيرامون نقش ...  ejtem\\r\\n\n",
              "4    سياه و غباري كه سترده نمي شود... اشاره; به ر...  elmfa\\r\\n"
            ],
            "text/html": [
              "\n",
              "  <div id=\"df-c7a54a92-6c39-4737-8d72-072436736da1\">\n",
              "    <div class=\"colab-df-container\">\n",
              "      <div>\n",
              "<style scoped>\n",
              "    .dataframe tbody tr th:only-of-type {\n",
              "        vertical-align: middle;\n",
              "    }\n",
              "\n",
              "    .dataframe tbody tr th {\n",
              "        vertical-align: top;\n",
              "    }\n",
              "\n",
              "    .dataframe thead th {\n",
              "        text-align: right;\n",
              "    }\n",
              "</style>\n",
              "<table border=\"1\" class=\"dataframe\">\n",
              "  <thead>\n",
              "    <tr style=\"text-align: right;\">\n",
              "      <th></th>\n",
              "      <th>text</th>\n",
              "      <th>category</th>\n",
              "    </tr>\n",
              "  </thead>\n",
              "  <tbody>\n",
              "    <tr>\n",
              "      <th>0</th>\n",
              "      <td>در زندگي گروهي از طريق هنر نگاهي به نمايشگاه...</td>\n",
              "      <td>adabh\\r\\n</td>\n",
              "    </tr>\n",
              "    <tr>\n",
              "      <th>1</th>\n",
              "      <td>هنري جهان نمايشگاه هنر در خدمت ديكتاتورها نم...</td>\n",
              "      <td>adabh\\r\\n</td>\n",
              "    </tr>\n",
              "    <tr>\n",
              "      <th>2</th>\n",
              "      <td>نگارخانه ها گالري گلستان: نمايشگاه طرح و ساخ...</td>\n",
              "      <td>adabh\\r\\n</td>\n",
              "    </tr>\n",
              "    <tr>\n",
              "      <th>3</th>\n",
              "      <td>را جدي بگيريم مطالعه اي مقدماتي پيرامون نقش ...</td>\n",
              "      <td>ejtem\\r\\n</td>\n",
              "    </tr>\n",
              "    <tr>\n",
              "      <th>4</th>\n",
              "      <td>سياه و غباري كه سترده نمي شود... اشاره; به ر...</td>\n",
              "      <td>elmfa\\r\\n</td>\n",
              "    </tr>\n",
              "  </tbody>\n",
              "</table>\n",
              "</div>\n",
              "      <button class=\"colab-df-convert\" onclick=\"convertToInteractive('df-c7a54a92-6c39-4737-8d72-072436736da1')\"\n",
              "              title=\"Convert this dataframe to an interactive table.\"\n",
              "              style=\"display:none;\">\n",
              "        \n",
              "  <svg xmlns=\"http://www.w3.org/2000/svg\" height=\"24px\"viewBox=\"0 0 24 24\"\n",
              "       width=\"24px\">\n",
              "    <path d=\"M0 0h24v24H0V0z\" fill=\"none\"/>\n",
              "    <path d=\"M18.56 5.44l.94 2.06.94-2.06 2.06-.94-2.06-.94-.94-2.06-.94 2.06-2.06.94zm-11 1L8.5 8.5l.94-2.06 2.06-.94-2.06-.94L8.5 2.5l-.94 2.06-2.06.94zm10 10l.94 2.06.94-2.06 2.06-.94-2.06-.94-.94-2.06-.94 2.06-2.06.94z\"/><path d=\"M17.41 7.96l-1.37-1.37c-.4-.4-.92-.59-1.43-.59-.52 0-1.04.2-1.43.59L10.3 9.45l-7.72 7.72c-.78.78-.78 2.05 0 2.83L4 21.41c.39.39.9.59 1.41.59.51 0 1.02-.2 1.41-.59l7.78-7.78 2.81-2.81c.8-.78.8-2.07 0-2.86zM5.41 20L4 18.59l7.72-7.72 1.47 1.35L5.41 20z\"/>\n",
              "  </svg>\n",
              "      </button>\n",
              "      \n",
              "  <style>\n",
              "    .colab-df-container {\n",
              "      display:flex;\n",
              "      flex-wrap:wrap;\n",
              "      gap: 12px;\n",
              "    }\n",
              "\n",
              "    .colab-df-convert {\n",
              "      background-color: #E8F0FE;\n",
              "      border: none;\n",
              "      border-radius: 50%;\n",
              "      cursor: pointer;\n",
              "      display: none;\n",
              "      fill: #1967D2;\n",
              "      height: 32px;\n",
              "      padding: 0 0 0 0;\n",
              "      width: 32px;\n",
              "    }\n",
              "\n",
              "    .colab-df-convert:hover {\n",
              "      background-color: #E2EBFA;\n",
              "      box-shadow: 0px 1px 2px rgba(60, 64, 67, 0.3), 0px 1px 3px 1px rgba(60, 64, 67, 0.15);\n",
              "      fill: #174EA6;\n",
              "    }\n",
              "\n",
              "    [theme=dark] .colab-df-convert {\n",
              "      background-color: #3B4455;\n",
              "      fill: #D2E3FC;\n",
              "    }\n",
              "\n",
              "    [theme=dark] .colab-df-convert:hover {\n",
              "      background-color: #434B5C;\n",
              "      box-shadow: 0px 1px 3px 1px rgba(0, 0, 0, 0.15);\n",
              "      filter: drop-shadow(0px 1px 2px rgba(0, 0, 0, 0.3));\n",
              "      fill: #FFFFFF;\n",
              "    }\n",
              "  </style>\n",
              "\n",
              "      <script>\n",
              "        const buttonEl =\n",
              "          document.querySelector('#df-c7a54a92-6c39-4737-8d72-072436736da1 button.colab-df-convert');\n",
              "        buttonEl.style.display =\n",
              "          google.colab.kernel.accessAllowed ? 'block' : 'none';\n",
              "\n",
              "        async function convertToInteractive(key) {\n",
              "          const element = document.querySelector('#df-c7a54a92-6c39-4737-8d72-072436736da1');\n",
              "          const dataTable =\n",
              "            await google.colab.kernel.invokeFunction('convertToInteractive',\n",
              "                                                     [key], {});\n",
              "          if (!dataTable) return;\n",
              "\n",
              "          const docLinkHtml = 'Like what you see? Visit the ' +\n",
              "            '<a target=\"_blank\" href=https://colab.research.google.com/notebooks/data_table.ipynb>data table notebook</a>'\n",
              "            + ' to learn more about interactive tables.';\n",
              "          element.innerHTML = '';\n",
              "          dataTable['output_type'] = 'display_data';\n",
              "          await google.colab.output.renderOutput(dataTable, element);\n",
              "          const docLink = document.createElement('div');\n",
              "          docLink.innerHTML = docLinkHtml;\n",
              "          element.appendChild(docLink);\n",
              "        }\n",
              "      </script>\n",
              "    </div>\n",
              "  </div>\n",
              "  "
            ]
          },
          "metadata": {},
          "execution_count": 16
        }
      ]
    },
    {
      "cell_type": "code",
      "source": [
        "len(df)"
      ],
      "metadata": {
        "colab": {
          "base_uri": "https://localhost:8080/"
        },
        "id": "bKpTNenxpMse",
        "outputId": "c8af33dc-da45-44f0-b705-cf85b2adaf31"
      },
      "execution_count": 17,
      "outputs": [
        {
          "output_type": "execute_result",
          "data": {
            "text/plain": [
              "165261"
            ]
          },
          "metadata": {},
          "execution_count": 17
        }
      ]
    },
    {
      "cell_type": "code",
      "source": [
        "df.to_csv('data.csv')"
      ],
      "metadata": {
        "id": "SUlje74y5M1f"
      },
      "execution_count": 18,
      "outputs": []
    },
    {
      "cell_type": "markdown",
      "source": [
        "# **Read Dataset**"
      ],
      "metadata": {
        "id": "N23mucIW7X-4"
      }
    },
    {
      "cell_type": "code",
      "source": [
        "data = pd.read_csv('data.csv')"
      ],
      "metadata": {
        "id": "PYrtP5-e7LOd"
      },
      "execution_count": 19,
      "outputs": []
    },
    {
      "cell_type": "code",
      "source": [
        "data = data.iloc[: , 1:]"
      ],
      "metadata": {
        "id": "YkA5kOQK7t67"
      },
      "execution_count": 20,
      "outputs": []
    },
    {
      "cell_type": "code",
      "source": [
        "data.head(3)"
      ],
      "metadata": {
        "colab": {
          "base_uri": "https://localhost:8080/",
          "height": 143
        },
        "id": "4E7l2vw97hin",
        "outputId": "783ef0e1-4895-4cb7-8e25-54b9ad2c20ff"
      },
      "execution_count": 21,
      "outputs": [
        {
          "output_type": "execute_result",
          "data": {
            "text/plain": [
              "                                                text   category\n",
              "0    در زندگي گروهي از طريق هنر نگاهي به نمايشگاه...  adabh\\r\\n\n",
              "1    هنري جهان نمايشگاه هنر در خدمت ديكتاتورها نم...  adabh\\r\\n\n",
              "2    نگارخانه ها گالري گلستان: نمايشگاه طرح و ساخ...  adabh\\r\\n"
            ],
            "text/html": [
              "\n",
              "  <div id=\"df-5d0a11fc-fe10-438f-9b65-3c348d473d5a\">\n",
              "    <div class=\"colab-df-container\">\n",
              "      <div>\n",
              "<style scoped>\n",
              "    .dataframe tbody tr th:only-of-type {\n",
              "        vertical-align: middle;\n",
              "    }\n",
              "\n",
              "    .dataframe tbody tr th {\n",
              "        vertical-align: top;\n",
              "    }\n",
              "\n",
              "    .dataframe thead th {\n",
              "        text-align: right;\n",
              "    }\n",
              "</style>\n",
              "<table border=\"1\" class=\"dataframe\">\n",
              "  <thead>\n",
              "    <tr style=\"text-align: right;\">\n",
              "      <th></th>\n",
              "      <th>text</th>\n",
              "      <th>category</th>\n",
              "    </tr>\n",
              "  </thead>\n",
              "  <tbody>\n",
              "    <tr>\n",
              "      <th>0</th>\n",
              "      <td>در زندگي گروهي از طريق هنر نگاهي به نمايشگاه...</td>\n",
              "      <td>adabh\\r\\n</td>\n",
              "    </tr>\n",
              "    <tr>\n",
              "      <th>1</th>\n",
              "      <td>هنري جهان نمايشگاه هنر در خدمت ديكتاتورها نم...</td>\n",
              "      <td>adabh\\r\\n</td>\n",
              "    </tr>\n",
              "    <tr>\n",
              "      <th>2</th>\n",
              "      <td>نگارخانه ها گالري گلستان: نمايشگاه طرح و ساخ...</td>\n",
              "      <td>adabh\\r\\n</td>\n",
              "    </tr>\n",
              "  </tbody>\n",
              "</table>\n",
              "</div>\n",
              "      <button class=\"colab-df-convert\" onclick=\"convertToInteractive('df-5d0a11fc-fe10-438f-9b65-3c348d473d5a')\"\n",
              "              title=\"Convert this dataframe to an interactive table.\"\n",
              "              style=\"display:none;\">\n",
              "        \n",
              "  <svg xmlns=\"http://www.w3.org/2000/svg\" height=\"24px\"viewBox=\"0 0 24 24\"\n",
              "       width=\"24px\">\n",
              "    <path d=\"M0 0h24v24H0V0z\" fill=\"none\"/>\n",
              "    <path d=\"M18.56 5.44l.94 2.06.94-2.06 2.06-.94-2.06-.94-.94-2.06-.94 2.06-2.06.94zm-11 1L8.5 8.5l.94-2.06 2.06-.94-2.06-.94L8.5 2.5l-.94 2.06-2.06.94zm10 10l.94 2.06.94-2.06 2.06-.94-2.06-.94-.94-2.06-.94 2.06-2.06.94z\"/><path d=\"M17.41 7.96l-1.37-1.37c-.4-.4-.92-.59-1.43-.59-.52 0-1.04.2-1.43.59L10.3 9.45l-7.72 7.72c-.78.78-.78 2.05 0 2.83L4 21.41c.39.39.9.59 1.41.59.51 0 1.02-.2 1.41-.59l7.78-7.78 2.81-2.81c.8-.78.8-2.07 0-2.86zM5.41 20L4 18.59l7.72-7.72 1.47 1.35L5.41 20z\"/>\n",
              "  </svg>\n",
              "      </button>\n",
              "      \n",
              "  <style>\n",
              "    .colab-df-container {\n",
              "      display:flex;\n",
              "      flex-wrap:wrap;\n",
              "      gap: 12px;\n",
              "    }\n",
              "\n",
              "    .colab-df-convert {\n",
              "      background-color: #E8F0FE;\n",
              "      border: none;\n",
              "      border-radius: 50%;\n",
              "      cursor: pointer;\n",
              "      display: none;\n",
              "      fill: #1967D2;\n",
              "      height: 32px;\n",
              "      padding: 0 0 0 0;\n",
              "      width: 32px;\n",
              "    }\n",
              "\n",
              "    .colab-df-convert:hover {\n",
              "      background-color: #E2EBFA;\n",
              "      box-shadow: 0px 1px 2px rgba(60, 64, 67, 0.3), 0px 1px 3px 1px rgba(60, 64, 67, 0.15);\n",
              "      fill: #174EA6;\n",
              "    }\n",
              "\n",
              "    [theme=dark] .colab-df-convert {\n",
              "      background-color: #3B4455;\n",
              "      fill: #D2E3FC;\n",
              "    }\n",
              "\n",
              "    [theme=dark] .colab-df-convert:hover {\n",
              "      background-color: #434B5C;\n",
              "      box-shadow: 0px 1px 3px 1px rgba(0, 0, 0, 0.15);\n",
              "      filter: drop-shadow(0px 1px 2px rgba(0, 0, 0, 0.3));\n",
              "      fill: #FFFFFF;\n",
              "    }\n",
              "  </style>\n",
              "\n",
              "      <script>\n",
              "        const buttonEl =\n",
              "          document.querySelector('#df-5d0a11fc-fe10-438f-9b65-3c348d473d5a button.colab-df-convert');\n",
              "        buttonEl.style.display =\n",
              "          google.colab.kernel.accessAllowed ? 'block' : 'none';\n",
              "\n",
              "        async function convertToInteractive(key) {\n",
              "          const element = document.querySelector('#df-5d0a11fc-fe10-438f-9b65-3c348d473d5a');\n",
              "          const dataTable =\n",
              "            await google.colab.kernel.invokeFunction('convertToInteractive',\n",
              "                                                     [key], {});\n",
              "          if (!dataTable) return;\n",
              "\n",
              "          const docLinkHtml = 'Like what you see? Visit the ' +\n",
              "            '<a target=\"_blank\" href=https://colab.research.google.com/notebooks/data_table.ipynb>data table notebook</a>'\n",
              "            + ' to learn more about interactive tables.';\n",
              "          element.innerHTML = '';\n",
              "          dataTable['output_type'] = 'display_data';\n",
              "          await google.colab.output.renderOutput(dataTable, element);\n",
              "          const docLink = document.createElement('div');\n",
              "          docLink.innerHTML = docLinkHtml;\n",
              "          element.appendChild(docLink);\n",
              "        }\n",
              "      </script>\n",
              "    </div>\n",
              "  </div>\n",
              "  "
            ]
          },
          "metadata": {},
          "execution_count": 21
        }
      ]
    },
    {
      "cell_type": "markdown",
      "source": [
        "### **Read StopWords**"
      ],
      "metadata": {
        "id": "PnX_bv2u8-ip"
      }
    },
    {
      "cell_type": "code",
      "source": [
        "hamshahri_stopwords_path = 'hamshahri/hamshahriold/Corpus/PersianStopWords.zip'\n",
        "hamshahri_stopwords_extract_path = 'hamshahri/hamshahriold/Corpus/hamshahri-stopwords'\n",
        "extract_zip_file(hamshahri_stopwords_path, hamshahri_stopwords_extract_path)\n",
        "HAMSHAHRI_STOPWORDS_PATH = '/content/hamshahri/hamshahriold/Corpus/hamshahri-stopwords/PersianStopWords.txt'"
      ],
      "metadata": {
        "id": "cFgOdUdR-lNp"
      },
      "execution_count": 22,
      "outputs": []
    },
    {
      "cell_type": "code",
      "source": [
        "def read_stop_words(filename):\n",
        "  with open(filename) as stopwords_file:\n",
        "    stopwords = stopwords_file.readlines()\n",
        "  stopwords = [line.replace('\\n', '') for line in stopwords] \n",
        "  return stopwords"
      ],
      "metadata": {
        "id": "OsRDCV_i7i5a"
      },
      "execution_count": 23,
      "outputs": []
    },
    {
      "cell_type": "code",
      "source": [
        "stopwords = read_stop_words(HAMSHAHRI_STOPWORDS_PATH)\n",
        "print(len(stopwords))"
      ],
      "metadata": {
        "colab": {
          "base_uri": "https://localhost:8080/"
        },
        "id": "6JLWBOcL-bLT",
        "outputId": "18f455a6-50e9-4722-d324-09a9b613e55a"
      },
      "execution_count": 24,
      "outputs": [
        {
          "output_type": "stream",
          "name": "stdout",
          "text": [
            "796\n"
          ]
        }
      ]
    },
    {
      "cell_type": "code",
      "source": [
        "# Convert pandas to numpy\n",
        "np_data = data[\"text\"].values"
      ],
      "metadata": {
        "id": "lmKXzzDC-5Nz"
      },
      "execution_count": 25,
      "outputs": []
    },
    {
      "cell_type": "code",
      "source": [
        "np_data[0]"
      ],
      "metadata": {
        "colab": {
          "base_uri": "https://localhost:8080/",
          "height": 127
        },
        "id": "hutOAFADBZFx",
        "outputId": "1afc0712-2f08-42ae-bef2-f704e60876b1"
      },
      "execution_count": 26,
      "outputs": [
        {
          "output_type": "execute_result",
          "data": {
            "text/plain": [
              "'  در زندگي گروهي از طريق هنر نگاهي به نمايشگاه آثار هنري احمد طباطبايي موضوع آثار طباطبايي مورچگان هستند ولي در باطن چنين ظاهري، اين انسانهاهستند كه در هيبتي حشره گونه در تابلوهاي نقاشي نمايشگر گوشه هايي از زندگي خود هستند. مورچه اي را ديده ايم كه بار سنگين خودرا به دوش مي كشد و در بين راه خسته مي شود يا در نتيجه پيش آمدن يك حادثه اتفاقي بار از دستش رها شده و براي گريز از خطر آن را مي گذارد و فرار مي كند. اما ساعتي بعد به همان نقطه برمي گردد و بار را دوباره به دوش كشيده نفس زنان و عرق ريزان آن را به منزل او مي رساند مي داند كه اگر در ميان راه از بين رفت، يك مورچه ديگر با همان استعداد غريزه عملي را كه او شروع كرده به پايان مي رساند. پس او مي داند كه بعد از خودش نسل آينده اي وجود دارد كه بايد از مزاياي آن استفاده نمايد. چه داستان درازي، انتها و پاياني هم ميليونها ندارد سال گذشته، ميلياردها سال ديگر خواهد گذشت وهمين برنامه ميليونها بار ديگر تجديد مي شود. پس بايد گفت سير حيات و تكامل پايان ناپذير است. اسرار جهان پاياني ندارد. پس اگر بخواهيم به يك چيز پايان ناپذير برسيم چون انتهايي در بين نيست، به جايي نمي رسيم. (از كتاب مورچگان، نوشته موريس مترلينگ )مورچگان در تابلوهاي نقاشي احمد طباطبايي جايگاه ويژه اي دارند. در نمايشگاهي كه از آثار اين هنرمند (اول تا 23 خرداد ) در نگارخانه برگ برپا شد 36 اثر با اين موضوع به نمايش عمومي درآمد. طباطبايي در مدت 18 سالي كه به نقاشي مي پردازد همواره بر روي موضوع مورچگان كار كرده است. وي درباره علت انتخاب چنين سوژه اي مي گويد: در يكي از روزهاي زندگي خود بسيار غمگين بودم و زماني كه به خواب رفتم، مورچه اي را ديدم. سپس تصميم گرفتم طرح آن را بكشم. اين كار به نظرم جالب آمد و از آن روز به بعد اين نوع طراحي را ادامه دادم كه در هر بار نقاشي در اين مدلها تغييراتي را ايجاد مي كنم، ضمن اينكه اين حشره به دليل زندگي منظمي كه دارد، برايم جذاب است. نظم يكي از اركان آثار نقاشي طباطبايي است. عليرغم موضوعات ساده، تركيببندي دو بعدي و تنوع كم در رنگ آميزي سطوح، استحكام طرحها و نقوش بر روي پرده اثر نشان از نظمي دروني دارد. اين نظم خود را در آناتومي و اندام مورچگان به نوع ديگري نشان مي دهد. مشخصه اصلي مورچگان دست و پا و تقسيم بندي سه گانه بدن آنها است و مهمتر آنكه روي شش دست و پا راه مي روند. اما در نقاشيهاي طباطبايي آنها روي دو پا مثل انسان مي ايستند. سرهايشان بزرگترين اندام بدنشان است و چشمها به طور اغراق آميزي در سرجا گرفته است. هدف نقاش از اين تغييرات در اندام مورچگان؟ چيست باآنكه خود نقاش گفته و از نقاشيها استنباط  مي شود، موضوع آثار طباطبايي مورچگان است اما در باطن چنين ظاهري، اين انسانها هستند كه در هيبتي حشره گونه در تابلوهاي نقاش نمايشگر گوشه هايي از زندگي خود هستند. آنها با اندام سياه خود در زمينه اي خاكستري بادكنكهاي رنگي به دست دارند و عروسي مي كنند. تغيير در اندام مورچگان باعث شده چهره و حالات سر و صورت تنها اندام بازگو كننده احساسات موضوع در تابلوي نقاشي نباشد بلكه تمام بدن اين  مورچه - انسانهاحسي را پديد مي آورند كه در تابلو سايه مي اندازد. احساساتي نظير به دام افتادن در دام يك عنكبوت، مادري كردن، تفاهم و دوستي. نكته ديگر، نقاشي درختان به صورت اسليمي هاي ايراني در حاشيه تابلوها با خطوط و رنگهايي زنده و شاداب است. اين نقشها در تقابل بصري با  مورچه - انسانهاست اما در يك هماهنگي دروني با مفهوم مورچه - انسانها به تصوير كشيده شده اند. رنگهاي شاد سبز با ميوه هاي سرخ، شكل انساني محيط را افزايش مي دهند اما اين مورچگان كه به طور گروهي در اين فضا به سر مي برند، يك اصل را مي دانند; جاودانگي در زندگي گروهي و انتقال احساسات به ديگران از طريق هنر است. همان راهي كه مترلينگ به آن اشاره كرد. '"
            ],
            "application/vnd.google.colaboratory.intrinsic+json": {
              "type": "string"
            }
          },
          "metadata": {},
          "execution_count": 26
        }
      ]
    },
    {
      "cell_type": "markdown",
      "source": [
        "**Install hazm library**"
      ],
      "metadata": {
        "id": "z9ROe8i0_lMu"
      }
    },
    {
      "cell_type": "code",
      "source": [
        "# install hazm library\n",
        "!pip install hazm\n",
        "from hazm import word_tokenize"
      ],
      "metadata": {
        "colab": {
          "base_uri": "https://localhost:8080/"
        },
        "id": "NS2f2zrq_dZ0",
        "outputId": "fdcc1209-4833-434f-ff76-755aaadc149b"
      },
      "execution_count": 27,
      "outputs": [
        {
          "output_type": "stream",
          "name": "stdout",
          "text": [
            "Looking in indexes: https://pypi.org/simple, https://us-python.pkg.dev/colab-wheels/public/simple/\n",
            "Collecting hazm\n",
            "  Downloading hazm-0.7.0-py3-none-any.whl (316 kB)\n",
            "\u001b[K     |████████████████████████████████| 316 kB 5.1 MB/s \n",
            "\u001b[?25hCollecting libwapiti>=0.2.1\n",
            "  Downloading libwapiti-0.2.1.tar.gz (233 kB)\n",
            "\u001b[K     |████████████████████████████████| 233 kB 45.1 MB/s \n",
            "\u001b[?25hCollecting nltk==3.3\n",
            "  Downloading nltk-3.3.0.zip (1.4 MB)\n",
            "\u001b[K     |████████████████████████████████| 1.4 MB 49.2 MB/s \n",
            "\u001b[?25hRequirement already satisfied: six in /usr/local/lib/python3.7/dist-packages (from nltk==3.3->hazm) (1.15.0)\n",
            "Building wheels for collected packages: nltk, libwapiti\n",
            "  Building wheel for nltk (setup.py) ... \u001b[?25l\u001b[?25hdone\n",
            "  Created wheel for nltk: filename=nltk-3.3-py3-none-any.whl size=1394485 sha256=e50a3d9ee26a0447f99ed19c77d564c1b50c98ea398d6afa3f8efc64e3ffec31\n",
            "  Stored in directory: /root/.cache/pip/wheels/9b/fd/0c/d92302c876e5de87ebd7fc0979d82edb93e2d8d768bf71fac4\n",
            "  Building wheel for libwapiti (setup.py) ... \u001b[?25l\u001b[?25hdone\n",
            "  Created wheel for libwapiti: filename=libwapiti-0.2.1-cp37-cp37m-linux_x86_64.whl size=154942 sha256=967b2c6f318756419d920175cc6413892d84db74ba535082a04e34fc7408a7da\n",
            "  Stored in directory: /root/.cache/pip/wheels/ab/b2/5b/0fe4b8f5c0e65341e8ea7bb3f4a6ebabfe8b1ac31322392dbf\n",
            "Successfully built nltk libwapiti\n",
            "Installing collected packages: nltk, libwapiti, hazm\n",
            "  Attempting uninstall: nltk\n",
            "    Found existing installation: nltk 3.7\n",
            "    Uninstalling nltk-3.7:\n",
            "      Successfully uninstalled nltk-3.7\n",
            "Successfully installed hazm-0.7.0 libwapiti-0.2.1 nltk-3.3\n"
          ]
        }
      ]
    },
    {
      "cell_type": "code",
      "source": [
        "word_tokenized = [word_tokenize(t) for t in np_data]"
      ],
      "metadata": {
        "id": "0UTo9YVx_qPj"
      },
      "execution_count": 28,
      "outputs": []
    },
    {
      "cell_type": "code",
      "source": [
        "word_tokenized_filtered = [[w for w in sentence if w not in stopwords] for sentence in word_tokenized]"
      ],
      "metadata": {
        "id": "Ebp-KL07_vv7"
      },
      "execution_count": 29,
      "outputs": []
    },
    {
      "cell_type": "code",
      "source": [
        "del word_tokenized\n",
        "del np_data"
      ],
      "metadata": {
        "id": "bvixHaaqIb_j"
      },
      "execution_count": 34,
      "outputs": []
    },
    {
      "cell_type": "markdown",
      "source": [
        "**category tokenizaer**"
      ],
      "metadata": {
        "id": "7WlGzPwDlTVl"
      }
    },
    {
      "cell_type": "code",
      "source": [
        "category_tokenizer = Tokenizer()\n",
        "category_tokenizer.fit_on_texts(data['category'])\n",
        "category_data = category_tokenizer.texts_to_sequences(data['category'])"
      ],
      "metadata": {
        "id": "OzePYo8ghWqR"
      },
      "execution_count": 43,
      "outputs": []
    },
    {
      "cell_type": "code",
      "source": [
        "num_categories = len(category_tokenizer.word_index)+1"
      ],
      "metadata": {
        "id": "0bAHkWp5llMe"
      },
      "execution_count": 44,
      "outputs": []
    },
    {
      "cell_type": "code",
      "source": [
        "category_tokenizer.word_index"
      ],
      "metadata": {
        "colab": {
          "base_uri": "https://localhost:8080/"
        },
        "id": "47eNqn81rDpe",
        "outputId": "bcfcc1d7-d538-4379-c244-94e64d171a53"
      },
      "execution_count": 72,
      "outputs": [
        {
          "output_type": "execute_result",
          "data": {
            "text/plain": [
              "{\"'coevulea'\": 173,\n",
              " \"'harrisoniana'\": 141,\n",
              " '1963': 314,\n",
              " '1991': 268,\n",
              " '2001': 210,\n",
              " '216': 233,\n",
              " '22': 115,\n",
              " '267': 236,\n",
              " 'abksh\\r': 33,\n",
              " 'adabh\\r': 12,\n",
              " 'adarman\\r': 71,\n",
              " 'aeqts\\r': 18,\n",
              " 'akhar\\r': 4,\n",
              " 'amethystoglossa': 174,\n",
              " 'art\\r': 60,\n",
              " 'artw\\r': 25,\n",
              " 'aurantiaca': 165,\n",
              " 'axrooz\\r': 36,\n",
              " 'bankb\\r': 28,\n",
              " 'bazar\\r': 43,\n",
              " 'books\\r': 47,\n",
              " 'bowringiana': 112,\n",
              " 'bruchor': 196,\n",
              " 'busiw\\r': 67,\n",
              " 'cartoon\\r': 56,\n",
              " 'cat': 91,\n",
              " 'catagen': 220,\n",
              " 'catalog': 198,\n",
              " 'catalyst': 163,\n",
              " 'cataracts': 252,\n",
              " 'catastrofica': 326,\n",
              " 'catch': 98,\n",
              " 'categorization': 203,\n",
              " 'category': 169,\n",
              " 'cateh': 304,\n",
              " 'catera': 247,\n",
              " 'caterpillars': 182,\n",
              " 'catholic': 123,\n",
              " 'cathy': 205,\n",
              " 'cato': 97,\n",
              " 'cats': 313,\n",
              " 'catskill': 189,\n",
              " 'cattlega': 145,\n",
              " 'cattleya': 88,\n",
              " 'catzung': 235,\n",
              " 'cima': 208,\n",
              " 'cinama\\r': 69,\n",
              " 'cinew\\r': 59,\n",
              " 'city\\r': 52,\n",
              " 'cradle': 312,\n",
              " 'cradleص': 301,\n",
              " 'cts': 245,\n",
              " 'cultw\\r': 24,\n",
              " 'cyclizin': 230,\n",
              " 'donya\\r': 74,\n",
              " 'earth\\r': 53,\n",
              " 'econo\\r': 41,\n",
              " 'econw\\r': 22,\n",
              " 'ejtem\\r': 9,\n",
              " 'elmfa\\r': 14,\n",
              " 'elmif\\r': 7,\n",
              " 'eqtes\\r': 2,\n",
              " 'eqtsj\\r': 42,\n",
              " 'ertebat\\r': 85,\n",
              " 'erteg\\r': 75,\n",
              " 'escalade': 239,\n",
              " 'fallax': 155,\n",
              " 'gards\\r': 39,\n",
              " 'globa\\r': 54,\n",
              " 'gofgu\\r': 79,\n",
              " 'goftg\\r': 93,\n",
              " 'gozar\\r': 16,\n",
              " 'gqarn\\r': 87,\n",
              " 'gungn\\r': 11,\n",
              " 'hamln\\r': 63,\n",
              " 'havad\\r': 13,\n",
              " 'haywaard': 204,\n",
              " 'igozar\\r': 103,\n",
              " 'ikabar\\r': 64,\n",
              " 'imaqal\\r': 77,\n",
              " 'infor\\r': 55,\n",
              " 'insider': 207,\n",
              " 'intep\\r': 27,\n",
              " 'jjahn\\r': 48,\n",
              " 'jvarz\\r': 21,\n",
              " 'kharj\\r': 3,\n",
              " 'lastp\\r': 46,\n",
              " 'layland': 267,\n",
              " 'lescatalinairesكه': 126,\n",
              " 'lifew\\r': 34,\n",
              " 'lite\\r': 73,\n",
              " 'loddigesii': 142,\n",
              " 'maqal\\r': 15,\n",
              " 'maref\\r': 32,\n",
              " 'maxima': 138,\n",
              " 'meclizine': 229,\n",
              " 'media\\r': 70,\n",
              " 'mohit\\r': 26,\n",
              " 'mskan\\r': 66,\n",
              " 'musical\\r': 61,\n",
              " 'nameh\\r': 29,\n",
              " 'newsp\\r': 35,\n",
              " 'nnaft\\r': 20,\n",
              " 'norooz\\r': 84,\n",
              " 'orchidaceae': 108,\n",
              " 'orchidaceae،': 146,\n",
              " 'pharmacology': 234,\n",
              " 'polig\\r': 17,\n",
              " 'poster': 194,\n",
              " 'relief': 341,\n",
              " 's': 302,\n",
              " 'sanat\\r': 40,\n",
              " 'santj\\r': 31,\n",
              " 'scien\\r': 57,\n",
              " 'sciew\\r': 37,\n",
              " 'scratch': 181,\n",
              " 'shahr\\r': 8,\n",
              " 'shahz\\r': 62,\n",
              " 'shari\\r': 6,\n",
              " 'shora\\r': 30,\n",
              " 'shrst\\r': 10,\n",
              " 'siasi\\r': 1,\n",
              " 'snake': 157,\n",
              " 'socie\\r': 51,\n",
              " 'soxan\\r': 19,\n",
              " 'sport\\r': 38,\n",
              " 'sporw\\r': 23,\n",
              " 'suvو،': 240,\n",
              " 'techn\\r': 49,\n",
              " 'technologies': 162,\n",
              " 'telescopusنام،': 156,\n",
              " 'telfn\\r': 50,\n",
              " 'theatre\\r': 72,\n",
              " 'thought\\r': 58,\n",
              " 'violaceae': 144,\n",
              " 'vrzsh\\r': 5,\n",
              " 'vهلر،': 152,\n",
              " 'walkeriana': 154,\n",
              " 'women\\r': 65,\n",
              " 'xai': 325,\n",
              " 'ydsht\\r': 45,\n",
              " 'youth\\r': 68,\n",
              " 'zanan\\r': 44,\n",
              " 'zona': 327,\n",
              " '،': 143,\n",
              " 'آب': 114,\n",
              " 'آبخيز': 188,\n",
              " 'آثار': 150,\n",
              " 'آغاز': 243,\n",
              " 'آگوست': 209,\n",
              " 'اثر': 109,\n",
              " 'احتمالا': 300,\n",
              " 'ادواردز،': 259,\n",
              " 'اردوگاه': 278,\n",
              " 'اركيده': 107,\n",
              " 'از': 94,\n",
              " 'اساس': 180,\n",
              " 'است': 99,\n",
              " 'اشتهاي': 184,\n",
              " 'اصطلاحات': 305,\n",
              " 'اطلاعات': 158,\n",
              " 'افغانستان': 293,\n",
              " 'المللي': 288,\n",
              " 'اما': 280,\n",
              " 'اند': 171,\n",
              " 'اندازه': 334,\n",
              " 'انگليسي': 104,\n",
              " 'اي': 284,\n",
              " 'ايالات': 164,\n",
              " 'اين': 80,\n",
              " 'اينك': 322,\n",
              " 'اپي': 139,\n",
              " 'با': 120,\n",
              " 'بادبان': 296,\n",
              " 'بخشبندي': 199,\n",
              " 'بدان': 172,\n",
              " 'بر': 179,\n",
              " 'برآمدگي': 227,\n",
              " 'براي': 89,\n",
              " 'برجستگي': 223,\n",
              " 'برنامه': 350,\n",
              " 'بروس': 130,\n",
              " 'بسياري': 303,\n",
              " 'بندي': 202,\n",
              " 'به': 81,\n",
              " 'بود': 116,\n",
              " 'بين': 287,\n",
              " 'تا': 264,\n",
              " 'تامين': 192,\n",
              " 'تر': 270,\n",
              " 'تكميل': 347,\n",
              " 'تكنولوژيك': 319,\n",
              " 'تلاش': 349,\n",
              " 'تمام': 254,\n",
              " 'تنها': 335,\n",
              " 'توليدات': 238,\n",
              " 'توماس': 153,\n",
              " 'جام': 266,\n",
              " 'جامعه': 217,\n",
              " 'جانشين': 246,\n",
              " 'جاه': 317,\n",
              " 'جاودانه': 329,\n",
              " 'جايگاه': 282,\n",
              " 'جدول': 232,\n",
              " 'جلدي': 228,\n",
              " 'جلسه': 136,\n",
              " 'جمع': 332,\n",
              " 'جمله': 321,\n",
              " 'جمهوريخواهان': 338,\n",
              " 'جنگ': 292,\n",
              " 'جوزف': 151,\n",
              " 'حاضرند': 279,\n",
              " 'حمايت': 294,\n",
              " 'خاصيت': 237,\n",
              " 'خانواده': 95,\n",
              " 'خواهد': 273,\n",
              " 'خودكشي': 224,\n",
              " 'خوردن': 186,\n",
              " 'داده': 253,\n",
              " 'دارد': 127,\n",
              " 'دارزي،': 147,\n",
              " 'داستان': 133,\n",
              " 'در': 83,\n",
              " 'درباره': 249,\n",
              " 'دردسر': 309,\n",
              " 'دست': 272,\n",
              " 'دفترك،': 195,\n",
              " 'دهد': 310,\n",
              " 'دو': 110,\n",
              " 'دورسته،': 167,\n",
              " 'ديواري': 193,\n",
              " 'ديگر': 276,\n",
              " 'را': 100,\n",
              " 'ردگان،': 166,\n",
              " 'رسان': 344,\n",
              " 'رمان': 125,\n",
              " 'روابط': 286,\n",
              " 'زبان': 128,\n",
              " 'زور': 170,\n",
              " 'زير': 117,\n",
              " 'سايت': 277,\n",
              " 'سلول': 221,\n",
              " 'سني': 177,\n",
              " 'سپتامبر': 262,\n",
              " 'شركتهايي': 160,\n",
              " 'شهر': 190,\n",
              " 'شود': 316,\n",
              " 'صفحه': 118,\n",
              " 'طبق': 231,\n",
              " 'طلبي': 318,\n",
              " 'عامل': 346,\n",
              " 'عامه': 306,\n",
              " 'عجيبي': 185,\n",
              " 'علمي': 82,\n",
              " 'عميقا': 215,\n",
              " 'عنوان': 113,\n",
              " 'غيردولتي': 345,\n",
              " 'فرانسه': 159,\n",
              " 'فريدمان،': 132,\n",
              " 'فقط': 226,\n",
              " 'فورد': 330,\n",
              " 'فيت': 140,\n",
              " 'فيلم': 328,\n",
              " 'قبيل': 339,\n",
              " 'قصه،': 175,\n",
              " 'قهرمان': 265,\n",
              " 'قول': 257,\n",
              " 'قيامتي': 320,\n",
              " 'كاتو': 122,\n",
              " 'كار': 244,\n",
              " 'كارشناس': 260,\n",
              " 'كارنما،': 197,\n",
              " 'كانون': 323,\n",
              " 'كاپولا': 331,\n",
              " 'كتاب': 92,\n",
              " 'كتابهايي': 213,\n",
              " 'كرد': 219,\n",
              " 'كرديم،': 295,\n",
              " 'كرمها،': 183,\n",
              " 'كريس': 258,\n",
              " 'كمك': 343,\n",
              " 'كنند': 225,\n",
              " 'كننده': 348,\n",
              " 'كنيم': 333,\n",
              " 'كه': 86,\n",
              " 'كوچك': 298,\n",
              " 'كيتو': 340,\n",
              " 'ما': 291,\n",
              " 'مانند': 161,\n",
              " 'ماه': 105,\n",
              " 'مبسوط': 271,\n",
              " 'مثال': 149,\n",
              " 'مثال،': 187,\n",
              " 'مجله': 206,\n",
              " 'مدل': 119,\n",
              " 'مدير': 285,\n",
              " 'مرواريد': 250,\n",
              " 'مستمسكي': 263,\n",
              " 'مشكلاتي': 242,\n",
              " 'مصيبت': 324,\n",
              " 'مطرح': 315,\n",
              " 'معنا': 311,\n",
              " 'معناي': 307,\n",
              " 'مقاله': 211,\n",
              " 'مقوله': 111,\n",
              " 'من': 299,\n",
              " 'مورد': 289,\n",
              " 'موسسات': 337,\n",
              " 'موسسه': 102,\n",
              " 'مي': 90,\n",
              " 'ميان،': 281,\n",
              " 'نام': 78,\n",
              " 'ناوگان': 297,\n",
              " 'ندارد': 256,\n",
              " 'نظير': 214,\n",
              " 'نفوذ': 218,\n",
              " 'نهاد': 342,\n",
              " 'نهار': 137,\n",
              " 'نوجوانان': 178,\n",
              " 'نوشتم': 212,\n",
              " 'نويس،': 134,\n",
              " 'نيز': 129,\n",
              " 'نيويورك': 191,\n",
              " 'هاي': 101,\n",
              " 'هر': 135,\n",
              " 'هم': 96,\n",
              " 'همه': 124,\n",
              " 'همچنين': 241,\n",
              " 'و': 76,\n",
              " 'وجدان': 216,\n",
              " 'ويژه': 283,\n",
              " 'يازده،': 261,\n",
              " 'يافت': 274,\n",
              " 'يك': 106,\n",
              " 'يكي': 336,\n",
              " 'پاسخ': 121,\n",
              " 'پايين': 269,\n",
              " 'پردازند': 148,\n",
              " 'پرهون،': 168,\n",
              " 'پرونده': 200,\n",
              " 'پوشانده': 255,\n",
              " 'پوششي': 222,\n",
              " 'پيوند': 275,\n",
              " 'چشم': 251,\n",
              " 'گاي': 131,\n",
              " 'گذاري': 201,\n",
              " 'گرفتاري': 308,\n",
              " 'گروه': 176,\n",
              " 'گوناگون': 248,\n",
              " 'گويد': 290}"
            ]
          },
          "metadata": {},
          "execution_count": 72
        }
      ]
    },
    {
      "cell_type": "code",
      "source": [
        "Y = [to_categorical(category, num_categories) for category in category_data]"
      ],
      "metadata": {
        "id": "h4bYvgsQlv81"
      },
      "execution_count": 45,
      "outputs": []
    },
    {
      "cell_type": "code",
      "source": [
        "Y[0]"
      ],
      "metadata": {
        "colab": {
          "base_uri": "https://localhost:8080/"
        },
        "id": "Cu4vTansqy5q",
        "outputId": "f40dff58-fb17-4332-9fc7-1beb7df0624a"
      },
      "execution_count": 70,
      "outputs": [
        {
          "output_type": "execute_result",
          "data": {
            "text/plain": [
              "array([[0., 0., 0., 0., 0., 0., 0., 0., 0., 0., 0., 0., 1., 0., 0., 0.,\n",
              "        0., 0., 0., 0., 0., 0., 0., 0., 0., 0., 0., 0., 0., 0., 0., 0.,\n",
              "        0., 0., 0., 0., 0., 0., 0., 0., 0., 0., 0., 0., 0., 0., 0., 0.,\n",
              "        0., 0., 0., 0., 0., 0., 0., 0., 0., 0., 0., 0., 0., 0., 0., 0.,\n",
              "        0., 0., 0., 0., 0., 0., 0., 0., 0., 0., 0., 0., 0., 0., 0., 0.,\n",
              "        0., 0., 0., 0., 0., 0., 0., 0., 0., 0., 0., 0., 0., 0., 0., 0.,\n",
              "        0., 0., 0., 0., 0., 0., 0., 0., 0., 0., 0., 0., 0., 0., 0., 0.,\n",
              "        0., 0., 0., 0., 0., 0., 0., 0., 0., 0., 0., 0., 0., 0., 0., 0.,\n",
              "        0., 0., 0., 0., 0., 0., 0., 0., 0., 0., 0., 0., 0., 0., 0., 0.,\n",
              "        0., 0., 0., 0., 0., 0., 0., 0., 0., 0., 0., 0., 0., 0., 0., 0.,\n",
              "        0., 0., 0., 0., 0., 0., 0., 0., 0., 0., 0., 0., 0., 0., 0., 0.,\n",
              "        0., 0., 0., 0., 0., 0., 0., 0., 0., 0., 0., 0., 0., 0., 0., 0.,\n",
              "        0., 0., 0., 0., 0., 0., 0., 0., 0., 0., 0., 0., 0., 0., 0., 0.,\n",
              "        0., 0., 0., 0., 0., 0., 0., 0., 0., 0., 0., 0., 0., 0., 0., 0.,\n",
              "        0., 0., 0., 0., 0., 0., 0., 0., 0., 0., 0., 0., 0., 0., 0., 0.,\n",
              "        0., 0., 0., 0., 0., 0., 0., 0., 0., 0., 0., 0., 0., 0., 0., 0.,\n",
              "        0., 0., 0., 0., 0., 0., 0., 0., 0., 0., 0., 0., 0., 0., 0., 0.,\n",
              "        0., 0., 0., 0., 0., 0., 0., 0., 0., 0., 0., 0., 0., 0., 0., 0.,\n",
              "        0., 0., 0., 0., 0., 0., 0., 0., 0., 0., 0., 0., 0., 0., 0., 0.,\n",
              "        0., 0., 0., 0., 0., 0., 0., 0., 0., 0., 0., 0., 0., 0., 0., 0.,\n",
              "        0., 0., 0., 0., 0., 0., 0., 0., 0., 0., 0., 0., 0., 0., 0., 0.,\n",
              "        0., 0., 0., 0., 0., 0., 0., 0., 0., 0., 0., 0., 0., 0., 0.]],\n",
              "      dtype=float32)"
            ]
          },
          "metadata": {},
          "execution_count": 70
        }
      ]
    },
    {
      "cell_type": "markdown",
      "source": [
        "**text tokenizer**"
      ],
      "metadata": {
        "id": "3JVwyf4GlYJ6"
      }
    },
    {
      "cell_type": "code",
      "source": [
        "tokenizer = Tokenizer()\n",
        "tokenizer.fit_on_texts(word_tokenized_filtered)"
      ],
      "metadata": {
        "id": "wia-yh_BJFB7"
      },
      "execution_count": 48,
      "outputs": []
    },
    {
      "cell_type": "code",
      "source": [
        "vocab_size = len(tokenizer.word_index)+1"
      ],
      "metadata": {
        "id": "mVWRPrSuLJJv"
      },
      "execution_count": 49,
      "outputs": []
    },
    {
      "cell_type": "code",
      "source": [
        "data = tokenizer.texts_to_sequences(word_tokenized_filtered)"
      ],
      "metadata": {
        "id": "GWE8AObkLnO6"
      },
      "execution_count": 50,
      "outputs": []
    },
    {
      "cell_type": "code",
      "source": [
        "maxlen = 500\n",
        "data = pad_sequences(data, maxlen = maxlen)"
      ],
      "metadata": {
        "id": "HsWLJ_ZJLWrm"
      },
      "execution_count": 51,
      "outputs": []
    },
    {
      "cell_type": "code",
      "source": [
        "X_train, X_test, y_train, y_test = train_test_split(data, Y, test_size=0.3, random_state=42)"
      ],
      "metadata": {
        "id": "F93LI94_LeNd"
      },
      "execution_count": 52,
      "outputs": []
    },
    {
      "cell_type": "markdown",
      "source": [
        "### **Neural Network**"
      ],
      "metadata": {
        "id": "lumFq47xm39k"
      }
    },
    {
      "cell_type": "code",
      "source": [
        "embedding_dim = 50"
      ],
      "metadata": {
        "id": "Df9X8eLpnQ5-"
      },
      "execution_count": 57,
      "outputs": []
    },
    {
      "cell_type": "code",
      "source": [
        "model = Sequential()\n",
        "model.add(Embedding(vocab_size, embedding_dim, input_length = maxlen))\n",
        "model.add(Conv1D(filters=32, kernel_size=3, padding='same', activation='relu'))\n",
        "model.add(MaxPooling1D(pool_size=2))\n",
        "model.add(LSTM(100))\n",
        "model.add(Dense(num_categories, activation='softmax'))"
      ],
      "metadata": {
        "id": "ZcK_zO4vMA7R"
      },
      "execution_count": 62,
      "outputs": []
    },
    {
      "cell_type": "code",
      "source": [
        "model.compile(loss='categorical_crossentropy', optimizer='adam', metrics=['accuracy'])"
      ],
      "metadata": {
        "id": "-E656tdynsdM"
      },
      "execution_count": 63,
      "outputs": []
    },
    {
      "cell_type": "code",
      "source": [
        "model.summary()"
      ],
      "metadata": {
        "colab": {
          "base_uri": "https://localhost:8080/"
        },
        "id": "k8yTZbfUnzYM",
        "outputId": "c0125b12-fcdf-4c26-e234-4459c9b9aa63"
      },
      "execution_count": 64,
      "outputs": [
        {
          "output_type": "stream",
          "name": "stdout",
          "text": [
            "Model: \"sequential_2\"\n",
            "_________________________________________________________________\n",
            " Layer (type)                Output Shape              Param #   \n",
            "=================================================================\n",
            " embedding_1 (Embedding)     (None, 500, 50)           27602850  \n",
            "                                                                 \n",
            " conv1d_1 (Conv1D)           (None, 500, 32)           4832      \n",
            "                                                                 \n",
            " max_pooling1d_1 (MaxPooling  (None, 250, 32)          0         \n",
            " 1D)                                                             \n",
            "                                                                 \n",
            " lstm_1 (LSTM)               (None, 100)               53200     \n",
            "                                                                 \n",
            " dense_1 (Dense)             (None, 351)               35451     \n",
            "                                                                 \n",
            "=================================================================\n",
            "Total params: 27,696,333\n",
            "Trainable params: 27,696,333\n",
            "Non-trainable params: 0\n",
            "_________________________________________________________________\n"
          ]
        }
      ]
    },
    {
      "cell_type": "code",
      "source": [
        "history = model.fit(X_train, y_train, validation_data=(X_test, y_test), epochs=20, batch_size=32)"
      ],
      "metadata": {
        "colab": {
          "base_uri": "https://localhost:8080/",
          "height": 558
        },
        "id": "p9J8dSqin1pf",
        "outputId": "bffa871d-8b68-4014-a77c-2f5cc6412387"
      },
      "execution_count": 65,
      "outputs": [
        {
          "output_type": "error",
          "ename": "ValueError",
          "evalue": "ignored",
          "traceback": [
            "\u001b[0;31m---------------------------------------------------------------------------\u001b[0m",
            "\u001b[0;31mValueError\u001b[0m                                Traceback (most recent call last)",
            "\u001b[0;32m<ipython-input-65-1ef32d2ed34c>\u001b[0m in \u001b[0;36m<module>\u001b[0;34m()\u001b[0m\n\u001b[0;32m----> 1\u001b[0;31m \u001b[0mhistory\u001b[0m \u001b[0;34m=\u001b[0m \u001b[0mmodel\u001b[0m\u001b[0;34m.\u001b[0m\u001b[0mfit\u001b[0m\u001b[0;34m(\u001b[0m\u001b[0mX_train\u001b[0m\u001b[0;34m,\u001b[0m \u001b[0my_train\u001b[0m\u001b[0;34m,\u001b[0m \u001b[0mvalidation_data\u001b[0m\u001b[0;34m=\u001b[0m\u001b[0;34m(\u001b[0m\u001b[0mX_test\u001b[0m\u001b[0;34m,\u001b[0m \u001b[0my_test\u001b[0m\u001b[0;34m)\u001b[0m\u001b[0;34m,\u001b[0m \u001b[0mepochs\u001b[0m\u001b[0;34m=\u001b[0m\u001b[0;36m20\u001b[0m\u001b[0;34m,\u001b[0m \u001b[0mbatch_size\u001b[0m\u001b[0;34m=\u001b[0m\u001b[0;36m32\u001b[0m\u001b[0;34m)\u001b[0m\u001b[0;34m\u001b[0m\u001b[0;34m\u001b[0m\u001b[0m\n\u001b[0m",
            "\u001b[0;32m/usr/local/lib/python3.7/dist-packages/keras/utils/traceback_utils.py\u001b[0m in \u001b[0;36merror_handler\u001b[0;34m(*args, **kwargs)\u001b[0m\n\u001b[1;32m     65\u001b[0m     \u001b[0;32mexcept\u001b[0m \u001b[0mException\u001b[0m \u001b[0;32mas\u001b[0m \u001b[0me\u001b[0m\u001b[0;34m:\u001b[0m  \u001b[0;31m# pylint: disable=broad-except\u001b[0m\u001b[0;34m\u001b[0m\u001b[0;34m\u001b[0m\u001b[0m\n\u001b[1;32m     66\u001b[0m       \u001b[0mfiltered_tb\u001b[0m \u001b[0;34m=\u001b[0m \u001b[0m_process_traceback_frames\u001b[0m\u001b[0;34m(\u001b[0m\u001b[0me\u001b[0m\u001b[0;34m.\u001b[0m\u001b[0m__traceback__\u001b[0m\u001b[0;34m)\u001b[0m\u001b[0;34m\u001b[0m\u001b[0;34m\u001b[0m\u001b[0m\n\u001b[0;32m---> 67\u001b[0;31m       \u001b[0;32mraise\u001b[0m \u001b[0me\u001b[0m\u001b[0;34m.\u001b[0m\u001b[0mwith_traceback\u001b[0m\u001b[0;34m(\u001b[0m\u001b[0mfiltered_tb\u001b[0m\u001b[0;34m)\u001b[0m \u001b[0;32mfrom\u001b[0m \u001b[0;32mNone\u001b[0m\u001b[0;34m\u001b[0m\u001b[0;34m\u001b[0m\u001b[0m\n\u001b[0m\u001b[1;32m     68\u001b[0m     \u001b[0;32mfinally\u001b[0m\u001b[0;34m:\u001b[0m\u001b[0;34m\u001b[0m\u001b[0;34m\u001b[0m\u001b[0m\n\u001b[1;32m     69\u001b[0m       \u001b[0;32mdel\u001b[0m \u001b[0mfiltered_tb\u001b[0m\u001b[0;34m\u001b[0m\u001b[0;34m\u001b[0m\u001b[0m\n",
            "\u001b[0;32m/usr/local/lib/python3.7/dist-packages/keras/engine/data_adapter.py\u001b[0m in \u001b[0;36m_check_data_cardinality\u001b[0;34m(data)\u001b[0m\n\u001b[1;32m   1651\u001b[0m                            for i in tf.nest.flatten(single_data)))\n\u001b[1;32m   1652\u001b[0m     \u001b[0mmsg\u001b[0m \u001b[0;34m+=\u001b[0m \u001b[0;34m\"Make sure all arrays contain the same number of samples.\"\u001b[0m\u001b[0;34m\u001b[0m\u001b[0;34m\u001b[0m\u001b[0m\n\u001b[0;32m-> 1653\u001b[0;31m     \u001b[0;32mraise\u001b[0m \u001b[0mValueError\u001b[0m\u001b[0;34m(\u001b[0m\u001b[0mmsg\u001b[0m\u001b[0;34m)\u001b[0m\u001b[0;34m\u001b[0m\u001b[0;34m\u001b[0m\u001b[0m\n\u001b[0m\u001b[1;32m   1654\u001b[0m \u001b[0;34m\u001b[0m\u001b[0m\n\u001b[1;32m   1655\u001b[0m \u001b[0;34m\u001b[0m\u001b[0m\n",
            "\u001b[0;31mValueError\u001b[0m: Data cardinality is ambiguous:\n  x sizes: 115682\n  y sizes: 1, 1, 1, 1, 1, 1, 1, 1, 1, 1, 1, 1, 1, 1, 1, 1, 1, 1, 1, 1, 1, 1, 1, 1, 1, 1, 1, 1, 1, 1, 1, 1, 1, 1, 1, 1, 1, 1, 1, 1, 1, 1, 1, 1, 1, 1, 1, 1, 1, 1, 1, 1, 1, 1, 1, 1, 1, 1, 1, 1, 1, 1, 1, 1, 1, 1, 1, 1, 1, 1, 1, 1, 1, 1, 1, 1, 1, 1, 1, 1, 1, 1, 1, 1, 1, 1, 1, 1, 1, 1, 1, 1, 1, 1, 1, 1, 1, 1, 1, 1, 1, 1, 1, 1, 1, 1, 1, 1, 1, 1, 1, 1, 1, 1, 1, 1, 1, 1, 1, 1, 1, 1, 1, 1, 1, 1, 1, 1, 1, 1, 1, 1, 1, 1, 1, 1, 1, 1, 1, 1, 1, 1, 1, 1, 1, 1, 1, 1, 1, 1, 1, 1, 1, 1, 1, 1, 1, 1, 1, 1, 1, 1, 1, 1, 1, 1, 1, 1, 1, 1, 1, 1, 1, 1, 1, 1, 1, 1, 1, 1, 1, 1, 1, 1, 1, 1, 1, 1, 1, 1, 1, 1, 1, 1, 1, 1, 1, 1, 1, 1, 1, 1, 1, 1, 1, 1, 1, 1, 1, 1, 1, 1, 1, 1, 1, 1, 1, 1, 1, 1, 1, 1, 1, 1, 1, 1, 1, 1, 1, 1, 1, 1, 1, 1, 1, 1, 1, 1, 1, 1, 1, 1, 1, 1, 1, 1, 1, 1, 1, 1, 1, 1, 1, 1, 1, 1, 1, 1, 1, 1, 1, 1, 1, 1, 1, 1, 1, 1, 1, 1, 1, 1, 1, 1, 1, 1, 1, 1, 1, 1, 1, 1, 1, 1, 1, 1, 1, 1, 1, 1, 1, 1, 1, 1, 1, 1, 1, 1, 1, 1, 1, 1, 1, 1, 1, 1, 1, 1, 1, 1, 1, 1, 1, 1, 1, 1, 1, 1, 1, 1, 1, 1, 1, 1, 1, 1, 1, 1, 1, 1, 1, 1, 1, 1, 1, 1, 1, 1, 1, 1, 1, 1, 1, 1, 1, 1, 1, 1, 1, 1, 1, 1, 1, 1, 1, 1, 1, 1, 1, 1, 1, 1, 1, 1, 1, 1, 1, 1, 1, 1, 1, 1, 1, 1, 1, 1, 1, 1, 1, 1, 1, 1, 1, 1, 1, 1, 1, 1, 1, 1, 1, 1, 1, 1, 1, 1, 1, 1, 1, 1, 1, 1, 1, 1, 1, 1, 1, 1, 1, 1, 1, 1, 1, 1, 1, 1, 1, 1, 1, 1, 1, 1, 1, 1, 1, 1, 1, 1, 1, 1, 1, 1, 1, 1, 1, 1, 1, 1, 1, 1, 1, 1, 1, 1, 1, 1, 1, 1, 1, 1, 1, 1, 1, 1, 1, 1, 1, 1, 1, 1, 1, 1, 1, 1, 1, 1, 1, 1, 1, 1, 1, 1, 1, 1, 1, 1, 1, 1, 1, 1, 1, 1, 1, 1, 1, 1, 1, 1, 1, 1, 1, 1, 1, 1, 1, 1...\nMake sure all arrays contain the same number of samples."
          ]
        }
      ]
    },
    {
      "cell_type": "code",
      "source": [
        "del data"
      ],
      "metadata": {
        "id": "KNbqyCBzn-Ta"
      },
      "execution_count": 68,
      "outputs": []
    },
    {
      "cell_type": "code",
      "source": [
        ""
      ],
      "metadata": {
        "id": "iAxjBV9zokDR"
      },
      "execution_count": null,
      "outputs": []
    }
  ],
  "metadata": {
    "colab": {
      "name": "news_classification.ipynb",
      "provenance": [],
      "collapsed_sections": []
    },
    "kernelspec": {
      "display_name": "Python 3",
      "name": "python3"
    },
    "language_info": {
      "name": "python"
    }
  },
  "nbformat": 4,
  "nbformat_minor": 0
}